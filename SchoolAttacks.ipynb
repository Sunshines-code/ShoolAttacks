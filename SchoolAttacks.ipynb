{
 "cells": [
  {
   "cell_type": "code",
   "execution_count": 43,
   "id": "953191eb",
   "metadata": {},
   "outputs": [],
   "source": [
    "# I like working with data that matters and when I bumped into this I couldn't help but see what stories were laying in the data.\n",
    "#I want to rank countries by yearly incidents on a bar graph as well as making a line graph of yearly incidents across the reported data.\n",
    "#the line graph will show if from 2013-2017 incidents and people harmed increased, decreased or stayed the same. \n",
    "import pandas as pd\n",
    "import json\n",
    "import requests\n",
    "from pprint import pprint\n",
    "import plotly.express as px\n"
   ]
  },
  {
   "cell_type": "code",
   "execution_count": 45,
   "id": "6e4c0b2a",
   "metadata": {},
   "outputs": [],
   "source": [
    "#import, clean and group data from the incidents file\n",
    "df = pd.read_csv(f\"./data/incidents.csv\")\n",
    "bdf = pd.DataFrame(df)\n",
    "bdf = bdf.drop(['average', 'Year'], axis=1)\n",
    "bdf = bdf.drop(0, axis=0)\n",
    "bdf['incidents']= bdf['incidents'].astype(float, errors='raise')\n",
    "cincdf = bdf.dropna()\n",
    "incdf = cincdf.groupby(by=\"Country\").mean()\n",
    "incdf = pd.DataFrame(incdf)\n",
    "incdf = incdf.rename(columns={\"incidents\": \"Average Incidents Per Year\"})\n"
   ]
  },
  {
   "cell_type": "code",
   "execution_count": 80,
   "id": "ca7a00cf",
   "metadata": {},
   "outputs": [],
   "source": [
    "#import, clean and group data from the persons harmed file\n",
    "edf = pd.read_csv(f\"./data/persons.csv\")\n",
    "edf = pd.DataFrame(edf)\n",
    "edf = edf.drop('averaged', axis=1)\n",
    "edf = edf.dropna()\n",
    "edf = edf.groupby(by=\"Country\").mean()\n",
    "perdf = pd.DataFrame(edf)\n",
    "perdf = perdf.rename(columns={\"ppl_harmed\": \"Average People Harmed Per Year\"})\n",
    "finaldf = perdf.merge(incdf, on='Country')\n",
    "finaldf = finaldf.sort_values(by='Average Incidents Per Year', ascending = False)\n",
    "finaldf = finaldf.reset_index(drop = False)"
   ]
  },
  {
   "cell_type": "code",
   "execution_count": 78,
   "id": "93bd45b9",
   "metadata": {},
   "outputs": [
    {
     "name": "stderr",
     "output_type": "stream",
     "text": [
      "<ipython-input-78-9a942d6117e9>:7: SettingWithCopyWarning:\n",
      "\n",
      "\n",
      "A value is trying to be set on a copy of a slice from a DataFrame.\n",
      "Try using .loc[row_indexer,col_indexer] = value instead\n",
      "\n",
      "See the caveats in the documentation: https://pandas.pydata.org/pandas-docs/stable/user_guide/indexing.html#returning-a-view-versus-a-copy\n",
      "\n"
     ]
    }
   ],
   "source": [
    "#make yearly df for incidents\n",
    "df = pd.read_csv(f\"./data/incidents.csv\")\n",
    "adf = pd.DataFrame(df)\n",
    "adf = adf.drop(['average', 'Country'], axis=1)\n",
    "adf = adf.drop(0, axis=0)\n",
    "cincdf = adf.dropna()\n",
    "cincdf['incidents']= cincdf['incidents'].astype(float, errors='raise')\n",
    "yrincdf = cincdf.groupby(by=\"Year\").sum()\n",
    "yrincdf = pd.DataFrame(yrincdf)\n",
    "yrincdf = yrincdf.rename(columns={\"incidents\": \"Average Incidents Per Year\"})"
   ]
  },
  {
   "cell_type": "code",
   "execution_count": 87,
   "id": "40c0e438",
   "metadata": {},
   "outputs": [],
   "source": [
    "#make yearly df for people harmed\n",
    "df = pd.read_csv(f\"./data/persons.csv\")\n",
    "adf = pd.DataFrame(df)\n",
    "adf = adf.drop(['averaged', 'Country'], axis=1)\n",
    "cpecdf = adf.dropna()\n",
    "yrpedf = cpecdf.groupby(by=\"Year\").sum()\n",
    "yrpedf = pd.DataFrame(yrpedf)\n",
    "yrpedf = yrpedf.rename(columns={\"ppl_harmed\": \"Average people harmed Per Year\"})\n",
    "YearFinaldf = yrpedf.merge(yrincdf, on='Year')"
   ]
  },
  {
   "cell_type": "code",
   "execution_count": null,
   "id": "10a88db6",
   "metadata": {},
   "outputs": [],
   "source": [
    "#Import population, df = pd.read_csv(f\"./data/popData.csv\")\n",
    "pdf = pd.DataFrame(df)\n",
    "pdf = pdf.drop(['Rank', 'pop2022', 'GrowthRate', 'area', 'Density'], axis=1)\n",
    "pdf = pdf.rename(columns={\"pop2021\": \"Population in Thousands\", 'name':'Country'})\n",
    "pdf.at[116, 'Country'] = 'Democratic Republic of Congo'\n",
    "#pdf.loc[pdf['Country'] == 'Democratic Republic of Congo']\n",
    "\n",
    "popdf = finaldf.merge(pdf, on='Country')\n",
    "popdf[\"Avg Incident Per Thousand People\"]= popdf['Average Incidents Per Year']/popdf['Population in Thousands']\n",
    "popdf = popdf.sort_values(by='Avg Incident Per Thousand People', ascending = False)"
   ]
  },
  {
   "cell_type": "code",
   "execution_count": 85,
   "id": "38970c62",
   "metadata": {},
   "outputs": [
    {
     "data": {
      "application/vnd.plotly.v1+json": {
       "config": {
        "plotlyServerURL": "https://plot.ly"
       },
       "data": [
        {
         "hovertemplate": "variable=Average people harmed Per Year<br>Year=%{x}<br>value=%{y}<extra></extra>",
         "legendgroup": "Average people harmed Per Year",
         "line": {
          "color": "#636efa",
          "dash": "solid"
         },
         "mode": "lines",
         "name": "Average people harmed Per Year",
         "orientation": "v",
         "showlegend": true,
         "type": "scatter",
         "x": [
          "X2013",
          "X2014",
          "X2015",
          "X2016",
          "X2017"
         ],
         "xaxis": "x",
         "y": [
          2600.5,
          3531.5,
          3941.5,
          3560.5,
          3035
         ],
         "yaxis": "y"
        },
        {
         "hovertemplate": "variable=Average Incidents Per Year<br>Year=%{x}<br>value=%{y}<extra></extra>",
         "legendgroup": "Average Incidents Per Year",
         "line": {
          "color": "#EF553B",
          "dash": "solid"
         },
         "mode": "lines",
         "name": "Average Incidents Per Year",
         "orientation": "v",
         "showlegend": true,
         "type": "scatter",
         "x": [
          "X2013",
          "X2014",
          "X2015",
          "X2016",
          "X2017"
         ],
         "xaxis": "x",
         "y": [
          2055.2,
          3334.2,
          2729.2,
          3026.2,
          2497.2
         ],
         "yaxis": "y"
        }
       ],
       "layout": {
        "legend": {
         "title": {
          "text": "variable"
         },
         "tracegroupgap": 0
        },
        "template": {
         "data": {
          "bar": [
           {
            "error_x": {
             "color": "#2a3f5f"
            },
            "error_y": {
             "color": "#2a3f5f"
            },
            "marker": {
             "line": {
              "color": "#E5ECF6",
              "width": 0.5
             }
            },
            "type": "bar"
           }
          ],
          "barpolar": [
           {
            "marker": {
             "line": {
              "color": "#E5ECF6",
              "width": 0.5
             }
            },
            "type": "barpolar"
           }
          ],
          "carpet": [
           {
            "aaxis": {
             "endlinecolor": "#2a3f5f",
             "gridcolor": "white",
             "linecolor": "white",
             "minorgridcolor": "white",
             "startlinecolor": "#2a3f5f"
            },
            "baxis": {
             "endlinecolor": "#2a3f5f",
             "gridcolor": "white",
             "linecolor": "white",
             "minorgridcolor": "white",
             "startlinecolor": "#2a3f5f"
            },
            "type": "carpet"
           }
          ],
          "choropleth": [
           {
            "colorbar": {
             "outlinewidth": 0,
             "ticks": ""
            },
            "type": "choropleth"
           }
          ],
          "contour": [
           {
            "colorbar": {
             "outlinewidth": 0,
             "ticks": ""
            },
            "colorscale": [
             [
              0,
              "#0d0887"
             ],
             [
              0.1111111111111111,
              "#46039f"
             ],
             [
              0.2222222222222222,
              "#7201a8"
             ],
             [
              0.3333333333333333,
              "#9c179e"
             ],
             [
              0.4444444444444444,
              "#bd3786"
             ],
             [
              0.5555555555555556,
              "#d8576b"
             ],
             [
              0.6666666666666666,
              "#ed7953"
             ],
             [
              0.7777777777777778,
              "#fb9f3a"
             ],
             [
              0.8888888888888888,
              "#fdca26"
             ],
             [
              1,
              "#f0f921"
             ]
            ],
            "type": "contour"
           }
          ],
          "contourcarpet": [
           {
            "colorbar": {
             "outlinewidth": 0,
             "ticks": ""
            },
            "type": "contourcarpet"
           }
          ],
          "heatmap": [
           {
            "colorbar": {
             "outlinewidth": 0,
             "ticks": ""
            },
            "colorscale": [
             [
              0,
              "#0d0887"
             ],
             [
              0.1111111111111111,
              "#46039f"
             ],
             [
              0.2222222222222222,
              "#7201a8"
             ],
             [
              0.3333333333333333,
              "#9c179e"
             ],
             [
              0.4444444444444444,
              "#bd3786"
             ],
             [
              0.5555555555555556,
              "#d8576b"
             ],
             [
              0.6666666666666666,
              "#ed7953"
             ],
             [
              0.7777777777777778,
              "#fb9f3a"
             ],
             [
              0.8888888888888888,
              "#fdca26"
             ],
             [
              1,
              "#f0f921"
             ]
            ],
            "type": "heatmap"
           }
          ],
          "heatmapgl": [
           {
            "colorbar": {
             "outlinewidth": 0,
             "ticks": ""
            },
            "colorscale": [
             [
              0,
              "#0d0887"
             ],
             [
              0.1111111111111111,
              "#46039f"
             ],
             [
              0.2222222222222222,
              "#7201a8"
             ],
             [
              0.3333333333333333,
              "#9c179e"
             ],
             [
              0.4444444444444444,
              "#bd3786"
             ],
             [
              0.5555555555555556,
              "#d8576b"
             ],
             [
              0.6666666666666666,
              "#ed7953"
             ],
             [
              0.7777777777777778,
              "#fb9f3a"
             ],
             [
              0.8888888888888888,
              "#fdca26"
             ],
             [
              1,
              "#f0f921"
             ]
            ],
            "type": "heatmapgl"
           }
          ],
          "histogram": [
           {
            "marker": {
             "colorbar": {
              "outlinewidth": 0,
              "ticks": ""
             }
            },
            "type": "histogram"
           }
          ],
          "histogram2d": [
           {
            "colorbar": {
             "outlinewidth": 0,
             "ticks": ""
            },
            "colorscale": [
             [
              0,
              "#0d0887"
             ],
             [
              0.1111111111111111,
              "#46039f"
             ],
             [
              0.2222222222222222,
              "#7201a8"
             ],
             [
              0.3333333333333333,
              "#9c179e"
             ],
             [
              0.4444444444444444,
              "#bd3786"
             ],
             [
              0.5555555555555556,
              "#d8576b"
             ],
             [
              0.6666666666666666,
              "#ed7953"
             ],
             [
              0.7777777777777778,
              "#fb9f3a"
             ],
             [
              0.8888888888888888,
              "#fdca26"
             ],
             [
              1,
              "#f0f921"
             ]
            ],
            "type": "histogram2d"
           }
          ],
          "histogram2dcontour": [
           {
            "colorbar": {
             "outlinewidth": 0,
             "ticks": ""
            },
            "colorscale": [
             [
              0,
              "#0d0887"
             ],
             [
              0.1111111111111111,
              "#46039f"
             ],
             [
              0.2222222222222222,
              "#7201a8"
             ],
             [
              0.3333333333333333,
              "#9c179e"
             ],
             [
              0.4444444444444444,
              "#bd3786"
             ],
             [
              0.5555555555555556,
              "#d8576b"
             ],
             [
              0.6666666666666666,
              "#ed7953"
             ],
             [
              0.7777777777777778,
              "#fb9f3a"
             ],
             [
              0.8888888888888888,
              "#fdca26"
             ],
             [
              1,
              "#f0f921"
             ]
            ],
            "type": "histogram2dcontour"
           }
          ],
          "mesh3d": [
           {
            "colorbar": {
             "outlinewidth": 0,
             "ticks": ""
            },
            "type": "mesh3d"
           }
          ],
          "parcoords": [
           {
            "line": {
             "colorbar": {
              "outlinewidth": 0,
              "ticks": ""
             }
            },
            "type": "parcoords"
           }
          ],
          "pie": [
           {
            "automargin": true,
            "type": "pie"
           }
          ],
          "scatter": [
           {
            "marker": {
             "colorbar": {
              "outlinewidth": 0,
              "ticks": ""
             }
            },
            "type": "scatter"
           }
          ],
          "scatter3d": [
           {
            "line": {
             "colorbar": {
              "outlinewidth": 0,
              "ticks": ""
             }
            },
            "marker": {
             "colorbar": {
              "outlinewidth": 0,
              "ticks": ""
             }
            },
            "type": "scatter3d"
           }
          ],
          "scattercarpet": [
           {
            "marker": {
             "colorbar": {
              "outlinewidth": 0,
              "ticks": ""
             }
            },
            "type": "scattercarpet"
           }
          ],
          "scattergeo": [
           {
            "marker": {
             "colorbar": {
              "outlinewidth": 0,
              "ticks": ""
             }
            },
            "type": "scattergeo"
           }
          ],
          "scattergl": [
           {
            "marker": {
             "colorbar": {
              "outlinewidth": 0,
              "ticks": ""
             }
            },
            "type": "scattergl"
           }
          ],
          "scattermapbox": [
           {
            "marker": {
             "colorbar": {
              "outlinewidth": 0,
              "ticks": ""
             }
            },
            "type": "scattermapbox"
           }
          ],
          "scatterpolar": [
           {
            "marker": {
             "colorbar": {
              "outlinewidth": 0,
              "ticks": ""
             }
            },
            "type": "scatterpolar"
           }
          ],
          "scatterpolargl": [
           {
            "marker": {
             "colorbar": {
              "outlinewidth": 0,
              "ticks": ""
             }
            },
            "type": "scatterpolargl"
           }
          ],
          "scatterternary": [
           {
            "marker": {
             "colorbar": {
              "outlinewidth": 0,
              "ticks": ""
             }
            },
            "type": "scatterternary"
           }
          ],
          "surface": [
           {
            "colorbar": {
             "outlinewidth": 0,
             "ticks": ""
            },
            "colorscale": [
             [
              0,
              "#0d0887"
             ],
             [
              0.1111111111111111,
              "#46039f"
             ],
             [
              0.2222222222222222,
              "#7201a8"
             ],
             [
              0.3333333333333333,
              "#9c179e"
             ],
             [
              0.4444444444444444,
              "#bd3786"
             ],
             [
              0.5555555555555556,
              "#d8576b"
             ],
             [
              0.6666666666666666,
              "#ed7953"
             ],
             [
              0.7777777777777778,
              "#fb9f3a"
             ],
             [
              0.8888888888888888,
              "#fdca26"
             ],
             [
              1,
              "#f0f921"
             ]
            ],
            "type": "surface"
           }
          ],
          "table": [
           {
            "cells": {
             "fill": {
              "color": "#EBF0F8"
             },
             "line": {
              "color": "white"
             }
            },
            "header": {
             "fill": {
              "color": "#C8D4E3"
             },
             "line": {
              "color": "white"
             }
            },
            "type": "table"
           }
          ]
         },
         "layout": {
          "annotationdefaults": {
           "arrowcolor": "#2a3f5f",
           "arrowhead": 0,
           "arrowwidth": 1
          },
          "autotypenumbers": "strict",
          "coloraxis": {
           "colorbar": {
            "outlinewidth": 0,
            "ticks": ""
           }
          },
          "colorscale": {
           "diverging": [
            [
             0,
             "#8e0152"
            ],
            [
             0.1,
             "#c51b7d"
            ],
            [
             0.2,
             "#de77ae"
            ],
            [
             0.3,
             "#f1b6da"
            ],
            [
             0.4,
             "#fde0ef"
            ],
            [
             0.5,
             "#f7f7f7"
            ],
            [
             0.6,
             "#e6f5d0"
            ],
            [
             0.7,
             "#b8e186"
            ],
            [
             0.8,
             "#7fbc41"
            ],
            [
             0.9,
             "#4d9221"
            ],
            [
             1,
             "#276419"
            ]
           ],
           "sequential": [
            [
             0,
             "#0d0887"
            ],
            [
             0.1111111111111111,
             "#46039f"
            ],
            [
             0.2222222222222222,
             "#7201a8"
            ],
            [
             0.3333333333333333,
             "#9c179e"
            ],
            [
             0.4444444444444444,
             "#bd3786"
            ],
            [
             0.5555555555555556,
             "#d8576b"
            ],
            [
             0.6666666666666666,
             "#ed7953"
            ],
            [
             0.7777777777777778,
             "#fb9f3a"
            ],
            [
             0.8888888888888888,
             "#fdca26"
            ],
            [
             1,
             "#f0f921"
            ]
           ],
           "sequentialminus": [
            [
             0,
             "#0d0887"
            ],
            [
             0.1111111111111111,
             "#46039f"
            ],
            [
             0.2222222222222222,
             "#7201a8"
            ],
            [
             0.3333333333333333,
             "#9c179e"
            ],
            [
             0.4444444444444444,
             "#bd3786"
            ],
            [
             0.5555555555555556,
             "#d8576b"
            ],
            [
             0.6666666666666666,
             "#ed7953"
            ],
            [
             0.7777777777777778,
             "#fb9f3a"
            ],
            [
             0.8888888888888888,
             "#fdca26"
            ],
            [
             1,
             "#f0f921"
            ]
           ]
          },
          "colorway": [
           "#636efa",
           "#EF553B",
           "#00cc96",
           "#ab63fa",
           "#FFA15A",
           "#19d3f3",
           "#FF6692",
           "#B6E880",
           "#FF97FF",
           "#FECB52"
          ],
          "font": {
           "color": "#2a3f5f"
          },
          "geo": {
           "bgcolor": "white",
           "lakecolor": "white",
           "landcolor": "#E5ECF6",
           "showlakes": true,
           "showland": true,
           "subunitcolor": "white"
          },
          "hoverlabel": {
           "align": "left"
          },
          "hovermode": "closest",
          "mapbox": {
           "style": "light"
          },
          "paper_bgcolor": "white",
          "plot_bgcolor": "#E5ECF6",
          "polar": {
           "angularaxis": {
            "gridcolor": "white",
            "linecolor": "white",
            "ticks": ""
           },
           "bgcolor": "#E5ECF6",
           "radialaxis": {
            "gridcolor": "white",
            "linecolor": "white",
            "ticks": ""
           }
          },
          "scene": {
           "xaxis": {
            "backgroundcolor": "#E5ECF6",
            "gridcolor": "white",
            "gridwidth": 2,
            "linecolor": "white",
            "showbackground": true,
            "ticks": "",
            "zerolinecolor": "white"
           },
           "yaxis": {
            "backgroundcolor": "#E5ECF6",
            "gridcolor": "white",
            "gridwidth": 2,
            "linecolor": "white",
            "showbackground": true,
            "ticks": "",
            "zerolinecolor": "white"
           },
           "zaxis": {
            "backgroundcolor": "#E5ECF6",
            "gridcolor": "white",
            "gridwidth": 2,
            "linecolor": "white",
            "showbackground": true,
            "ticks": "",
            "zerolinecolor": "white"
           }
          },
          "shapedefaults": {
           "line": {
            "color": "#2a3f5f"
           }
          },
          "ternary": {
           "aaxis": {
            "gridcolor": "white",
            "linecolor": "white",
            "ticks": ""
           },
           "baxis": {
            "gridcolor": "white",
            "linecolor": "white",
            "ticks": ""
           },
           "bgcolor": "#E5ECF6",
           "caxis": {
            "gridcolor": "white",
            "linecolor": "white",
            "ticks": ""
           }
          },
          "title": {
           "x": 0.05
          },
          "xaxis": {
           "automargin": true,
           "gridcolor": "white",
           "linecolor": "white",
           "ticks": "",
           "title": {
            "standoff": 15
           },
           "zerolinecolor": "white",
           "zerolinewidth": 2
          },
          "yaxis": {
           "automargin": true,
           "gridcolor": "white",
           "linecolor": "white",
           "ticks": "",
           "title": {
            "standoff": 15
           },
           "zerolinecolor": "white",
           "zerolinewidth": 2
          }
         }
        },
        "title": {
         "text": "Average people harmed and incidents of school attacks per year"
        },
        "xaxis": {
         "anchor": "y",
         "domain": [
          0,
          1
         ],
         "title": {
          "text": "Year"
         }
        },
        "yaxis": {
         "anchor": "x",
         "domain": [
          0,
          1
         ],
         "title": {
          "text": "value"
         }
        }
       }
      },
      "text/html": [
       "<div>                            <div id=\"91f366bd-24af-4816-9b51-3df4ac475cbb\" class=\"plotly-graph-div\" style=\"height:525px; width:100%;\"></div>            <script type=\"text/javascript\">                require([\"plotly\"], function(Plotly) {                    window.PLOTLYENV=window.PLOTLYENV || {};                                    if (document.getElementById(\"91f366bd-24af-4816-9b51-3df4ac475cbb\")) {                    Plotly.newPlot(                        \"91f366bd-24af-4816-9b51-3df4ac475cbb\",                        [{\"hovertemplate\": \"variable=Average people harmed Per Year<br>Year=%{x}<br>value=%{y}<extra></extra>\", \"legendgroup\": \"Average people harmed Per Year\", \"line\": {\"color\": \"#636efa\", \"dash\": \"solid\"}, \"mode\": \"lines\", \"name\": \"Average people harmed Per Year\", \"orientation\": \"v\", \"showlegend\": true, \"type\": \"scatter\", \"x\": [\"X2013\", \"X2014\", \"X2015\", \"X2016\", \"X2017\"], \"xaxis\": \"x\", \"y\": [2600.5, 3531.5, 3941.5, 3560.5, 3035.0], \"yaxis\": \"y\"}, {\"hovertemplate\": \"variable=Average Incidents Per Year<br>Year=%{x}<br>value=%{y}<extra></extra>\", \"legendgroup\": \"Average Incidents Per Year\", \"line\": {\"color\": \"#EF553B\", \"dash\": \"solid\"}, \"mode\": \"lines\", \"name\": \"Average Incidents Per Year\", \"orientation\": \"v\", \"showlegend\": true, \"type\": \"scatter\", \"x\": [\"X2013\", \"X2014\", \"X2015\", \"X2016\", \"X2017\"], \"xaxis\": \"x\", \"y\": [2055.2, 3334.2, 2729.2, 3026.2, 2497.2], \"yaxis\": \"y\"}],                        {\"legend\": {\"title\": {\"text\": \"variable\"}, \"tracegroupgap\": 0}, \"template\": {\"data\": {\"bar\": [{\"error_x\": {\"color\": \"#2a3f5f\"}, \"error_y\": {\"color\": \"#2a3f5f\"}, \"marker\": {\"line\": {\"color\": \"#E5ECF6\", \"width\": 0.5}}, \"type\": \"bar\"}], \"barpolar\": [{\"marker\": {\"line\": {\"color\": \"#E5ECF6\", \"width\": 0.5}}, \"type\": \"barpolar\"}], \"carpet\": [{\"aaxis\": {\"endlinecolor\": \"#2a3f5f\", \"gridcolor\": \"white\", \"linecolor\": \"white\", \"minorgridcolor\": \"white\", \"startlinecolor\": \"#2a3f5f\"}, \"baxis\": {\"endlinecolor\": \"#2a3f5f\", \"gridcolor\": \"white\", \"linecolor\": \"white\", \"minorgridcolor\": \"white\", \"startlinecolor\": \"#2a3f5f\"}, \"type\": \"carpet\"}], \"choropleth\": [{\"colorbar\": {\"outlinewidth\": 0, \"ticks\": \"\"}, \"type\": \"choropleth\"}], \"contour\": [{\"colorbar\": {\"outlinewidth\": 0, \"ticks\": \"\"}, \"colorscale\": [[0.0, \"#0d0887\"], [0.1111111111111111, \"#46039f\"], [0.2222222222222222, \"#7201a8\"], [0.3333333333333333, \"#9c179e\"], [0.4444444444444444, \"#bd3786\"], [0.5555555555555556, \"#d8576b\"], [0.6666666666666666, \"#ed7953\"], [0.7777777777777778, \"#fb9f3a\"], [0.8888888888888888, \"#fdca26\"], [1.0, \"#f0f921\"]], \"type\": \"contour\"}], \"contourcarpet\": [{\"colorbar\": {\"outlinewidth\": 0, \"ticks\": \"\"}, \"type\": \"contourcarpet\"}], \"heatmap\": [{\"colorbar\": {\"outlinewidth\": 0, \"ticks\": \"\"}, \"colorscale\": [[0.0, \"#0d0887\"], [0.1111111111111111, \"#46039f\"], [0.2222222222222222, \"#7201a8\"], [0.3333333333333333, \"#9c179e\"], [0.4444444444444444, \"#bd3786\"], [0.5555555555555556, \"#d8576b\"], [0.6666666666666666, \"#ed7953\"], [0.7777777777777778, \"#fb9f3a\"], [0.8888888888888888, \"#fdca26\"], [1.0, \"#f0f921\"]], \"type\": \"heatmap\"}], \"heatmapgl\": [{\"colorbar\": {\"outlinewidth\": 0, \"ticks\": \"\"}, \"colorscale\": [[0.0, \"#0d0887\"], [0.1111111111111111, \"#46039f\"], [0.2222222222222222, \"#7201a8\"], [0.3333333333333333, \"#9c179e\"], [0.4444444444444444, \"#bd3786\"], [0.5555555555555556, \"#d8576b\"], [0.6666666666666666, \"#ed7953\"], [0.7777777777777778, \"#fb9f3a\"], [0.8888888888888888, \"#fdca26\"], [1.0, \"#f0f921\"]], \"type\": \"heatmapgl\"}], \"histogram\": [{\"marker\": {\"colorbar\": {\"outlinewidth\": 0, \"ticks\": \"\"}}, \"type\": \"histogram\"}], \"histogram2d\": [{\"colorbar\": {\"outlinewidth\": 0, \"ticks\": \"\"}, \"colorscale\": [[0.0, \"#0d0887\"], [0.1111111111111111, \"#46039f\"], [0.2222222222222222, \"#7201a8\"], [0.3333333333333333, \"#9c179e\"], [0.4444444444444444, \"#bd3786\"], [0.5555555555555556, \"#d8576b\"], [0.6666666666666666, \"#ed7953\"], [0.7777777777777778, \"#fb9f3a\"], [0.8888888888888888, \"#fdca26\"], [1.0, \"#f0f921\"]], \"type\": \"histogram2d\"}], \"histogram2dcontour\": [{\"colorbar\": {\"outlinewidth\": 0, \"ticks\": \"\"}, \"colorscale\": [[0.0, \"#0d0887\"], [0.1111111111111111, \"#46039f\"], [0.2222222222222222, \"#7201a8\"], [0.3333333333333333, \"#9c179e\"], [0.4444444444444444, \"#bd3786\"], [0.5555555555555556, \"#d8576b\"], [0.6666666666666666, \"#ed7953\"], [0.7777777777777778, \"#fb9f3a\"], [0.8888888888888888, \"#fdca26\"], [1.0, \"#f0f921\"]], \"type\": \"histogram2dcontour\"}], \"mesh3d\": [{\"colorbar\": {\"outlinewidth\": 0, \"ticks\": \"\"}, \"type\": \"mesh3d\"}], \"parcoords\": [{\"line\": {\"colorbar\": {\"outlinewidth\": 0, \"ticks\": \"\"}}, \"type\": \"parcoords\"}], \"pie\": [{\"automargin\": true, \"type\": \"pie\"}], \"scatter\": [{\"marker\": {\"colorbar\": {\"outlinewidth\": 0, \"ticks\": \"\"}}, \"type\": \"scatter\"}], \"scatter3d\": [{\"line\": {\"colorbar\": {\"outlinewidth\": 0, \"ticks\": \"\"}}, \"marker\": {\"colorbar\": {\"outlinewidth\": 0, \"ticks\": \"\"}}, \"type\": \"scatter3d\"}], \"scattercarpet\": [{\"marker\": {\"colorbar\": {\"outlinewidth\": 0, \"ticks\": \"\"}}, \"type\": \"scattercarpet\"}], \"scattergeo\": [{\"marker\": {\"colorbar\": {\"outlinewidth\": 0, \"ticks\": \"\"}}, \"type\": \"scattergeo\"}], \"scattergl\": [{\"marker\": {\"colorbar\": {\"outlinewidth\": 0, \"ticks\": \"\"}}, \"type\": \"scattergl\"}], \"scattermapbox\": [{\"marker\": {\"colorbar\": {\"outlinewidth\": 0, \"ticks\": \"\"}}, \"type\": \"scattermapbox\"}], \"scatterpolar\": [{\"marker\": {\"colorbar\": {\"outlinewidth\": 0, \"ticks\": \"\"}}, \"type\": \"scatterpolar\"}], \"scatterpolargl\": [{\"marker\": {\"colorbar\": {\"outlinewidth\": 0, \"ticks\": \"\"}}, \"type\": \"scatterpolargl\"}], \"scatterternary\": [{\"marker\": {\"colorbar\": {\"outlinewidth\": 0, \"ticks\": \"\"}}, \"type\": \"scatterternary\"}], \"surface\": [{\"colorbar\": {\"outlinewidth\": 0, \"ticks\": \"\"}, \"colorscale\": [[0.0, \"#0d0887\"], [0.1111111111111111, \"#46039f\"], [0.2222222222222222, \"#7201a8\"], [0.3333333333333333, \"#9c179e\"], [0.4444444444444444, \"#bd3786\"], [0.5555555555555556, \"#d8576b\"], [0.6666666666666666, \"#ed7953\"], [0.7777777777777778, \"#fb9f3a\"], [0.8888888888888888, \"#fdca26\"], [1.0, \"#f0f921\"]], \"type\": \"surface\"}], \"table\": [{\"cells\": {\"fill\": {\"color\": \"#EBF0F8\"}, \"line\": {\"color\": \"white\"}}, \"header\": {\"fill\": {\"color\": \"#C8D4E3\"}, \"line\": {\"color\": \"white\"}}, \"type\": \"table\"}]}, \"layout\": {\"annotationdefaults\": {\"arrowcolor\": \"#2a3f5f\", \"arrowhead\": 0, \"arrowwidth\": 1}, \"autotypenumbers\": \"strict\", \"coloraxis\": {\"colorbar\": {\"outlinewidth\": 0, \"ticks\": \"\"}}, \"colorscale\": {\"diverging\": [[0, \"#8e0152\"], [0.1, \"#c51b7d\"], [0.2, \"#de77ae\"], [0.3, \"#f1b6da\"], [0.4, \"#fde0ef\"], [0.5, \"#f7f7f7\"], [0.6, \"#e6f5d0\"], [0.7, \"#b8e186\"], [0.8, \"#7fbc41\"], [0.9, \"#4d9221\"], [1, \"#276419\"]], \"sequential\": [[0.0, \"#0d0887\"], [0.1111111111111111, \"#46039f\"], [0.2222222222222222, \"#7201a8\"], [0.3333333333333333, \"#9c179e\"], [0.4444444444444444, \"#bd3786\"], [0.5555555555555556, \"#d8576b\"], [0.6666666666666666, \"#ed7953\"], [0.7777777777777778, \"#fb9f3a\"], [0.8888888888888888, \"#fdca26\"], [1.0, \"#f0f921\"]], \"sequentialminus\": [[0.0, \"#0d0887\"], [0.1111111111111111, \"#46039f\"], [0.2222222222222222, \"#7201a8\"], [0.3333333333333333, \"#9c179e\"], [0.4444444444444444, \"#bd3786\"], [0.5555555555555556, \"#d8576b\"], [0.6666666666666666, \"#ed7953\"], [0.7777777777777778, \"#fb9f3a\"], [0.8888888888888888, \"#fdca26\"], [1.0, \"#f0f921\"]]}, \"colorway\": [\"#636efa\", \"#EF553B\", \"#00cc96\", \"#ab63fa\", \"#FFA15A\", \"#19d3f3\", \"#FF6692\", \"#B6E880\", \"#FF97FF\", \"#FECB52\"], \"font\": {\"color\": \"#2a3f5f\"}, \"geo\": {\"bgcolor\": \"white\", \"lakecolor\": \"white\", \"landcolor\": \"#E5ECF6\", \"showlakes\": true, \"showland\": true, \"subunitcolor\": \"white\"}, \"hoverlabel\": {\"align\": \"left\"}, \"hovermode\": \"closest\", \"mapbox\": {\"style\": \"light\"}, \"paper_bgcolor\": \"white\", \"plot_bgcolor\": \"#E5ECF6\", \"polar\": {\"angularaxis\": {\"gridcolor\": \"white\", \"linecolor\": \"white\", \"ticks\": \"\"}, \"bgcolor\": \"#E5ECF6\", \"radialaxis\": {\"gridcolor\": \"white\", \"linecolor\": \"white\", \"ticks\": \"\"}}, \"scene\": {\"xaxis\": {\"backgroundcolor\": \"#E5ECF6\", \"gridcolor\": \"white\", \"gridwidth\": 2, \"linecolor\": \"white\", \"showbackground\": true, \"ticks\": \"\", \"zerolinecolor\": \"white\"}, \"yaxis\": {\"backgroundcolor\": \"#E5ECF6\", \"gridcolor\": \"white\", \"gridwidth\": 2, \"linecolor\": \"white\", \"showbackground\": true, \"ticks\": \"\", \"zerolinecolor\": \"white\"}, \"zaxis\": {\"backgroundcolor\": \"#E5ECF6\", \"gridcolor\": \"white\", \"gridwidth\": 2, \"linecolor\": \"white\", \"showbackground\": true, \"ticks\": \"\", \"zerolinecolor\": \"white\"}}, \"shapedefaults\": {\"line\": {\"color\": \"#2a3f5f\"}}, \"ternary\": {\"aaxis\": {\"gridcolor\": \"white\", \"linecolor\": \"white\", \"ticks\": \"\"}, \"baxis\": {\"gridcolor\": \"white\", \"linecolor\": \"white\", \"ticks\": \"\"}, \"bgcolor\": \"#E5ECF6\", \"caxis\": {\"gridcolor\": \"white\", \"linecolor\": \"white\", \"ticks\": \"\"}}, \"title\": {\"x\": 0.05}, \"xaxis\": {\"automargin\": true, \"gridcolor\": \"white\", \"linecolor\": \"white\", \"ticks\": \"\", \"title\": {\"standoff\": 15}, \"zerolinecolor\": \"white\", \"zerolinewidth\": 2}, \"yaxis\": {\"automargin\": true, \"gridcolor\": \"white\", \"linecolor\": \"white\", \"ticks\": \"\", \"title\": {\"standoff\": 15}, \"zerolinecolor\": \"white\", \"zerolinewidth\": 2}}}, \"title\": {\"text\": \"Average people harmed and incidents of school attacks per year\"}, \"xaxis\": {\"anchor\": \"y\", \"domain\": [0.0, 1.0], \"title\": {\"text\": \"Year\"}}, \"yaxis\": {\"anchor\": \"x\", \"domain\": [0.0, 1.0], \"title\": {\"text\": \"value\"}}},                        {\"responsive\": true}                    ).then(function(){\n",
       "                            \n",
       "var gd = document.getElementById('91f366bd-24af-4816-9b51-3df4ac475cbb');\n",
       "var x = new MutationObserver(function (mutations, observer) {{\n",
       "        var display = window.getComputedStyle(gd).display;\n",
       "        if (!display || display === 'none') {{\n",
       "            console.log([gd, 'removed!']);\n",
       "            Plotly.purge(gd);\n",
       "            observer.disconnect();\n",
       "        }}\n",
       "}});\n",
       "\n",
       "// Listen for the removal of the full notebook cells\n",
       "var notebookContainer = gd.closest('#notebook-container');\n",
       "if (notebookContainer) {{\n",
       "    x.observe(notebookContainer, {childList: true});\n",
       "}}\n",
       "\n",
       "// Listen for the clearing of the current output cell\n",
       "var outputEl = gd.closest('.output');\n",
       "if (outputEl) {{\n",
       "    x.observe(outputEl, {childList: true});\n",
       "}}\n",
       "\n",
       "                        })                };                });            </script>        </div>"
      ]
     },
     "metadata": {},
     "output_type": "display_data"
    }
   ],
   "source": [
    "fig = px.line(YearFinaldf, y=['Average people harmed Per Year', 'Average Incidents Per Year'], title=\"Average people harmed and incidents of school attacks per year\")\n",
    "fig.show()\n"
   ]
  },
  {
   "cell_type": "code",
   "execution_count": 86,
   "id": "016c4580",
   "metadata": {},
   "outputs": [
    {
     "data": {
      "application/vnd.plotly.v1+json": {
       "config": {
        "plotlyServerURL": "https://plot.ly"
       },
       "data": [
        {
         "alignmentgroup": "True",
         "customdata": [
          [
           184.6
          ]
         ],
         "hovertemplate": "Country=%{y}<br>Average Incidents Per Year=%{x}<br>Average People Harmed Per Year=%{customdata[0]}<extra></extra>",
         "legendgroup": "Palestine",
         "marker": {
          "color": "#636efa"
         },
         "name": "Palestine",
         "offsetgroup": "Palestine",
         "orientation": "h",
         "showlegend": true,
         "textposition": "auto",
         "type": "bar",
         "x": [
          341.8
         ],
         "xaxis": "x",
         "y": [
          "Palestine"
         ],
         "yaxis": "y"
        },
        {
         "alignmentgroup": "True",
         "customdata": [
          [
           57.4
          ]
         ],
         "hovertemplate": "Country=%{y}<br>Average Incidents Per Year=%{x}<br>Average People Harmed Per Year=%{customdata[0]}<extra></extra>",
         "legendgroup": "Yemen",
         "marker": {
          "color": "#EF553B"
         },
         "name": "Yemen",
         "offsetgroup": "Yemen",
         "orientation": "h",
         "showlegend": true,
         "textposition": "auto",
         "type": "bar",
         "x": [
          324.2
         ],
         "xaxis": "x",
         "y": [
          "Yemen"
         ],
         "yaxis": "y"
        },
        {
         "alignmentgroup": "True",
         "customdata": [
          [
           268
          ]
         ],
         "hovertemplate": "Country=%{y}<br>Average Incidents Per Year=%{x}<br>Average People Harmed Per Year=%{customdata[0]}<extra></extra>",
         "legendgroup": "Nigeria",
         "marker": {
          "color": "#00cc96"
         },
         "name": "Nigeria",
         "offsetgroup": "Nigeria",
         "orientation": "h",
         "showlegend": true,
         "textposition": "auto",
         "type": "bar",
         "x": [
          320.6
         ],
         "xaxis": "x",
         "y": [
          "Nigeria"
         ],
         "yaxis": "y"
        },
        {
         "alignmentgroup": "True",
         "customdata": [
          [
           25.6
          ]
         ],
         "hovertemplate": "Country=%{y}<br>Average Incidents Per Year=%{x}<br>Average People Harmed Per Year=%{customdata[0]}<extra></extra>",
         "legendgroup": "Democratic Republic of Congo",
         "marker": {
          "color": "#ab63fa"
         },
         "name": "Democratic Republic of Congo",
         "offsetgroup": "Democratic Republic of Congo",
         "orientation": "h",
         "showlegend": true,
         "textposition": "auto",
         "type": "bar",
         "x": [
          244.4
         ],
         "xaxis": "x",
         "y": [
          "Democratic Republic of Congo"
         ],
         "yaxis": "y"
        },
        {
         "alignmentgroup": "True",
         "customdata": [
          [
           186.2
          ]
         ],
         "hovertemplate": "Country=%{y}<br>Average Incidents Per Year=%{x}<br>Average People Harmed Per Year=%{customdata[0]}<extra></extra>",
         "legendgroup": "South Sudan",
         "marker": {
          "color": "#FFA15A"
         },
         "name": "South Sudan",
         "offsetgroup": "South Sudan",
         "orientation": "h",
         "showlegend": true,
         "textposition": "auto",
         "type": "bar",
         "x": [
          201.6
         ],
         "xaxis": "x",
         "y": [
          "South Sudan"
         ],
         "yaxis": "y"
        },
        {
         "alignmentgroup": "True",
         "customdata": [
          [
           177.6
          ]
         ],
         "hovertemplate": "Country=%{y}<br>Average Incidents Per Year=%{x}<br>Average People Harmed Per Year=%{customdata[0]}<extra></extra>",
         "legendgroup": "Afghanistan",
         "marker": {
          "color": "#19d3f3"
         },
         "name": "Afghanistan",
         "offsetgroup": "Afghanistan",
         "orientation": "h",
         "showlegend": true,
         "textposition": "auto",
         "type": "bar",
         "x": [
          200
         ],
         "xaxis": "x",
         "y": [
          "Afghanistan"
         ],
         "yaxis": "y"
        },
        {
         "alignmentgroup": "True",
         "customdata": [
          [
           4
          ]
         ],
         "hovertemplate": "Country=%{y}<br>Average Incidents Per Year=%{x}<br>Average People Harmed Per Year=%{customdata[0]}<extra></extra>",
         "legendgroup": "Ukraine",
         "marker": {
          "color": "#FF6692"
         },
         "name": "Ukraine",
         "offsetgroup": "Ukraine",
         "orientation": "h",
         "showlegend": true,
         "textposition": "auto",
         "type": "bar",
         "x": [
          156
         ],
         "xaxis": "x",
         "y": [
          "Ukraine"
         ],
         "yaxis": "y"
        },
        {
         "alignmentgroup": "True",
         "customdata": [
          [
           348.8
          ]
         ],
         "hovertemplate": "Country=%{y}<br>Average Incidents Per Year=%{x}<br>Average People Harmed Per Year=%{customdata[0]}<extra></extra>",
         "legendgroup": "Syria",
         "marker": {
          "color": "#B6E880"
         },
         "name": "Syria",
         "offsetgroup": "Syria",
         "orientation": "h",
         "showlegend": true,
         "textposition": "auto",
         "type": "bar",
         "x": [
          155.4
         ],
         "xaxis": "x",
         "y": [
          "Syria"
         ],
         "yaxis": "y"
        },
        {
         "alignmentgroup": "True",
         "customdata": [
          [
           115.8
          ]
         ],
         "hovertemplate": "Country=%{y}<br>Average Incidents Per Year=%{x}<br>Average People Harmed Per Year=%{customdata[0]}<extra></extra>",
         "legendgroup": "Somalia",
         "marker": {
          "color": "#FF97FF"
         },
         "name": "Somalia",
         "offsetgroup": "Somalia",
         "orientation": "h",
         "showlegend": true,
         "textposition": "auto",
         "type": "bar",
         "x": [
          136.4
         ],
         "xaxis": "x",
         "y": [
          "Somalia"
         ],
         "yaxis": "y"
        },
        {
         "alignmentgroup": "True",
         "customdata": [
          [
           132.6
          ]
         ],
         "hovertemplate": "Country=%{y}<br>Average Incidents Per Year=%{x}<br>Average People Harmed Per Year=%{customdata[0]}<extra></extra>",
         "legendgroup": "Iraq",
         "marker": {
          "color": "#FECB52"
         },
         "name": "Iraq",
         "offsetgroup": "Iraq",
         "orientation": "h",
         "showlegend": true,
         "textposition": "auto",
         "type": "bar",
         "x": [
          99.6
         ],
         "xaxis": "x",
         "y": [
          "Iraq"
         ],
         "yaxis": "y"
        },
        {
         "alignmentgroup": "True",
         "customdata": [
          [
           116.2
          ]
         ],
         "hovertemplate": "Country=%{y}<br>Average Incidents Per Year=%{x}<br>Average People Harmed Per Year=%{customdata[0]}<extra></extra>",
         "legendgroup": "Pakistan",
         "marker": {
          "color": "#636efa"
         },
         "name": "Pakistan",
         "offsetgroup": "Pakistan",
         "orientation": "h",
         "showlegend": true,
         "textposition": "auto",
         "type": "bar",
         "x": [
          76.6
         ],
         "xaxis": "x",
         "y": [
          "Pakistan"
         ],
         "yaxis": "y"
        },
        {
         "alignmentgroup": "True",
         "customdata": [
          [
           287.8
          ]
         ],
         "hovertemplate": "Country=%{y}<br>Average Incidents Per Year=%{x}<br>Average People Harmed Per Year=%{customdata[0]}<extra></extra>",
         "legendgroup": "Philippines",
         "marker": {
          "color": "#EF553B"
         },
         "name": "Philippines",
         "offsetgroup": "Philippines",
         "orientation": "h",
         "showlegend": true,
         "textposition": "auto",
         "type": "bar",
         "x": [
          67.8
         ],
         "xaxis": "x",
         "y": [
          "Philippines"
         ],
         "yaxis": "y"
        },
        {
         "alignmentgroup": "True",
         "customdata": [
          [
           25.25
          ]
         ],
         "hovertemplate": "Country=%{y}<br>Average Incidents Per Year=%{x}<br>Average People Harmed Per Year=%{customdata[0]}<extra></extra>",
         "legendgroup": "Central African Republic",
         "marker": {
          "color": "#00cc96"
         },
         "name": "Central African Republic",
         "offsetgroup": "Central African Republic",
         "orientation": "h",
         "showlegend": true,
         "textposition": "auto",
         "type": "bar",
         "x": [
          57.8
         ],
         "xaxis": "x",
         "y": [
          "Central African Republic"
         ],
         "yaxis": "y"
        },
        {
         "alignmentgroup": "True",
         "customdata": [
          [
           38.5
          ]
         ],
         "hovertemplate": "Country=%{y}<br>Average Incidents Per Year=%{x}<br>Average People Harmed Per Year=%{customdata[0]}<extra></extra>",
         "legendgroup": "Mali",
         "marker": {
          "color": "#ab63fa"
         },
         "name": "Mali",
         "offsetgroup": "Mali",
         "orientation": "h",
         "showlegend": true,
         "textposition": "auto",
         "type": "bar",
         "x": [
          46.6
         ],
         "xaxis": "x",
         "y": [
          "Mali"
         ],
         "yaxis": "y"
        },
        {
         "alignmentgroup": "True",
         "customdata": [
          [
           156.2
          ]
         ],
         "hovertemplate": "Country=%{y}<br>Average Incidents Per Year=%{x}<br>Average People Harmed Per Year=%{customdata[0]}<extra></extra>",
         "legendgroup": "India",
         "marker": {
          "color": "#FFA15A"
         },
         "name": "India",
         "offsetgroup": "India",
         "orientation": "h",
         "showlegend": true,
         "textposition": "auto",
         "type": "bar",
         "x": [
          41
         ],
         "xaxis": "x",
         "y": [
          "India"
         ],
         "yaxis": "y"
        },
        {
         "alignmentgroup": "True",
         "customdata": [
          [
           12
          ]
         ],
         "hovertemplate": "Country=%{y}<br>Average Incidents Per Year=%{x}<br>Average People Harmed Per Year=%{customdata[0]}<extra></extra>",
         "legendgroup": "Bangladesh",
         "marker": {
          "color": "#19d3f3"
         },
         "name": "Bangladesh",
         "offsetgroup": "Bangladesh",
         "orientation": "h",
         "showlegend": true,
         "textposition": "auto",
         "type": "bar",
         "x": [
          30.6
         ],
         "xaxis": "x",
         "y": [
          "Bangladesh"
         ],
         "yaxis": "y"
        },
        {
         "alignmentgroup": "True",
         "customdata": [
          [
           308.2
          ]
         ],
         "hovertemplate": "Country=%{y}<br>Average Incidents Per Year=%{x}<br>Average People Harmed Per Year=%{customdata[0]}<extra></extra>",
         "legendgroup": "Turkey",
         "marker": {
          "color": "#FF6692"
         },
         "name": "Turkey",
         "offsetgroup": "Turkey",
         "orientation": "h",
         "showlegend": true,
         "textposition": "auto",
         "type": "bar",
         "x": [
          28.6
         ],
         "xaxis": "x",
         "y": [
          "Turkey"
         ],
         "yaxis": "y"
        },
        {
         "alignmentgroup": "True",
         "customdata": [
          [
           46.8
          ]
         ],
         "hovertemplate": "Country=%{y}<br>Average Incidents Per Year=%{x}<br>Average People Harmed Per Year=%{customdata[0]}<extra></extra>",
         "legendgroup": "Thailand",
         "marker": {
          "color": "#B6E880"
         },
         "name": "Thailand",
         "offsetgroup": "Thailand",
         "orientation": "h",
         "showlegend": true,
         "textposition": "auto",
         "type": "bar",
         "x": [
          27.6
         ],
         "xaxis": "x",
         "y": [
          "Thailand"
         ],
         "yaxis": "y"
        },
        {
         "alignmentgroup": "True",
         "customdata": [
          [
           140.2
          ]
         ],
         "hovertemplate": "Country=%{y}<br>Average Incidents Per Year=%{x}<br>Average People Harmed Per Year=%{customdata[0]}<extra></extra>",
         "legendgroup": "Sudan",
         "marker": {
          "color": "#FF97FF"
         },
         "name": "Sudan",
         "offsetgroup": "Sudan",
         "orientation": "h",
         "showlegend": true,
         "textposition": "auto",
         "type": "bar",
         "x": [
          27.2
         ],
         "xaxis": "x",
         "y": [
          "Sudan"
         ],
         "yaxis": "y"
        },
        {
         "alignmentgroup": "True",
         "customdata": [
          [
           10
          ]
         ],
         "hovertemplate": "Country=%{y}<br>Average Incidents Per Year=%{x}<br>Average People Harmed Per Year=%{customdata[0]}<extra></extra>",
         "legendgroup": "Libya",
         "marker": {
          "color": "#FECB52"
         },
         "name": "Libya",
         "offsetgroup": "Libya",
         "orientation": "h",
         "showlegend": true,
         "textposition": "auto",
         "type": "bar",
         "x": [
          17.6
         ],
         "xaxis": "x",
         "y": [
          "Libya"
         ],
         "yaxis": "y"
        },
        {
         "alignmentgroup": "True",
         "customdata": [
          [
           39.4
          ]
         ],
         "hovertemplate": "Country=%{y}<br>Average Incidents Per Year=%{x}<br>Average People Harmed Per Year=%{customdata[0]}<extra></extra>",
         "legendgroup": "Colombia",
         "marker": {
          "color": "#636efa"
         },
         "name": "Colombia",
         "offsetgroup": "Colombia",
         "orientation": "h",
         "showlegend": true,
         "textposition": "auto",
         "type": "bar",
         "x": [
          17.6
         ],
         "xaxis": "x",
         "y": [
          "Colombia"
         ],
         "yaxis": "y"
        },
        {
         "alignmentgroup": "True",
         "customdata": [
          [
           26.75
          ]
         ],
         "hovertemplate": "Country=%{y}<br>Average Incidents Per Year=%{x}<br>Average People Harmed Per Year=%{customdata[0]}<extra></extra>",
         "legendgroup": "Cameroon",
         "marker": {
          "color": "#EF553B"
         },
         "name": "Cameroon",
         "offsetgroup": "Cameroon",
         "orientation": "h",
         "showlegend": true,
         "textposition": "auto",
         "type": "bar",
         "x": [
          16.75
         ],
         "xaxis": "x",
         "y": [
          "Cameroon"
         ],
         "yaxis": "y"
        },
        {
         "alignmentgroup": "True",
         "customdata": [
          [
           254.8
          ]
         ],
         "hovertemplate": "Country=%{y}<br>Average Incidents Per Year=%{x}<br>Average People Harmed Per Year=%{customdata[0]}<extra></extra>",
         "legendgroup": "Egypt",
         "marker": {
          "color": "#00cc96"
         },
         "name": "Egypt",
         "offsetgroup": "Egypt",
         "orientation": "h",
         "showlegend": true,
         "textposition": "auto",
         "type": "bar",
         "x": [
          15.6
         ],
         "xaxis": "x",
         "y": [
          "Egypt"
         ],
         "yaxis": "y"
        },
        {
         "alignmentgroup": "True",
         "customdata": [
          [
           60.666666666666664
          ]
         ],
         "hovertemplate": "Country=%{y}<br>Average Incidents Per Year=%{x}<br>Average People Harmed Per Year=%{customdata[0]}<extra></extra>",
         "legendgroup": "Burundi",
         "marker": {
          "color": "#ab63fa"
         },
         "name": "Burundi",
         "offsetgroup": "Burundi",
         "orientation": "h",
         "showlegend": true,
         "textposition": "auto",
         "type": "bar",
         "x": [
          12.333333333333334
         ],
         "xaxis": "x",
         "y": [
          "Burundi"
         ],
         "yaxis": "y"
        },
        {
         "alignmentgroup": "True",
         "customdata": [
          [
           165.25
          ]
         ],
         "hovertemplate": "Country=%{y}<br>Average Incidents Per Year=%{x}<br>Average People Harmed Per Year=%{customdata[0]}<extra></extra>",
         "legendgroup": "Venezuela",
         "marker": {
          "color": "#FFA15A"
         },
         "name": "Venezuela",
         "offsetgroup": "Venezuela",
         "orientation": "h",
         "showlegend": true,
         "textposition": "auto",
         "type": "bar",
         "x": [
          10.5
         ],
         "xaxis": "x",
         "y": [
          "Venezuela"
         ],
         "yaxis": "y"
        },
        {
         "alignmentgroup": "True",
         "customdata": [
          [
           43.75
          ]
         ],
         "hovertemplate": "Country=%{y}<br>Average Incidents Per Year=%{x}<br>Average People Harmed Per Year=%{customdata[0]}<extra></extra>",
         "legendgroup": "Myanmar",
         "marker": {
          "color": "#19d3f3"
         },
         "name": "Myanmar",
         "offsetgroup": "Myanmar",
         "orientation": "h",
         "showlegend": true,
         "textposition": "auto",
         "type": "bar",
         "x": [
          10.2
         ],
         "xaxis": "x",
         "y": [
          "Myanmar"
         ],
         "yaxis": "y"
        },
        {
         "alignmentgroup": "True",
         "customdata": [
          [
           91.6
          ]
         ],
         "hovertemplate": "Country=%{y}<br>Average Incidents Per Year=%{x}<br>Average People Harmed Per Year=%{customdata[0]}<extra></extra>",
         "legendgroup": "Kenya",
         "marker": {
          "color": "#FF6692"
         },
         "name": "Kenya",
         "offsetgroup": "Kenya",
         "orientation": "h",
         "showlegend": true,
         "textposition": "auto",
         "type": "bar",
         "x": [
          7.4
         ],
         "xaxis": "x",
         "y": [
          "Kenya"
         ],
         "yaxis": "y"
        },
        {
         "alignmentgroup": "True",
         "customdata": [
          [
           48
          ]
         ],
         "hovertemplate": "Country=%{y}<br>Average Incidents Per Year=%{x}<br>Average People Harmed Per Year=%{customdata[0]}<extra></extra>",
         "legendgroup": "Ethiopia",
         "marker": {
          "color": "#B6E880"
         },
         "name": "Ethiopia",
         "offsetgroup": "Ethiopia",
         "orientation": "h",
         "showlegend": true,
         "textposition": "auto",
         "type": "bar",
         "x": [
          7.4
         ],
         "xaxis": "x",
         "y": [
          "Ethiopia"
         ],
         "yaxis": "y"
        },
        {
         "alignmentgroup": "True",
         "customdata": [
          [
           5.75
          ]
         ],
         "hovertemplate": "Country=%{y}<br>Average Incidents Per Year=%{x}<br>Average People Harmed Per Year=%{customdata[0]}<extra></extra>",
         "legendgroup": "Russia",
         "marker": {
          "color": "#FF97FF"
         },
         "name": "Russia",
         "offsetgroup": "Russia",
         "orientation": "h",
         "showlegend": true,
         "textposition": "auto",
         "type": "bar",
         "x": [
          4.5
         ],
         "xaxis": "x",
         "y": [
          "Russia"
         ],
         "yaxis": "y"
        },
        {
         "alignmentgroup": "True",
         "customdata": [
          [
           17.333333333333332
          ]
         ],
         "hovertemplate": "Country=%{y}<br>Average Incidents Per Year=%{x}<br>Average People Harmed Per Year=%{customdata[0]}<extra></extra>",
         "legendgroup": "Zimbabwe",
         "marker": {
          "color": "#FECB52"
         },
         "name": "Zimbabwe",
         "offsetgroup": "Zimbabwe",
         "orientation": "h",
         "showlegend": true,
         "textposition": "auto",
         "type": "bar",
         "x": [
          3
         ],
         "xaxis": "x",
         "y": [
          "Zimbabwe"
         ],
         "yaxis": "y"
        },
        {
         "alignmentgroup": "True",
         "customdata": [
          [
           7.75
          ]
         ],
         "hovertemplate": "Country=%{y}<br>Average Incidents Per Year=%{x}<br>Average People Harmed Per Year=%{customdata[0]}<extra></extra>",
         "legendgroup": "Indonesia",
         "marker": {
          "color": "#636efa"
         },
         "name": "Indonesia",
         "offsetgroup": "Indonesia",
         "orientation": "h",
         "showlegend": true,
         "textposition": "auto",
         "type": "bar",
         "x": [
          3
         ],
         "xaxis": "x",
         "y": [
          "Indonesia"
         ],
         "yaxis": "y"
        },
        {
         "alignmentgroup": "True",
         "customdata": [
          [
           3
          ]
         ],
         "hovertemplate": "Country=%{y}<br>Average Incidents Per Year=%{x}<br>Average People Harmed Per Year=%{customdata[0]}<extra></extra>",
         "legendgroup": "Sweden",
         "marker": {
          "color": "#EF553B"
         },
         "name": "Sweden",
         "offsetgroup": "Sweden",
         "orientation": "h",
         "showlegend": true,
         "textposition": "auto",
         "type": "bar",
         "x": [
          3
         ],
         "xaxis": "x",
         "y": [
          "Sweden"
         ],
         "yaxis": "y"
        },
        {
         "alignmentgroup": "True",
         "customdata": [
          [
           2
          ]
         ],
         "hovertemplate": "Country=%{y}<br>Average Incidents Per Year=%{x}<br>Average People Harmed Per Year=%{customdata[0]}<extra></extra>",
         "legendgroup": "Niger",
         "marker": {
          "color": "#00cc96"
         },
         "name": "Niger",
         "offsetgroup": "Niger",
         "orientation": "h",
         "showlegend": true,
         "textposition": "auto",
         "type": "bar",
         "x": [
          3
         ],
         "xaxis": "x",
         "y": [
          "Niger"
         ],
         "yaxis": "y"
        },
        {
         "alignmentgroup": "True",
         "customdata": [
          [
           46.666666666666664
          ]
         ],
         "hovertemplate": "Country=%{y}<br>Average Incidents Per Year=%{x}<br>Average People Harmed Per Year=%{customdata[0]}<extra></extra>",
         "legendgroup": "Iran",
         "marker": {
          "color": "#ab63fa"
         },
         "name": "Iran",
         "offsetgroup": "Iran",
         "orientation": "h",
         "showlegend": true,
         "textposition": "auto",
         "type": "bar",
         "x": [
          3
         ],
         "xaxis": "x",
         "y": [
          "Iran"
         ],
         "yaxis": "y"
        },
        {
         "alignmentgroup": "True",
         "customdata": [
          [
           5
          ]
         ],
         "hovertemplate": "Country=%{y}<br>Average Incidents Per Year=%{x}<br>Average People Harmed Per Year=%{customdata[0]}<extra></extra>",
         "legendgroup": "Lebanon",
         "marker": {
          "color": "#FFA15A"
         },
         "name": "Lebanon",
         "offsetgroup": "Lebanon",
         "orientation": "h",
         "showlegend": true,
         "textposition": "auto",
         "type": "bar",
         "x": [
          2.8
         ],
         "xaxis": "x",
         "y": [
          "Lebanon"
         ],
         "yaxis": "y"
        },
        {
         "alignmentgroup": "True",
         "customdata": [
          [
           11.5
          ]
         ],
         "hovertemplate": "Country=%{y}<br>Average Incidents Per Year=%{x}<br>Average People Harmed Per Year=%{customdata[0]}<extra></extra>",
         "legendgroup": "Sri Lanka",
         "marker": {
          "color": "#19d3f3"
         },
         "name": "Sri Lanka",
         "offsetgroup": "Sri Lanka",
         "orientation": "h",
         "showlegend": true,
         "textposition": "auto",
         "type": "bar",
         "x": [
          2.5
         ],
         "xaxis": "x",
         "y": [
          "Sri Lanka"
         ],
         "yaxis": "y"
        },
        {
         "alignmentgroup": "True",
         "customdata": [
          [
           1
          ]
         ],
         "hovertemplate": "Country=%{y}<br>Average Incidents Per Year=%{x}<br>Average People Harmed Per Year=%{customdata[0]}<extra></extra>",
         "legendgroup": "Israel",
         "marker": {
          "color": "#FF6692"
         },
         "name": "Israel",
         "offsetgroup": "Israel",
         "orientation": "h",
         "showlegend": true,
         "textposition": "auto",
         "type": "bar",
         "x": [
          2.2
         ],
         "xaxis": "x",
         "y": [
          "Israel"
         ],
         "yaxis": "y"
        },
        {
         "alignmentgroup": "True",
         "customdata": [
          [
           27
          ]
         ],
         "hovertemplate": "Country=%{y}<br>Average Incidents Per Year=%{x}<br>Average People Harmed Per Year=%{customdata[0]}<extra></extra>",
         "legendgroup": "Malawi",
         "marker": {
          "color": "#B6E880"
         },
         "name": "Malawi",
         "offsetgroup": "Malawi",
         "orientation": "h",
         "showlegend": true,
         "textposition": "auto",
         "type": "bar",
         "x": [
          2
         ],
         "xaxis": "x",
         "y": [
          "Malawi"
         ],
         "yaxis": "y"
        },
        {
         "alignmentgroup": "True",
         "customdata": [
          [
           10
          ]
         ],
         "hovertemplate": "Country=%{y}<br>Average Incidents Per Year=%{x}<br>Average People Harmed Per Year=%{customdata[0]}<extra></extra>",
         "legendgroup": "Chad",
         "marker": {
          "color": "#FF97FF"
         },
         "name": "Chad",
         "offsetgroup": "Chad",
         "orientation": "h",
         "showlegend": true,
         "textposition": "auto",
         "type": "bar",
         "x": [
          2
         ],
         "xaxis": "x",
         "y": [
          "Chad"
         ],
         "yaxis": "y"
        },
        {
         "alignmentgroup": "True",
         "customdata": [
          [
           43.5
          ]
         ],
         "hovertemplate": "Country=%{y}<br>Average Incidents Per Year=%{x}<br>Average People Harmed Per Year=%{customdata[0]}<extra></extra>",
         "legendgroup": "Chile",
         "marker": {
          "color": "#FECB52"
         },
         "name": "Chile",
         "offsetgroup": "Chile",
         "orientation": "h",
         "showlegend": true,
         "textposition": "auto",
         "type": "bar",
         "x": [
          2
         ],
         "xaxis": "x",
         "y": [
          "Chile"
         ],
         "yaxis": "y"
        },
        {
         "alignmentgroup": "True",
         "customdata": [
          [
           3.6666666666666665
          ]
         ],
         "hovertemplate": "Country=%{y}<br>Average Incidents Per Year=%{x}<br>Average People Harmed Per Year=%{customdata[0]}<extra></extra>",
         "legendgroup": "China",
         "marker": {
          "color": "#636efa"
         },
         "name": "China",
         "offsetgroup": "China",
         "orientation": "h",
         "showlegend": true,
         "textposition": "auto",
         "type": "bar",
         "x": [
          1.6666666666666667
         ],
         "xaxis": "x",
         "y": [
          "China"
         ],
         "yaxis": "y"
        },
        {
         "alignmentgroup": "True",
         "customdata": [
          [
           1.3333333333333333
          ]
         ],
         "hovertemplate": "Country=%{y}<br>Average Incidents Per Year=%{x}<br>Average People Harmed Per Year=%{customdata[0]}<extra></extra>",
         "legendgroup": "Bahrain",
         "marker": {
          "color": "#EF553B"
         },
         "name": "Bahrain",
         "offsetgroup": "Bahrain",
         "orientation": "h",
         "showlegend": true,
         "textposition": "auto",
         "type": "bar",
         "x": [
          1.6666666666666667
         ],
         "xaxis": "x",
         "y": [
          "Bahrain"
         ],
         "yaxis": "y"
        },
        {
         "alignmentgroup": "True",
         "customdata": [
          [
           2.5
          ]
         ],
         "hovertemplate": "Country=%{y}<br>Average Incidents Per Year=%{x}<br>Average People Harmed Per Year=%{customdata[0]}<extra></extra>",
         "legendgroup": "South Africa",
         "marker": {
          "color": "#00cc96"
         },
         "name": "South Africa",
         "offsetgroup": "South Africa",
         "orientation": "h",
         "showlegend": true,
         "textposition": "auto",
         "type": "bar",
         "x": [
          1.6666666666666667
         ],
         "xaxis": "x",
         "y": [
          "South Africa"
         ],
         "yaxis": "y"
        },
        {
         "alignmentgroup": "True",
         "customdata": [
          [
           2
          ]
         ],
         "hovertemplate": "Country=%{y}<br>Average Incidents Per Year=%{x}<br>Average People Harmed Per Year=%{customdata[0]}<extra></extra>",
         "legendgroup": "Vietnam",
         "marker": {
          "color": "#ab63fa"
         },
         "name": "Vietnam",
         "offsetgroup": "Vietnam",
         "orientation": "h",
         "showlegend": true,
         "textposition": "auto",
         "type": "bar",
         "x": [
          1.5
         ],
         "xaxis": "x",
         "y": [
          "Vietnam"
         ],
         "yaxis": "y"
        },
        {
         "alignmentgroup": "True",
         "customdata": [
          [
           13
          ]
         ],
         "hovertemplate": "Country=%{y}<br>Average Incidents Per Year=%{x}<br>Average People Harmed Per Year=%{customdata[0]}<extra></extra>",
         "legendgroup": "Papua New Guinea",
         "marker": {
          "color": "#FFA15A"
         },
         "name": "Papua New Guinea",
         "offsetgroup": "Papua New Guinea",
         "orientation": "h",
         "showlegend": true,
         "textposition": "auto",
         "type": "bar",
         "x": [
          1.5
         ],
         "xaxis": "x",
         "y": [
          "Papua New Guinea"
         ],
         "yaxis": "y"
        },
        {
         "alignmentgroup": "True",
         "customdata": [
          [
           1
          ]
         ],
         "hovertemplate": "Country=%{y}<br>Average Incidents Per Year=%{x}<br>Average People Harmed Per Year=%{customdata[0]}<extra></extra>",
         "legendgroup": "Sierra Leone",
         "marker": {
          "color": "#19d3f3"
         },
         "name": "Sierra Leone",
         "offsetgroup": "Sierra Leone",
         "orientation": "h",
         "showlegend": true,
         "textposition": "auto",
         "type": "bar",
         "x": [
          1.5
         ],
         "xaxis": "x",
         "y": [
          "Sierra Leone"
         ],
         "yaxis": "y"
        },
        {
         "alignmentgroup": "True",
         "customdata": [
          [
           2
          ]
         ],
         "hovertemplate": "Country=%{y}<br>Average Incidents Per Year=%{x}<br>Average People Harmed Per Year=%{customdata[0]}<extra></extra>",
         "legendgroup": "Swaziland",
         "marker": {
          "color": "#FF6692"
         },
         "name": "Swaziland",
         "offsetgroup": "Swaziland",
         "orientation": "h",
         "showlegend": true,
         "textposition": "auto",
         "type": "bar",
         "x": [
          1.3333333333333333
         ],
         "xaxis": "x",
         "y": [
          "Swaziland"
         ],
         "yaxis": "y"
        },
        {
         "alignmentgroup": "True",
         "customdata": [
          [
           10
          ]
         ],
         "hovertemplate": "Country=%{y}<br>Average Incidents Per Year=%{x}<br>Average People Harmed Per Year=%{customdata[0]}<extra></extra>",
         "legendgroup": "Uganda",
         "marker": {
          "color": "#B6E880"
         },
         "name": "Uganda",
         "offsetgroup": "Uganda",
         "orientation": "h",
         "showlegend": true,
         "textposition": "auto",
         "type": "bar",
         "x": [
          1.3333333333333333
         ],
         "xaxis": "x",
         "y": [
          "Uganda"
         ],
         "yaxis": "y"
        },
        {
         "alignmentgroup": "True",
         "customdata": [
          [
           11.5
          ]
         ],
         "hovertemplate": "Country=%{y}<br>Average Incidents Per Year=%{x}<br>Average People Harmed Per Year=%{customdata[0]}<extra></extra>",
         "legendgroup": "Angola",
         "marker": {
          "color": "#FF97FF"
         },
         "name": "Angola",
         "offsetgroup": "Angola",
         "orientation": "h",
         "showlegend": true,
         "textposition": "auto",
         "type": "bar",
         "x": [
          1
         ],
         "xaxis": "x",
         "y": [
          "Angola"
         ],
         "yaxis": "y"
        },
        {
         "alignmentgroup": "True",
         "customdata": [
          [
           28
          ]
         ],
         "hovertemplate": "Country=%{y}<br>Average Incidents Per Year=%{x}<br>Average People Harmed Per Year=%{customdata[0]}<extra></extra>",
         "legendgroup": "Senegal",
         "marker": {
          "color": "#FECB52"
         },
         "name": "Senegal",
         "offsetgroup": "Senegal",
         "orientation": "h",
         "showlegend": true,
         "textposition": "auto",
         "type": "bar",
         "x": [
          1
         ],
         "xaxis": "x",
         "y": [
          "Senegal"
         ],
         "yaxis": "y"
        },
        {
         "alignmentgroup": "True",
         "customdata": [
          [
           1
          ]
         ],
         "hovertemplate": "Country=%{y}<br>Average Incidents Per Year=%{x}<br>Average People Harmed Per Year=%{customdata[0]}<extra></extra>",
         "legendgroup": "Ecuador",
         "marker": {
          "color": "#636efa"
         },
         "name": "Ecuador",
         "offsetgroup": "Ecuador",
         "orientation": "h",
         "showlegend": true,
         "textposition": "auto",
         "type": "bar",
         "x": [
          1
         ],
         "xaxis": "x",
         "y": [
          "Ecuador"
         ],
         "yaxis": "y"
        },
        {
         "alignmentgroup": "True",
         "customdata": [
          [
           5
          ]
         ],
         "hovertemplate": "Country=%{y}<br>Average Incidents Per Year=%{x}<br>Average People Harmed Per Year=%{customdata[0]}<extra></extra>",
         "legendgroup": "Togo",
         "marker": {
          "color": "#EF553B"
         },
         "name": "Togo",
         "offsetgroup": "Togo",
         "orientation": "h",
         "showlegend": true,
         "textposition": "auto",
         "type": "bar",
         "x": [
          1
         ],
         "xaxis": "x",
         "y": [
          "Togo"
         ],
         "yaxis": "y"
        },
        {
         "alignmentgroup": "True",
         "customdata": [
          [
           1
          ]
         ],
         "hovertemplate": "Country=%{y}<br>Average Incidents Per Year=%{x}<br>Average People Harmed Per Year=%{customdata[0]}<extra></extra>",
         "legendgroup": "Malaysia",
         "marker": {
          "color": "#00cc96"
         },
         "name": "Malaysia",
         "offsetgroup": "Malaysia",
         "orientation": "h",
         "showlegend": true,
         "textposition": "auto",
         "type": "bar",
         "x": [
          1
         ],
         "xaxis": "x",
         "y": [
          "Malaysia"
         ],
         "yaxis": "y"
        },
        {
         "alignmentgroup": "True",
         "customdata": [
          [
           1
          ]
         ],
         "hovertemplate": "Country=%{y}<br>Average Incidents Per Year=%{x}<br>Average People Harmed Per Year=%{customdata[0]}<extra></extra>",
         "legendgroup": "Brazil",
         "marker": {
          "color": "#ab63fa"
         },
         "name": "Brazil",
         "offsetgroup": "Brazil",
         "orientation": "h",
         "showlegend": true,
         "textposition": "auto",
         "type": "bar",
         "x": [
          1
         ],
         "xaxis": "x",
         "y": [
          "Brazil"
         ],
         "yaxis": "y"
        },
        {
         "alignmentgroup": "True",
         "customdata": [
          [
           1
          ]
         ],
         "hovertemplate": "Country=%{y}<br>Average Incidents Per Year=%{x}<br>Average People Harmed Per Year=%{customdata[0]}<extra></extra>",
         "legendgroup": "United Arab Emirates",
         "marker": {
          "color": "#FFA15A"
         },
         "name": "United Arab Emirates",
         "offsetgroup": "United Arab Emirates",
         "orientation": "h",
         "showlegend": true,
         "textposition": "auto",
         "type": "bar",
         "x": [
          1
         ],
         "xaxis": "x",
         "y": [
          "United Arab Emirates"
         ],
         "yaxis": "y"
        },
        {
         "alignmentgroup": "True",
         "customdata": [
          [
           3
          ]
         ],
         "hovertemplate": "Country=%{y}<br>Average Incidents Per Year=%{x}<br>Average People Harmed Per Year=%{customdata[0]}<extra></extra>",
         "legendgroup": "Belarus",
         "marker": {
          "color": "#19d3f3"
         },
         "name": "Belarus",
         "offsetgroup": "Belarus",
         "orientation": "h",
         "showlegend": true,
         "textposition": "auto",
         "type": "bar",
         "x": [
          1
         ],
         "xaxis": "x",
         "y": [
          "Belarus"
         ],
         "yaxis": "y"
        },
        {
         "alignmentgroup": "True",
         "customdata": [
          [
           1
          ]
         ],
         "hovertemplate": "Country=%{y}<br>Average Incidents Per Year=%{x}<br>Average People Harmed Per Year=%{customdata[0]}<extra></extra>",
         "legendgroup": "Haiti",
         "marker": {
          "color": "#FF6692"
         },
         "name": "Haiti",
         "offsetgroup": "Haiti",
         "orientation": "h",
         "showlegend": true,
         "textposition": "auto",
         "type": "bar",
         "x": [
          1
         ],
         "xaxis": "x",
         "y": [
          "Haiti"
         ],
         "yaxis": "y"
        },
        {
         "alignmentgroup": "True",
         "customdata": [
          [
           31
          ]
         ],
         "hovertemplate": "Country=%{y}<br>Average Incidents Per Year=%{x}<br>Average People Harmed Per Year=%{customdata[0]}<extra></extra>",
         "legendgroup": "Tanzania",
         "marker": {
          "color": "#B6E880"
         },
         "name": "Tanzania",
         "offsetgroup": "Tanzania",
         "orientation": "h",
         "showlegend": true,
         "textposition": "auto",
         "type": "bar",
         "x": [
          1
         ],
         "xaxis": "x",
         "y": [
          "Tanzania"
         ],
         "yaxis": "y"
        }
       ],
       "layout": {
        "barmode": "relative",
        "legend": {
         "title": {
          "text": "Country"
         },
         "tracegroupgap": 0
        },
        "template": {
         "data": {
          "bar": [
           {
            "error_x": {
             "color": "#2a3f5f"
            },
            "error_y": {
             "color": "#2a3f5f"
            },
            "marker": {
             "line": {
              "color": "#E5ECF6",
              "width": 0.5
             }
            },
            "type": "bar"
           }
          ],
          "barpolar": [
           {
            "marker": {
             "line": {
              "color": "#E5ECF6",
              "width": 0.5
             }
            },
            "type": "barpolar"
           }
          ],
          "carpet": [
           {
            "aaxis": {
             "endlinecolor": "#2a3f5f",
             "gridcolor": "white",
             "linecolor": "white",
             "minorgridcolor": "white",
             "startlinecolor": "#2a3f5f"
            },
            "baxis": {
             "endlinecolor": "#2a3f5f",
             "gridcolor": "white",
             "linecolor": "white",
             "minorgridcolor": "white",
             "startlinecolor": "#2a3f5f"
            },
            "type": "carpet"
           }
          ],
          "choropleth": [
           {
            "colorbar": {
             "outlinewidth": 0,
             "ticks": ""
            },
            "type": "choropleth"
           }
          ],
          "contour": [
           {
            "colorbar": {
             "outlinewidth": 0,
             "ticks": ""
            },
            "colorscale": [
             [
              0,
              "#0d0887"
             ],
             [
              0.1111111111111111,
              "#46039f"
             ],
             [
              0.2222222222222222,
              "#7201a8"
             ],
             [
              0.3333333333333333,
              "#9c179e"
             ],
             [
              0.4444444444444444,
              "#bd3786"
             ],
             [
              0.5555555555555556,
              "#d8576b"
             ],
             [
              0.6666666666666666,
              "#ed7953"
             ],
             [
              0.7777777777777778,
              "#fb9f3a"
             ],
             [
              0.8888888888888888,
              "#fdca26"
             ],
             [
              1,
              "#f0f921"
             ]
            ],
            "type": "contour"
           }
          ],
          "contourcarpet": [
           {
            "colorbar": {
             "outlinewidth": 0,
             "ticks": ""
            },
            "type": "contourcarpet"
           }
          ],
          "heatmap": [
           {
            "colorbar": {
             "outlinewidth": 0,
             "ticks": ""
            },
            "colorscale": [
             [
              0,
              "#0d0887"
             ],
             [
              0.1111111111111111,
              "#46039f"
             ],
             [
              0.2222222222222222,
              "#7201a8"
             ],
             [
              0.3333333333333333,
              "#9c179e"
             ],
             [
              0.4444444444444444,
              "#bd3786"
             ],
             [
              0.5555555555555556,
              "#d8576b"
             ],
             [
              0.6666666666666666,
              "#ed7953"
             ],
             [
              0.7777777777777778,
              "#fb9f3a"
             ],
             [
              0.8888888888888888,
              "#fdca26"
             ],
             [
              1,
              "#f0f921"
             ]
            ],
            "type": "heatmap"
           }
          ],
          "heatmapgl": [
           {
            "colorbar": {
             "outlinewidth": 0,
             "ticks": ""
            },
            "colorscale": [
             [
              0,
              "#0d0887"
             ],
             [
              0.1111111111111111,
              "#46039f"
             ],
             [
              0.2222222222222222,
              "#7201a8"
             ],
             [
              0.3333333333333333,
              "#9c179e"
             ],
             [
              0.4444444444444444,
              "#bd3786"
             ],
             [
              0.5555555555555556,
              "#d8576b"
             ],
             [
              0.6666666666666666,
              "#ed7953"
             ],
             [
              0.7777777777777778,
              "#fb9f3a"
             ],
             [
              0.8888888888888888,
              "#fdca26"
             ],
             [
              1,
              "#f0f921"
             ]
            ],
            "type": "heatmapgl"
           }
          ],
          "histogram": [
           {
            "marker": {
             "colorbar": {
              "outlinewidth": 0,
              "ticks": ""
             }
            },
            "type": "histogram"
           }
          ],
          "histogram2d": [
           {
            "colorbar": {
             "outlinewidth": 0,
             "ticks": ""
            },
            "colorscale": [
             [
              0,
              "#0d0887"
             ],
             [
              0.1111111111111111,
              "#46039f"
             ],
             [
              0.2222222222222222,
              "#7201a8"
             ],
             [
              0.3333333333333333,
              "#9c179e"
             ],
             [
              0.4444444444444444,
              "#bd3786"
             ],
             [
              0.5555555555555556,
              "#d8576b"
             ],
             [
              0.6666666666666666,
              "#ed7953"
             ],
             [
              0.7777777777777778,
              "#fb9f3a"
             ],
             [
              0.8888888888888888,
              "#fdca26"
             ],
             [
              1,
              "#f0f921"
             ]
            ],
            "type": "histogram2d"
           }
          ],
          "histogram2dcontour": [
           {
            "colorbar": {
             "outlinewidth": 0,
             "ticks": ""
            },
            "colorscale": [
             [
              0,
              "#0d0887"
             ],
             [
              0.1111111111111111,
              "#46039f"
             ],
             [
              0.2222222222222222,
              "#7201a8"
             ],
             [
              0.3333333333333333,
              "#9c179e"
             ],
             [
              0.4444444444444444,
              "#bd3786"
             ],
             [
              0.5555555555555556,
              "#d8576b"
             ],
             [
              0.6666666666666666,
              "#ed7953"
             ],
             [
              0.7777777777777778,
              "#fb9f3a"
             ],
             [
              0.8888888888888888,
              "#fdca26"
             ],
             [
              1,
              "#f0f921"
             ]
            ],
            "type": "histogram2dcontour"
           }
          ],
          "mesh3d": [
           {
            "colorbar": {
             "outlinewidth": 0,
             "ticks": ""
            },
            "type": "mesh3d"
           }
          ],
          "parcoords": [
           {
            "line": {
             "colorbar": {
              "outlinewidth": 0,
              "ticks": ""
             }
            },
            "type": "parcoords"
           }
          ],
          "pie": [
           {
            "automargin": true,
            "type": "pie"
           }
          ],
          "scatter": [
           {
            "marker": {
             "colorbar": {
              "outlinewidth": 0,
              "ticks": ""
             }
            },
            "type": "scatter"
           }
          ],
          "scatter3d": [
           {
            "line": {
             "colorbar": {
              "outlinewidth": 0,
              "ticks": ""
             }
            },
            "marker": {
             "colorbar": {
              "outlinewidth": 0,
              "ticks": ""
             }
            },
            "type": "scatter3d"
           }
          ],
          "scattercarpet": [
           {
            "marker": {
             "colorbar": {
              "outlinewidth": 0,
              "ticks": ""
             }
            },
            "type": "scattercarpet"
           }
          ],
          "scattergeo": [
           {
            "marker": {
             "colorbar": {
              "outlinewidth": 0,
              "ticks": ""
             }
            },
            "type": "scattergeo"
           }
          ],
          "scattergl": [
           {
            "marker": {
             "colorbar": {
              "outlinewidth": 0,
              "ticks": ""
             }
            },
            "type": "scattergl"
           }
          ],
          "scattermapbox": [
           {
            "marker": {
             "colorbar": {
              "outlinewidth": 0,
              "ticks": ""
             }
            },
            "type": "scattermapbox"
           }
          ],
          "scatterpolar": [
           {
            "marker": {
             "colorbar": {
              "outlinewidth": 0,
              "ticks": ""
             }
            },
            "type": "scatterpolar"
           }
          ],
          "scatterpolargl": [
           {
            "marker": {
             "colorbar": {
              "outlinewidth": 0,
              "ticks": ""
             }
            },
            "type": "scatterpolargl"
           }
          ],
          "scatterternary": [
           {
            "marker": {
             "colorbar": {
              "outlinewidth": 0,
              "ticks": ""
             }
            },
            "type": "scatterternary"
           }
          ],
          "surface": [
           {
            "colorbar": {
             "outlinewidth": 0,
             "ticks": ""
            },
            "colorscale": [
             [
              0,
              "#0d0887"
             ],
             [
              0.1111111111111111,
              "#46039f"
             ],
             [
              0.2222222222222222,
              "#7201a8"
             ],
             [
              0.3333333333333333,
              "#9c179e"
             ],
             [
              0.4444444444444444,
              "#bd3786"
             ],
             [
              0.5555555555555556,
              "#d8576b"
             ],
             [
              0.6666666666666666,
              "#ed7953"
             ],
             [
              0.7777777777777778,
              "#fb9f3a"
             ],
             [
              0.8888888888888888,
              "#fdca26"
             ],
             [
              1,
              "#f0f921"
             ]
            ],
            "type": "surface"
           }
          ],
          "table": [
           {
            "cells": {
             "fill": {
              "color": "#EBF0F8"
             },
             "line": {
              "color": "white"
             }
            },
            "header": {
             "fill": {
              "color": "#C8D4E3"
             },
             "line": {
              "color": "white"
             }
            },
            "type": "table"
           }
          ]
         },
         "layout": {
          "annotationdefaults": {
           "arrowcolor": "#2a3f5f",
           "arrowhead": 0,
           "arrowwidth": 1
          },
          "autotypenumbers": "strict",
          "coloraxis": {
           "colorbar": {
            "outlinewidth": 0,
            "ticks": ""
           }
          },
          "colorscale": {
           "diverging": [
            [
             0,
             "#8e0152"
            ],
            [
             0.1,
             "#c51b7d"
            ],
            [
             0.2,
             "#de77ae"
            ],
            [
             0.3,
             "#f1b6da"
            ],
            [
             0.4,
             "#fde0ef"
            ],
            [
             0.5,
             "#f7f7f7"
            ],
            [
             0.6,
             "#e6f5d0"
            ],
            [
             0.7,
             "#b8e186"
            ],
            [
             0.8,
             "#7fbc41"
            ],
            [
             0.9,
             "#4d9221"
            ],
            [
             1,
             "#276419"
            ]
           ],
           "sequential": [
            [
             0,
             "#0d0887"
            ],
            [
             0.1111111111111111,
             "#46039f"
            ],
            [
             0.2222222222222222,
             "#7201a8"
            ],
            [
             0.3333333333333333,
             "#9c179e"
            ],
            [
             0.4444444444444444,
             "#bd3786"
            ],
            [
             0.5555555555555556,
             "#d8576b"
            ],
            [
             0.6666666666666666,
             "#ed7953"
            ],
            [
             0.7777777777777778,
             "#fb9f3a"
            ],
            [
             0.8888888888888888,
             "#fdca26"
            ],
            [
             1,
             "#f0f921"
            ]
           ],
           "sequentialminus": [
            [
             0,
             "#0d0887"
            ],
            [
             0.1111111111111111,
             "#46039f"
            ],
            [
             0.2222222222222222,
             "#7201a8"
            ],
            [
             0.3333333333333333,
             "#9c179e"
            ],
            [
             0.4444444444444444,
             "#bd3786"
            ],
            [
             0.5555555555555556,
             "#d8576b"
            ],
            [
             0.6666666666666666,
             "#ed7953"
            ],
            [
             0.7777777777777778,
             "#fb9f3a"
            ],
            [
             0.8888888888888888,
             "#fdca26"
            ],
            [
             1,
             "#f0f921"
            ]
           ]
          },
          "colorway": [
           "#636efa",
           "#EF553B",
           "#00cc96",
           "#ab63fa",
           "#FFA15A",
           "#19d3f3",
           "#FF6692",
           "#B6E880",
           "#FF97FF",
           "#FECB52"
          ],
          "font": {
           "color": "#2a3f5f"
          },
          "geo": {
           "bgcolor": "white",
           "lakecolor": "white",
           "landcolor": "#E5ECF6",
           "showlakes": true,
           "showland": true,
           "subunitcolor": "white"
          },
          "hoverlabel": {
           "align": "left"
          },
          "hovermode": "closest",
          "mapbox": {
           "style": "light"
          },
          "paper_bgcolor": "white",
          "plot_bgcolor": "#E5ECF6",
          "polar": {
           "angularaxis": {
            "gridcolor": "white",
            "linecolor": "white",
            "ticks": ""
           },
           "bgcolor": "#E5ECF6",
           "radialaxis": {
            "gridcolor": "white",
            "linecolor": "white",
            "ticks": ""
           }
          },
          "scene": {
           "xaxis": {
            "backgroundcolor": "#E5ECF6",
            "gridcolor": "white",
            "gridwidth": 2,
            "linecolor": "white",
            "showbackground": true,
            "ticks": "",
            "zerolinecolor": "white"
           },
           "yaxis": {
            "backgroundcolor": "#E5ECF6",
            "gridcolor": "white",
            "gridwidth": 2,
            "linecolor": "white",
            "showbackground": true,
            "ticks": "",
            "zerolinecolor": "white"
           },
           "zaxis": {
            "backgroundcolor": "#E5ECF6",
            "gridcolor": "white",
            "gridwidth": 2,
            "linecolor": "white",
            "showbackground": true,
            "ticks": "",
            "zerolinecolor": "white"
           }
          },
          "shapedefaults": {
           "line": {
            "color": "#2a3f5f"
           }
          },
          "ternary": {
           "aaxis": {
            "gridcolor": "white",
            "linecolor": "white",
            "ticks": ""
           },
           "baxis": {
            "gridcolor": "white",
            "linecolor": "white",
            "ticks": ""
           },
           "bgcolor": "#E5ECF6",
           "caxis": {
            "gridcolor": "white",
            "linecolor": "white",
            "ticks": ""
           }
          },
          "title": {
           "x": 0.05
          },
          "xaxis": {
           "automargin": true,
           "gridcolor": "white",
           "linecolor": "white",
           "ticks": "",
           "title": {
            "standoff": 15
           },
           "zerolinecolor": "white",
           "zerolinewidth": 2
          },
          "yaxis": {
           "automargin": true,
           "gridcolor": "white",
           "linecolor": "white",
           "ticks": "",
           "title": {
            "standoff": 15
           },
           "zerolinecolor": "white",
           "zerolinewidth": 2
          }
         }
        },
        "title": {
         "text": "School attack data by country"
        },
        "xaxis": {
         "anchor": "y",
         "domain": [
          0,
          1
         ],
         "title": {
          "text": "Average Incidents Per Year"
         }
        },
        "yaxis": {
         "anchor": "x",
         "categoryarray": [
          "Tanzania",
          "Haiti",
          "Belarus",
          "United Arab Emirates",
          "Brazil",
          "Malaysia",
          "Togo",
          "Ecuador",
          "Senegal",
          "Angola",
          "Uganda",
          "Swaziland",
          "Sierra Leone",
          "Papua New Guinea",
          "Vietnam",
          "South Africa",
          "Bahrain",
          "China",
          "Chile",
          "Chad",
          "Malawi",
          "Israel",
          "Sri Lanka",
          "Lebanon",
          "Iran",
          "Niger",
          "Sweden",
          "Indonesia",
          "Zimbabwe",
          "Russia",
          "Ethiopia",
          "Kenya",
          "Myanmar",
          "Venezuela",
          "Burundi",
          "Egypt",
          "Cameroon",
          "Colombia",
          "Libya",
          "Sudan",
          "Thailand",
          "Turkey",
          "Bangladesh",
          "India",
          "Mali",
          "Central African Republic",
          "Philippines",
          "Pakistan",
          "Iraq",
          "Somalia",
          "Syria",
          "Ukraine",
          "Afghanistan",
          "South Sudan",
          "Democratic Republic of Congo",
          "Nigeria",
          "Yemen",
          "Palestine"
         ],
         "categoryorder": "array",
         "domain": [
          0,
          1
         ],
         "title": {
          "text": "Country"
         }
        }
       }
      },
      "text/html": [
       "<div>                            <div id=\"e21949b6-856c-4758-84b5-76bf355da426\" class=\"plotly-graph-div\" style=\"height:525px; width:100%;\"></div>            <script type=\"text/javascript\">                require([\"plotly\"], function(Plotly) {                    window.PLOTLYENV=window.PLOTLYENV || {};                                    if (document.getElementById(\"e21949b6-856c-4758-84b5-76bf355da426\")) {                    Plotly.newPlot(                        \"e21949b6-856c-4758-84b5-76bf355da426\",                        [{\"alignmentgroup\": \"True\", \"customdata\": [[184.6]], \"hovertemplate\": \"Country=%{y}<br>Average Incidents Per Year=%{x}<br>Average People Harmed Per Year=%{customdata[0]}<extra></extra>\", \"legendgroup\": \"Palestine\", \"marker\": {\"color\": \"#636efa\"}, \"name\": \"Palestine\", \"offsetgroup\": \"Palestine\", \"orientation\": \"h\", \"showlegend\": true, \"textposition\": \"auto\", \"type\": \"bar\", \"x\": [341.8], \"xaxis\": \"x\", \"y\": [\"Palestine\"], \"yaxis\": \"y\"}, {\"alignmentgroup\": \"True\", \"customdata\": [[57.4]], \"hovertemplate\": \"Country=%{y}<br>Average Incidents Per Year=%{x}<br>Average People Harmed Per Year=%{customdata[0]}<extra></extra>\", \"legendgroup\": \"Yemen\", \"marker\": {\"color\": \"#EF553B\"}, \"name\": \"Yemen\", \"offsetgroup\": \"Yemen\", \"orientation\": \"h\", \"showlegend\": true, \"textposition\": \"auto\", \"type\": \"bar\", \"x\": [324.2], \"xaxis\": \"x\", \"y\": [\"Yemen\"], \"yaxis\": \"y\"}, {\"alignmentgroup\": \"True\", \"customdata\": [[268.0]], \"hovertemplate\": \"Country=%{y}<br>Average Incidents Per Year=%{x}<br>Average People Harmed Per Year=%{customdata[0]}<extra></extra>\", \"legendgroup\": \"Nigeria\", \"marker\": {\"color\": \"#00cc96\"}, \"name\": \"Nigeria\", \"offsetgroup\": \"Nigeria\", \"orientation\": \"h\", \"showlegend\": true, \"textposition\": \"auto\", \"type\": \"bar\", \"x\": [320.6], \"xaxis\": \"x\", \"y\": [\"Nigeria\"], \"yaxis\": \"y\"}, {\"alignmentgroup\": \"True\", \"customdata\": [[25.6]], \"hovertemplate\": \"Country=%{y}<br>Average Incidents Per Year=%{x}<br>Average People Harmed Per Year=%{customdata[0]}<extra></extra>\", \"legendgroup\": \"Democratic Republic of Congo\", \"marker\": {\"color\": \"#ab63fa\"}, \"name\": \"Democratic Republic of Congo\", \"offsetgroup\": \"Democratic Republic of Congo\", \"orientation\": \"h\", \"showlegend\": true, \"textposition\": \"auto\", \"type\": \"bar\", \"x\": [244.4], \"xaxis\": \"x\", \"y\": [\"Democratic Republic of Congo\"], \"yaxis\": \"y\"}, {\"alignmentgroup\": \"True\", \"customdata\": [[186.2]], \"hovertemplate\": \"Country=%{y}<br>Average Incidents Per Year=%{x}<br>Average People Harmed Per Year=%{customdata[0]}<extra></extra>\", \"legendgroup\": \"South Sudan\", \"marker\": {\"color\": \"#FFA15A\"}, \"name\": \"South Sudan\", \"offsetgroup\": \"South Sudan\", \"orientation\": \"h\", \"showlegend\": true, \"textposition\": \"auto\", \"type\": \"bar\", \"x\": [201.6], \"xaxis\": \"x\", \"y\": [\"South Sudan\"], \"yaxis\": \"y\"}, {\"alignmentgroup\": \"True\", \"customdata\": [[177.6]], \"hovertemplate\": \"Country=%{y}<br>Average Incidents Per Year=%{x}<br>Average People Harmed Per Year=%{customdata[0]}<extra></extra>\", \"legendgroup\": \"Afghanistan\", \"marker\": {\"color\": \"#19d3f3\"}, \"name\": \"Afghanistan\", \"offsetgroup\": \"Afghanistan\", \"orientation\": \"h\", \"showlegend\": true, \"textposition\": \"auto\", \"type\": \"bar\", \"x\": [200.0], \"xaxis\": \"x\", \"y\": [\"Afghanistan\"], \"yaxis\": \"y\"}, {\"alignmentgroup\": \"True\", \"customdata\": [[4.0]], \"hovertemplate\": \"Country=%{y}<br>Average Incidents Per Year=%{x}<br>Average People Harmed Per Year=%{customdata[0]}<extra></extra>\", \"legendgroup\": \"Ukraine\", \"marker\": {\"color\": \"#FF6692\"}, \"name\": \"Ukraine\", \"offsetgroup\": \"Ukraine\", \"orientation\": \"h\", \"showlegend\": true, \"textposition\": \"auto\", \"type\": \"bar\", \"x\": [156.0], \"xaxis\": \"x\", \"y\": [\"Ukraine\"], \"yaxis\": \"y\"}, {\"alignmentgroup\": \"True\", \"customdata\": [[348.8]], \"hovertemplate\": \"Country=%{y}<br>Average Incidents Per Year=%{x}<br>Average People Harmed Per Year=%{customdata[0]}<extra></extra>\", \"legendgroup\": \"Syria\", \"marker\": {\"color\": \"#B6E880\"}, \"name\": \"Syria\", \"offsetgroup\": \"Syria\", \"orientation\": \"h\", \"showlegend\": true, \"textposition\": \"auto\", \"type\": \"bar\", \"x\": [155.4], \"xaxis\": \"x\", \"y\": [\"Syria\"], \"yaxis\": \"y\"}, {\"alignmentgroup\": \"True\", \"customdata\": [[115.8]], \"hovertemplate\": \"Country=%{y}<br>Average Incidents Per Year=%{x}<br>Average People Harmed Per Year=%{customdata[0]}<extra></extra>\", \"legendgroup\": \"Somalia\", \"marker\": {\"color\": \"#FF97FF\"}, \"name\": \"Somalia\", \"offsetgroup\": \"Somalia\", \"orientation\": \"h\", \"showlegend\": true, \"textposition\": \"auto\", \"type\": \"bar\", \"x\": [136.4], \"xaxis\": \"x\", \"y\": [\"Somalia\"], \"yaxis\": \"y\"}, {\"alignmentgroup\": \"True\", \"customdata\": [[132.6]], \"hovertemplate\": \"Country=%{y}<br>Average Incidents Per Year=%{x}<br>Average People Harmed Per Year=%{customdata[0]}<extra></extra>\", \"legendgroup\": \"Iraq\", \"marker\": {\"color\": \"#FECB52\"}, \"name\": \"Iraq\", \"offsetgroup\": \"Iraq\", \"orientation\": \"h\", \"showlegend\": true, \"textposition\": \"auto\", \"type\": \"bar\", \"x\": [99.6], \"xaxis\": \"x\", \"y\": [\"Iraq\"], \"yaxis\": \"y\"}, {\"alignmentgroup\": \"True\", \"customdata\": [[116.2]], \"hovertemplate\": \"Country=%{y}<br>Average Incidents Per Year=%{x}<br>Average People Harmed Per Year=%{customdata[0]}<extra></extra>\", \"legendgroup\": \"Pakistan\", \"marker\": {\"color\": \"#636efa\"}, \"name\": \"Pakistan\", \"offsetgroup\": \"Pakistan\", \"orientation\": \"h\", \"showlegend\": true, \"textposition\": \"auto\", \"type\": \"bar\", \"x\": [76.6], \"xaxis\": \"x\", \"y\": [\"Pakistan\"], \"yaxis\": \"y\"}, {\"alignmentgroup\": \"True\", \"customdata\": [[287.8]], \"hovertemplate\": \"Country=%{y}<br>Average Incidents Per Year=%{x}<br>Average People Harmed Per Year=%{customdata[0]}<extra></extra>\", \"legendgroup\": \"Philippines\", \"marker\": {\"color\": \"#EF553B\"}, \"name\": \"Philippines\", \"offsetgroup\": \"Philippines\", \"orientation\": \"h\", \"showlegend\": true, \"textposition\": \"auto\", \"type\": \"bar\", \"x\": [67.8], \"xaxis\": \"x\", \"y\": [\"Philippines\"], \"yaxis\": \"y\"}, {\"alignmentgroup\": \"True\", \"customdata\": [[25.25]], \"hovertemplate\": \"Country=%{y}<br>Average Incidents Per Year=%{x}<br>Average People Harmed Per Year=%{customdata[0]}<extra></extra>\", \"legendgroup\": \"Central African Republic\", \"marker\": {\"color\": \"#00cc96\"}, \"name\": \"Central African Republic\", \"offsetgroup\": \"Central African Republic\", \"orientation\": \"h\", \"showlegend\": true, \"textposition\": \"auto\", \"type\": \"bar\", \"x\": [57.8], \"xaxis\": \"x\", \"y\": [\"Central African Republic\"], \"yaxis\": \"y\"}, {\"alignmentgroup\": \"True\", \"customdata\": [[38.5]], \"hovertemplate\": \"Country=%{y}<br>Average Incidents Per Year=%{x}<br>Average People Harmed Per Year=%{customdata[0]}<extra></extra>\", \"legendgroup\": \"Mali\", \"marker\": {\"color\": \"#ab63fa\"}, \"name\": \"Mali\", \"offsetgroup\": \"Mali\", \"orientation\": \"h\", \"showlegend\": true, \"textposition\": \"auto\", \"type\": \"bar\", \"x\": [46.6], \"xaxis\": \"x\", \"y\": [\"Mali\"], \"yaxis\": \"y\"}, {\"alignmentgroup\": \"True\", \"customdata\": [[156.2]], \"hovertemplate\": \"Country=%{y}<br>Average Incidents Per Year=%{x}<br>Average People Harmed Per Year=%{customdata[0]}<extra></extra>\", \"legendgroup\": \"India\", \"marker\": {\"color\": \"#FFA15A\"}, \"name\": \"India\", \"offsetgroup\": \"India\", \"orientation\": \"h\", \"showlegend\": true, \"textposition\": \"auto\", \"type\": \"bar\", \"x\": [41.0], \"xaxis\": \"x\", \"y\": [\"India\"], \"yaxis\": \"y\"}, {\"alignmentgroup\": \"True\", \"customdata\": [[12.0]], \"hovertemplate\": \"Country=%{y}<br>Average Incidents Per Year=%{x}<br>Average People Harmed Per Year=%{customdata[0]}<extra></extra>\", \"legendgroup\": \"Bangladesh\", \"marker\": {\"color\": \"#19d3f3\"}, \"name\": \"Bangladesh\", \"offsetgroup\": \"Bangladesh\", \"orientation\": \"h\", \"showlegend\": true, \"textposition\": \"auto\", \"type\": \"bar\", \"x\": [30.6], \"xaxis\": \"x\", \"y\": [\"Bangladesh\"], \"yaxis\": \"y\"}, {\"alignmentgroup\": \"True\", \"customdata\": [[308.2]], \"hovertemplate\": \"Country=%{y}<br>Average Incidents Per Year=%{x}<br>Average People Harmed Per Year=%{customdata[0]}<extra></extra>\", \"legendgroup\": \"Turkey\", \"marker\": {\"color\": \"#FF6692\"}, \"name\": \"Turkey\", \"offsetgroup\": \"Turkey\", \"orientation\": \"h\", \"showlegend\": true, \"textposition\": \"auto\", \"type\": \"bar\", \"x\": [28.6], \"xaxis\": \"x\", \"y\": [\"Turkey\"], \"yaxis\": \"y\"}, {\"alignmentgroup\": \"True\", \"customdata\": [[46.8]], \"hovertemplate\": \"Country=%{y}<br>Average Incidents Per Year=%{x}<br>Average People Harmed Per Year=%{customdata[0]}<extra></extra>\", \"legendgroup\": \"Thailand\", \"marker\": {\"color\": \"#B6E880\"}, \"name\": \"Thailand\", \"offsetgroup\": \"Thailand\", \"orientation\": \"h\", \"showlegend\": true, \"textposition\": \"auto\", \"type\": \"bar\", \"x\": [27.6], \"xaxis\": \"x\", \"y\": [\"Thailand\"], \"yaxis\": \"y\"}, {\"alignmentgroup\": \"True\", \"customdata\": [[140.2]], \"hovertemplate\": \"Country=%{y}<br>Average Incidents Per Year=%{x}<br>Average People Harmed Per Year=%{customdata[0]}<extra></extra>\", \"legendgroup\": \"Sudan\", \"marker\": {\"color\": \"#FF97FF\"}, \"name\": \"Sudan\", \"offsetgroup\": \"Sudan\", \"orientation\": \"h\", \"showlegend\": true, \"textposition\": \"auto\", \"type\": \"bar\", \"x\": [27.2], \"xaxis\": \"x\", \"y\": [\"Sudan\"], \"yaxis\": \"y\"}, {\"alignmentgroup\": \"True\", \"customdata\": [[10.0]], \"hovertemplate\": \"Country=%{y}<br>Average Incidents Per Year=%{x}<br>Average People Harmed Per Year=%{customdata[0]}<extra></extra>\", \"legendgroup\": \"Libya\", \"marker\": {\"color\": \"#FECB52\"}, \"name\": \"Libya\", \"offsetgroup\": \"Libya\", \"orientation\": \"h\", \"showlegend\": true, \"textposition\": \"auto\", \"type\": \"bar\", \"x\": [17.6], \"xaxis\": \"x\", \"y\": [\"Libya\"], \"yaxis\": \"y\"}, {\"alignmentgroup\": \"True\", \"customdata\": [[39.4]], \"hovertemplate\": \"Country=%{y}<br>Average Incidents Per Year=%{x}<br>Average People Harmed Per Year=%{customdata[0]}<extra></extra>\", \"legendgroup\": \"Colombia\", \"marker\": {\"color\": \"#636efa\"}, \"name\": \"Colombia\", \"offsetgroup\": \"Colombia\", \"orientation\": \"h\", \"showlegend\": true, \"textposition\": \"auto\", \"type\": \"bar\", \"x\": [17.6], \"xaxis\": \"x\", \"y\": [\"Colombia\"], \"yaxis\": \"y\"}, {\"alignmentgroup\": \"True\", \"customdata\": [[26.75]], \"hovertemplate\": \"Country=%{y}<br>Average Incidents Per Year=%{x}<br>Average People Harmed Per Year=%{customdata[0]}<extra></extra>\", \"legendgroup\": \"Cameroon\", \"marker\": {\"color\": \"#EF553B\"}, \"name\": \"Cameroon\", \"offsetgroup\": \"Cameroon\", \"orientation\": \"h\", \"showlegend\": true, \"textposition\": \"auto\", \"type\": \"bar\", \"x\": [16.75], \"xaxis\": \"x\", \"y\": [\"Cameroon\"], \"yaxis\": \"y\"}, {\"alignmentgroup\": \"True\", \"customdata\": [[254.8]], \"hovertemplate\": \"Country=%{y}<br>Average Incidents Per Year=%{x}<br>Average People Harmed Per Year=%{customdata[0]}<extra></extra>\", \"legendgroup\": \"Egypt\", \"marker\": {\"color\": \"#00cc96\"}, \"name\": \"Egypt\", \"offsetgroup\": \"Egypt\", \"orientation\": \"h\", \"showlegend\": true, \"textposition\": \"auto\", \"type\": \"bar\", \"x\": [15.6], \"xaxis\": \"x\", \"y\": [\"Egypt\"], \"yaxis\": \"y\"}, {\"alignmentgroup\": \"True\", \"customdata\": [[60.666666666666664]], \"hovertemplate\": \"Country=%{y}<br>Average Incidents Per Year=%{x}<br>Average People Harmed Per Year=%{customdata[0]}<extra></extra>\", \"legendgroup\": \"Burundi\", \"marker\": {\"color\": \"#ab63fa\"}, \"name\": \"Burundi\", \"offsetgroup\": \"Burundi\", \"orientation\": \"h\", \"showlegend\": true, \"textposition\": \"auto\", \"type\": \"bar\", \"x\": [12.333333333333334], \"xaxis\": \"x\", \"y\": [\"Burundi\"], \"yaxis\": \"y\"}, {\"alignmentgroup\": \"True\", \"customdata\": [[165.25]], \"hovertemplate\": \"Country=%{y}<br>Average Incidents Per Year=%{x}<br>Average People Harmed Per Year=%{customdata[0]}<extra></extra>\", \"legendgroup\": \"Venezuela\", \"marker\": {\"color\": \"#FFA15A\"}, \"name\": \"Venezuela\", \"offsetgroup\": \"Venezuela\", \"orientation\": \"h\", \"showlegend\": true, \"textposition\": \"auto\", \"type\": \"bar\", \"x\": [10.5], \"xaxis\": \"x\", \"y\": [\"Venezuela\"], \"yaxis\": \"y\"}, {\"alignmentgroup\": \"True\", \"customdata\": [[43.75]], \"hovertemplate\": \"Country=%{y}<br>Average Incidents Per Year=%{x}<br>Average People Harmed Per Year=%{customdata[0]}<extra></extra>\", \"legendgroup\": \"Myanmar\", \"marker\": {\"color\": \"#19d3f3\"}, \"name\": \"Myanmar\", \"offsetgroup\": \"Myanmar\", \"orientation\": \"h\", \"showlegend\": true, \"textposition\": \"auto\", \"type\": \"bar\", \"x\": [10.2], \"xaxis\": \"x\", \"y\": [\"Myanmar\"], \"yaxis\": \"y\"}, {\"alignmentgroup\": \"True\", \"customdata\": [[91.6]], \"hovertemplate\": \"Country=%{y}<br>Average Incidents Per Year=%{x}<br>Average People Harmed Per Year=%{customdata[0]}<extra></extra>\", \"legendgroup\": \"Kenya\", \"marker\": {\"color\": \"#FF6692\"}, \"name\": \"Kenya\", \"offsetgroup\": \"Kenya\", \"orientation\": \"h\", \"showlegend\": true, \"textposition\": \"auto\", \"type\": \"bar\", \"x\": [7.4], \"xaxis\": \"x\", \"y\": [\"Kenya\"], \"yaxis\": \"y\"}, {\"alignmentgroup\": \"True\", \"customdata\": [[48.0]], \"hovertemplate\": \"Country=%{y}<br>Average Incidents Per Year=%{x}<br>Average People Harmed Per Year=%{customdata[0]}<extra></extra>\", \"legendgroup\": \"Ethiopia\", \"marker\": {\"color\": \"#B6E880\"}, \"name\": \"Ethiopia\", \"offsetgroup\": \"Ethiopia\", \"orientation\": \"h\", \"showlegend\": true, \"textposition\": \"auto\", \"type\": \"bar\", \"x\": [7.4], \"xaxis\": \"x\", \"y\": [\"Ethiopia\"], \"yaxis\": \"y\"}, {\"alignmentgroup\": \"True\", \"customdata\": [[5.75]], \"hovertemplate\": \"Country=%{y}<br>Average Incidents Per Year=%{x}<br>Average People Harmed Per Year=%{customdata[0]}<extra></extra>\", \"legendgroup\": \"Russia\", \"marker\": {\"color\": \"#FF97FF\"}, \"name\": \"Russia\", \"offsetgroup\": \"Russia\", \"orientation\": \"h\", \"showlegend\": true, \"textposition\": \"auto\", \"type\": \"bar\", \"x\": [4.5], \"xaxis\": \"x\", \"y\": [\"Russia\"], \"yaxis\": \"y\"}, {\"alignmentgroup\": \"True\", \"customdata\": [[17.333333333333332]], \"hovertemplate\": \"Country=%{y}<br>Average Incidents Per Year=%{x}<br>Average People Harmed Per Year=%{customdata[0]}<extra></extra>\", \"legendgroup\": \"Zimbabwe\", \"marker\": {\"color\": \"#FECB52\"}, \"name\": \"Zimbabwe\", \"offsetgroup\": \"Zimbabwe\", \"orientation\": \"h\", \"showlegend\": true, \"textposition\": \"auto\", \"type\": \"bar\", \"x\": [3.0], \"xaxis\": \"x\", \"y\": [\"Zimbabwe\"], \"yaxis\": \"y\"}, {\"alignmentgroup\": \"True\", \"customdata\": [[7.75]], \"hovertemplate\": \"Country=%{y}<br>Average Incidents Per Year=%{x}<br>Average People Harmed Per Year=%{customdata[0]}<extra></extra>\", \"legendgroup\": \"Indonesia\", \"marker\": {\"color\": \"#636efa\"}, \"name\": \"Indonesia\", \"offsetgroup\": \"Indonesia\", \"orientation\": \"h\", \"showlegend\": true, \"textposition\": \"auto\", \"type\": \"bar\", \"x\": [3.0], \"xaxis\": \"x\", \"y\": [\"Indonesia\"], \"yaxis\": \"y\"}, {\"alignmentgroup\": \"True\", \"customdata\": [[3.0]], \"hovertemplate\": \"Country=%{y}<br>Average Incidents Per Year=%{x}<br>Average People Harmed Per Year=%{customdata[0]}<extra></extra>\", \"legendgroup\": \"Sweden\", \"marker\": {\"color\": \"#EF553B\"}, \"name\": \"Sweden\", \"offsetgroup\": \"Sweden\", \"orientation\": \"h\", \"showlegend\": true, \"textposition\": \"auto\", \"type\": \"bar\", \"x\": [3.0], \"xaxis\": \"x\", \"y\": [\"Sweden\"], \"yaxis\": \"y\"}, {\"alignmentgroup\": \"True\", \"customdata\": [[2.0]], \"hovertemplate\": \"Country=%{y}<br>Average Incidents Per Year=%{x}<br>Average People Harmed Per Year=%{customdata[0]}<extra></extra>\", \"legendgroup\": \"Niger\", \"marker\": {\"color\": \"#00cc96\"}, \"name\": \"Niger\", \"offsetgroup\": \"Niger\", \"orientation\": \"h\", \"showlegend\": true, \"textposition\": \"auto\", \"type\": \"bar\", \"x\": [3.0], \"xaxis\": \"x\", \"y\": [\"Niger\"], \"yaxis\": \"y\"}, {\"alignmentgroup\": \"True\", \"customdata\": [[46.666666666666664]], \"hovertemplate\": \"Country=%{y}<br>Average Incidents Per Year=%{x}<br>Average People Harmed Per Year=%{customdata[0]}<extra></extra>\", \"legendgroup\": \"Iran\", \"marker\": {\"color\": \"#ab63fa\"}, \"name\": \"Iran\", \"offsetgroup\": \"Iran\", \"orientation\": \"h\", \"showlegend\": true, \"textposition\": \"auto\", \"type\": \"bar\", \"x\": [3.0], \"xaxis\": \"x\", \"y\": [\"Iran\"], \"yaxis\": \"y\"}, {\"alignmentgroup\": \"True\", \"customdata\": [[5.0]], \"hovertemplate\": \"Country=%{y}<br>Average Incidents Per Year=%{x}<br>Average People Harmed Per Year=%{customdata[0]}<extra></extra>\", \"legendgroup\": \"Lebanon\", \"marker\": {\"color\": \"#FFA15A\"}, \"name\": \"Lebanon\", \"offsetgroup\": \"Lebanon\", \"orientation\": \"h\", \"showlegend\": true, \"textposition\": \"auto\", \"type\": \"bar\", \"x\": [2.8], \"xaxis\": \"x\", \"y\": [\"Lebanon\"], \"yaxis\": \"y\"}, {\"alignmentgroup\": \"True\", \"customdata\": [[11.5]], \"hovertemplate\": \"Country=%{y}<br>Average Incidents Per Year=%{x}<br>Average People Harmed Per Year=%{customdata[0]}<extra></extra>\", \"legendgroup\": \"Sri Lanka\", \"marker\": {\"color\": \"#19d3f3\"}, \"name\": \"Sri Lanka\", \"offsetgroup\": \"Sri Lanka\", \"orientation\": \"h\", \"showlegend\": true, \"textposition\": \"auto\", \"type\": \"bar\", \"x\": [2.5], \"xaxis\": \"x\", \"y\": [\"Sri Lanka\"], \"yaxis\": \"y\"}, {\"alignmentgroup\": \"True\", \"customdata\": [[1.0]], \"hovertemplate\": \"Country=%{y}<br>Average Incidents Per Year=%{x}<br>Average People Harmed Per Year=%{customdata[0]}<extra></extra>\", \"legendgroup\": \"Israel\", \"marker\": {\"color\": \"#FF6692\"}, \"name\": \"Israel\", \"offsetgroup\": \"Israel\", \"orientation\": \"h\", \"showlegend\": true, \"textposition\": \"auto\", \"type\": \"bar\", \"x\": [2.2], \"xaxis\": \"x\", \"y\": [\"Israel\"], \"yaxis\": \"y\"}, {\"alignmentgroup\": \"True\", \"customdata\": [[27.0]], \"hovertemplate\": \"Country=%{y}<br>Average Incidents Per Year=%{x}<br>Average People Harmed Per Year=%{customdata[0]}<extra></extra>\", \"legendgroup\": \"Malawi\", \"marker\": {\"color\": \"#B6E880\"}, \"name\": \"Malawi\", \"offsetgroup\": \"Malawi\", \"orientation\": \"h\", \"showlegend\": true, \"textposition\": \"auto\", \"type\": \"bar\", \"x\": [2.0], \"xaxis\": \"x\", \"y\": [\"Malawi\"], \"yaxis\": \"y\"}, {\"alignmentgroup\": \"True\", \"customdata\": [[10.0]], \"hovertemplate\": \"Country=%{y}<br>Average Incidents Per Year=%{x}<br>Average People Harmed Per Year=%{customdata[0]}<extra></extra>\", \"legendgroup\": \"Chad\", \"marker\": {\"color\": \"#FF97FF\"}, \"name\": \"Chad\", \"offsetgroup\": \"Chad\", \"orientation\": \"h\", \"showlegend\": true, \"textposition\": \"auto\", \"type\": \"bar\", \"x\": [2.0], \"xaxis\": \"x\", \"y\": [\"Chad\"], \"yaxis\": \"y\"}, {\"alignmentgroup\": \"True\", \"customdata\": [[43.5]], \"hovertemplate\": \"Country=%{y}<br>Average Incidents Per Year=%{x}<br>Average People Harmed Per Year=%{customdata[0]}<extra></extra>\", \"legendgroup\": \"Chile\", \"marker\": {\"color\": \"#FECB52\"}, \"name\": \"Chile\", \"offsetgroup\": \"Chile\", \"orientation\": \"h\", \"showlegend\": true, \"textposition\": \"auto\", \"type\": \"bar\", \"x\": [2.0], \"xaxis\": \"x\", \"y\": [\"Chile\"], \"yaxis\": \"y\"}, {\"alignmentgroup\": \"True\", \"customdata\": [[3.6666666666666665]], \"hovertemplate\": \"Country=%{y}<br>Average Incidents Per Year=%{x}<br>Average People Harmed Per Year=%{customdata[0]}<extra></extra>\", \"legendgroup\": \"China\", \"marker\": {\"color\": \"#636efa\"}, \"name\": \"China\", \"offsetgroup\": \"China\", \"orientation\": \"h\", \"showlegend\": true, \"textposition\": \"auto\", \"type\": \"bar\", \"x\": [1.6666666666666667], \"xaxis\": \"x\", \"y\": [\"China\"], \"yaxis\": \"y\"}, {\"alignmentgroup\": \"True\", \"customdata\": [[1.3333333333333333]], \"hovertemplate\": \"Country=%{y}<br>Average Incidents Per Year=%{x}<br>Average People Harmed Per Year=%{customdata[0]}<extra></extra>\", \"legendgroup\": \"Bahrain\", \"marker\": {\"color\": \"#EF553B\"}, \"name\": \"Bahrain\", \"offsetgroup\": \"Bahrain\", \"orientation\": \"h\", \"showlegend\": true, \"textposition\": \"auto\", \"type\": \"bar\", \"x\": [1.6666666666666667], \"xaxis\": \"x\", \"y\": [\"Bahrain\"], \"yaxis\": \"y\"}, {\"alignmentgroup\": \"True\", \"customdata\": [[2.5]], \"hovertemplate\": \"Country=%{y}<br>Average Incidents Per Year=%{x}<br>Average People Harmed Per Year=%{customdata[0]}<extra></extra>\", \"legendgroup\": \"South Africa\", \"marker\": {\"color\": \"#00cc96\"}, \"name\": \"South Africa\", \"offsetgroup\": \"South Africa\", \"orientation\": \"h\", \"showlegend\": true, \"textposition\": \"auto\", \"type\": \"bar\", \"x\": [1.6666666666666667], \"xaxis\": \"x\", \"y\": [\"South Africa\"], \"yaxis\": \"y\"}, {\"alignmentgroup\": \"True\", \"customdata\": [[2.0]], \"hovertemplate\": \"Country=%{y}<br>Average Incidents Per Year=%{x}<br>Average People Harmed Per Year=%{customdata[0]}<extra></extra>\", \"legendgroup\": \"Vietnam\", \"marker\": {\"color\": \"#ab63fa\"}, \"name\": \"Vietnam\", \"offsetgroup\": \"Vietnam\", \"orientation\": \"h\", \"showlegend\": true, \"textposition\": \"auto\", \"type\": \"bar\", \"x\": [1.5], \"xaxis\": \"x\", \"y\": [\"Vietnam\"], \"yaxis\": \"y\"}, {\"alignmentgroup\": \"True\", \"customdata\": [[13.0]], \"hovertemplate\": \"Country=%{y}<br>Average Incidents Per Year=%{x}<br>Average People Harmed Per Year=%{customdata[0]}<extra></extra>\", \"legendgroup\": \"Papua New Guinea\", \"marker\": {\"color\": \"#FFA15A\"}, \"name\": \"Papua New Guinea\", \"offsetgroup\": \"Papua New Guinea\", \"orientation\": \"h\", \"showlegend\": true, \"textposition\": \"auto\", \"type\": \"bar\", \"x\": [1.5], \"xaxis\": \"x\", \"y\": [\"Papua New Guinea\"], \"yaxis\": \"y\"}, {\"alignmentgroup\": \"True\", \"customdata\": [[1.0]], \"hovertemplate\": \"Country=%{y}<br>Average Incidents Per Year=%{x}<br>Average People Harmed Per Year=%{customdata[0]}<extra></extra>\", \"legendgroup\": \"Sierra Leone\", \"marker\": {\"color\": \"#19d3f3\"}, \"name\": \"Sierra Leone\", \"offsetgroup\": \"Sierra Leone\", \"orientation\": \"h\", \"showlegend\": true, \"textposition\": \"auto\", \"type\": \"bar\", \"x\": [1.5], \"xaxis\": \"x\", \"y\": [\"Sierra Leone\"], \"yaxis\": \"y\"}, {\"alignmentgroup\": \"True\", \"customdata\": [[2.0]], \"hovertemplate\": \"Country=%{y}<br>Average Incidents Per Year=%{x}<br>Average People Harmed Per Year=%{customdata[0]}<extra></extra>\", \"legendgroup\": \"Swaziland\", \"marker\": {\"color\": \"#FF6692\"}, \"name\": \"Swaziland\", \"offsetgroup\": \"Swaziland\", \"orientation\": \"h\", \"showlegend\": true, \"textposition\": \"auto\", \"type\": \"bar\", \"x\": [1.3333333333333333], \"xaxis\": \"x\", \"y\": [\"Swaziland\"], \"yaxis\": \"y\"}, {\"alignmentgroup\": \"True\", \"customdata\": [[10.0]], \"hovertemplate\": \"Country=%{y}<br>Average Incidents Per Year=%{x}<br>Average People Harmed Per Year=%{customdata[0]}<extra></extra>\", \"legendgroup\": \"Uganda\", \"marker\": {\"color\": \"#B6E880\"}, \"name\": \"Uganda\", \"offsetgroup\": \"Uganda\", \"orientation\": \"h\", \"showlegend\": true, \"textposition\": \"auto\", \"type\": \"bar\", \"x\": [1.3333333333333333], \"xaxis\": \"x\", \"y\": [\"Uganda\"], \"yaxis\": \"y\"}, {\"alignmentgroup\": \"True\", \"customdata\": [[11.5]], \"hovertemplate\": \"Country=%{y}<br>Average Incidents Per Year=%{x}<br>Average People Harmed Per Year=%{customdata[0]}<extra></extra>\", \"legendgroup\": \"Angola\", \"marker\": {\"color\": \"#FF97FF\"}, \"name\": \"Angola\", \"offsetgroup\": \"Angola\", \"orientation\": \"h\", \"showlegend\": true, \"textposition\": \"auto\", \"type\": \"bar\", \"x\": [1.0], \"xaxis\": \"x\", \"y\": [\"Angola\"], \"yaxis\": \"y\"}, {\"alignmentgroup\": \"True\", \"customdata\": [[28.0]], \"hovertemplate\": \"Country=%{y}<br>Average Incidents Per Year=%{x}<br>Average People Harmed Per Year=%{customdata[0]}<extra></extra>\", \"legendgroup\": \"Senegal\", \"marker\": {\"color\": \"#FECB52\"}, \"name\": \"Senegal\", \"offsetgroup\": \"Senegal\", \"orientation\": \"h\", \"showlegend\": true, \"textposition\": \"auto\", \"type\": \"bar\", \"x\": [1.0], \"xaxis\": \"x\", \"y\": [\"Senegal\"], \"yaxis\": \"y\"}, {\"alignmentgroup\": \"True\", \"customdata\": [[1.0]], \"hovertemplate\": \"Country=%{y}<br>Average Incidents Per Year=%{x}<br>Average People Harmed Per Year=%{customdata[0]}<extra></extra>\", \"legendgroup\": \"Ecuador\", \"marker\": {\"color\": \"#636efa\"}, \"name\": \"Ecuador\", \"offsetgroup\": \"Ecuador\", \"orientation\": \"h\", \"showlegend\": true, \"textposition\": \"auto\", \"type\": \"bar\", \"x\": [1.0], \"xaxis\": \"x\", \"y\": [\"Ecuador\"], \"yaxis\": \"y\"}, {\"alignmentgroup\": \"True\", \"customdata\": [[5.0]], \"hovertemplate\": \"Country=%{y}<br>Average Incidents Per Year=%{x}<br>Average People Harmed Per Year=%{customdata[0]}<extra></extra>\", \"legendgroup\": \"Togo\", \"marker\": {\"color\": \"#EF553B\"}, \"name\": \"Togo\", \"offsetgroup\": \"Togo\", \"orientation\": \"h\", \"showlegend\": true, \"textposition\": \"auto\", \"type\": \"bar\", \"x\": [1.0], \"xaxis\": \"x\", \"y\": [\"Togo\"], \"yaxis\": \"y\"}, {\"alignmentgroup\": \"True\", \"customdata\": [[1.0]], \"hovertemplate\": \"Country=%{y}<br>Average Incidents Per Year=%{x}<br>Average People Harmed Per Year=%{customdata[0]}<extra></extra>\", \"legendgroup\": \"Malaysia\", \"marker\": {\"color\": \"#00cc96\"}, \"name\": \"Malaysia\", \"offsetgroup\": \"Malaysia\", \"orientation\": \"h\", \"showlegend\": true, \"textposition\": \"auto\", \"type\": \"bar\", \"x\": [1.0], \"xaxis\": \"x\", \"y\": [\"Malaysia\"], \"yaxis\": \"y\"}, {\"alignmentgroup\": \"True\", \"customdata\": [[1.0]], \"hovertemplate\": \"Country=%{y}<br>Average Incidents Per Year=%{x}<br>Average People Harmed Per Year=%{customdata[0]}<extra></extra>\", \"legendgroup\": \"Brazil\", \"marker\": {\"color\": \"#ab63fa\"}, \"name\": \"Brazil\", \"offsetgroup\": \"Brazil\", \"orientation\": \"h\", \"showlegend\": true, \"textposition\": \"auto\", \"type\": \"bar\", \"x\": [1.0], \"xaxis\": \"x\", \"y\": [\"Brazil\"], \"yaxis\": \"y\"}, {\"alignmentgroup\": \"True\", \"customdata\": [[1.0]], \"hovertemplate\": \"Country=%{y}<br>Average Incidents Per Year=%{x}<br>Average People Harmed Per Year=%{customdata[0]}<extra></extra>\", \"legendgroup\": \"United Arab Emirates\", \"marker\": {\"color\": \"#FFA15A\"}, \"name\": \"United Arab Emirates\", \"offsetgroup\": \"United Arab Emirates\", \"orientation\": \"h\", \"showlegend\": true, \"textposition\": \"auto\", \"type\": \"bar\", \"x\": [1.0], \"xaxis\": \"x\", \"y\": [\"United Arab Emirates\"], \"yaxis\": \"y\"}, {\"alignmentgroup\": \"True\", \"customdata\": [[3.0]], \"hovertemplate\": \"Country=%{y}<br>Average Incidents Per Year=%{x}<br>Average People Harmed Per Year=%{customdata[0]}<extra></extra>\", \"legendgroup\": \"Belarus\", \"marker\": {\"color\": \"#19d3f3\"}, \"name\": \"Belarus\", \"offsetgroup\": \"Belarus\", \"orientation\": \"h\", \"showlegend\": true, \"textposition\": \"auto\", \"type\": \"bar\", \"x\": [1.0], \"xaxis\": \"x\", \"y\": [\"Belarus\"], \"yaxis\": \"y\"}, {\"alignmentgroup\": \"True\", \"customdata\": [[1.0]], \"hovertemplate\": \"Country=%{y}<br>Average Incidents Per Year=%{x}<br>Average People Harmed Per Year=%{customdata[0]}<extra></extra>\", \"legendgroup\": \"Haiti\", \"marker\": {\"color\": \"#FF6692\"}, \"name\": \"Haiti\", \"offsetgroup\": \"Haiti\", \"orientation\": \"h\", \"showlegend\": true, \"textposition\": \"auto\", \"type\": \"bar\", \"x\": [1.0], \"xaxis\": \"x\", \"y\": [\"Haiti\"], \"yaxis\": \"y\"}, {\"alignmentgroup\": \"True\", \"customdata\": [[31.0]], \"hovertemplate\": \"Country=%{y}<br>Average Incidents Per Year=%{x}<br>Average People Harmed Per Year=%{customdata[0]}<extra></extra>\", \"legendgroup\": \"Tanzania\", \"marker\": {\"color\": \"#B6E880\"}, \"name\": \"Tanzania\", \"offsetgroup\": \"Tanzania\", \"orientation\": \"h\", \"showlegend\": true, \"textposition\": \"auto\", \"type\": \"bar\", \"x\": [1.0], \"xaxis\": \"x\", \"y\": [\"Tanzania\"], \"yaxis\": \"y\"}],                        {\"barmode\": \"relative\", \"legend\": {\"title\": {\"text\": \"Country\"}, \"tracegroupgap\": 0}, \"template\": {\"data\": {\"bar\": [{\"error_x\": {\"color\": \"#2a3f5f\"}, \"error_y\": {\"color\": \"#2a3f5f\"}, \"marker\": {\"line\": {\"color\": \"#E5ECF6\", \"width\": 0.5}}, \"type\": \"bar\"}], \"barpolar\": [{\"marker\": {\"line\": {\"color\": \"#E5ECF6\", \"width\": 0.5}}, \"type\": \"barpolar\"}], \"carpet\": [{\"aaxis\": {\"endlinecolor\": \"#2a3f5f\", \"gridcolor\": \"white\", \"linecolor\": \"white\", \"minorgridcolor\": \"white\", \"startlinecolor\": \"#2a3f5f\"}, \"baxis\": {\"endlinecolor\": \"#2a3f5f\", \"gridcolor\": \"white\", \"linecolor\": \"white\", \"minorgridcolor\": \"white\", \"startlinecolor\": \"#2a3f5f\"}, \"type\": \"carpet\"}], \"choropleth\": [{\"colorbar\": {\"outlinewidth\": 0, \"ticks\": \"\"}, \"type\": \"choropleth\"}], \"contour\": [{\"colorbar\": {\"outlinewidth\": 0, \"ticks\": \"\"}, \"colorscale\": [[0.0, \"#0d0887\"], [0.1111111111111111, \"#46039f\"], [0.2222222222222222, \"#7201a8\"], [0.3333333333333333, \"#9c179e\"], [0.4444444444444444, \"#bd3786\"], [0.5555555555555556, \"#d8576b\"], [0.6666666666666666, \"#ed7953\"], [0.7777777777777778, \"#fb9f3a\"], [0.8888888888888888, \"#fdca26\"], [1.0, \"#f0f921\"]], \"type\": \"contour\"}], \"contourcarpet\": [{\"colorbar\": {\"outlinewidth\": 0, \"ticks\": \"\"}, \"type\": \"contourcarpet\"}], \"heatmap\": [{\"colorbar\": {\"outlinewidth\": 0, \"ticks\": \"\"}, \"colorscale\": [[0.0, \"#0d0887\"], [0.1111111111111111, \"#46039f\"], [0.2222222222222222, \"#7201a8\"], [0.3333333333333333, \"#9c179e\"], [0.4444444444444444, \"#bd3786\"], [0.5555555555555556, \"#d8576b\"], [0.6666666666666666, \"#ed7953\"], [0.7777777777777778, \"#fb9f3a\"], [0.8888888888888888, \"#fdca26\"], [1.0, \"#f0f921\"]], \"type\": \"heatmap\"}], \"heatmapgl\": [{\"colorbar\": {\"outlinewidth\": 0, \"ticks\": \"\"}, \"colorscale\": [[0.0, \"#0d0887\"], [0.1111111111111111, \"#46039f\"], [0.2222222222222222, \"#7201a8\"], [0.3333333333333333, \"#9c179e\"], [0.4444444444444444, \"#bd3786\"], [0.5555555555555556, \"#d8576b\"], [0.6666666666666666, \"#ed7953\"], [0.7777777777777778, \"#fb9f3a\"], [0.8888888888888888, \"#fdca26\"], [1.0, \"#f0f921\"]], \"type\": \"heatmapgl\"}], \"histogram\": [{\"marker\": {\"colorbar\": {\"outlinewidth\": 0, \"ticks\": \"\"}}, \"type\": \"histogram\"}], \"histogram2d\": [{\"colorbar\": {\"outlinewidth\": 0, \"ticks\": \"\"}, \"colorscale\": [[0.0, \"#0d0887\"], [0.1111111111111111, \"#46039f\"], [0.2222222222222222, \"#7201a8\"], [0.3333333333333333, \"#9c179e\"], [0.4444444444444444, \"#bd3786\"], [0.5555555555555556, \"#d8576b\"], [0.6666666666666666, \"#ed7953\"], [0.7777777777777778, \"#fb9f3a\"], [0.8888888888888888, \"#fdca26\"], [1.0, \"#f0f921\"]], \"type\": \"histogram2d\"}], \"histogram2dcontour\": [{\"colorbar\": {\"outlinewidth\": 0, \"ticks\": \"\"}, \"colorscale\": [[0.0, \"#0d0887\"], [0.1111111111111111, \"#46039f\"], [0.2222222222222222, \"#7201a8\"], [0.3333333333333333, \"#9c179e\"], [0.4444444444444444, \"#bd3786\"], [0.5555555555555556, \"#d8576b\"], [0.6666666666666666, \"#ed7953\"], [0.7777777777777778, \"#fb9f3a\"], [0.8888888888888888, \"#fdca26\"], [1.0, \"#f0f921\"]], \"type\": \"histogram2dcontour\"}], \"mesh3d\": [{\"colorbar\": {\"outlinewidth\": 0, \"ticks\": \"\"}, \"type\": \"mesh3d\"}], \"parcoords\": [{\"line\": {\"colorbar\": {\"outlinewidth\": 0, \"ticks\": \"\"}}, \"type\": \"parcoords\"}], \"pie\": [{\"automargin\": true, \"type\": \"pie\"}], \"scatter\": [{\"marker\": {\"colorbar\": {\"outlinewidth\": 0, \"ticks\": \"\"}}, \"type\": \"scatter\"}], \"scatter3d\": [{\"line\": {\"colorbar\": {\"outlinewidth\": 0, \"ticks\": \"\"}}, \"marker\": {\"colorbar\": {\"outlinewidth\": 0, \"ticks\": \"\"}}, \"type\": \"scatter3d\"}], \"scattercarpet\": [{\"marker\": {\"colorbar\": {\"outlinewidth\": 0, \"ticks\": \"\"}}, \"type\": \"scattercarpet\"}], \"scattergeo\": [{\"marker\": {\"colorbar\": {\"outlinewidth\": 0, \"ticks\": \"\"}}, \"type\": \"scattergeo\"}], \"scattergl\": [{\"marker\": {\"colorbar\": {\"outlinewidth\": 0, \"ticks\": \"\"}}, \"type\": \"scattergl\"}], \"scattermapbox\": [{\"marker\": {\"colorbar\": {\"outlinewidth\": 0, \"ticks\": \"\"}}, \"type\": \"scattermapbox\"}], \"scatterpolar\": [{\"marker\": {\"colorbar\": {\"outlinewidth\": 0, \"ticks\": \"\"}}, \"type\": \"scatterpolar\"}], \"scatterpolargl\": [{\"marker\": {\"colorbar\": {\"outlinewidth\": 0, \"ticks\": \"\"}}, \"type\": \"scatterpolargl\"}], \"scatterternary\": [{\"marker\": {\"colorbar\": {\"outlinewidth\": 0, \"ticks\": \"\"}}, \"type\": \"scatterternary\"}], \"surface\": [{\"colorbar\": {\"outlinewidth\": 0, \"ticks\": \"\"}, \"colorscale\": [[0.0, \"#0d0887\"], [0.1111111111111111, \"#46039f\"], [0.2222222222222222, \"#7201a8\"], [0.3333333333333333, \"#9c179e\"], [0.4444444444444444, \"#bd3786\"], [0.5555555555555556, \"#d8576b\"], [0.6666666666666666, \"#ed7953\"], [0.7777777777777778, \"#fb9f3a\"], [0.8888888888888888, \"#fdca26\"], [1.0, \"#f0f921\"]], \"type\": \"surface\"}], \"table\": [{\"cells\": {\"fill\": {\"color\": \"#EBF0F8\"}, \"line\": {\"color\": \"white\"}}, \"header\": {\"fill\": {\"color\": \"#C8D4E3\"}, \"line\": {\"color\": \"white\"}}, \"type\": \"table\"}]}, \"layout\": {\"annotationdefaults\": {\"arrowcolor\": \"#2a3f5f\", \"arrowhead\": 0, \"arrowwidth\": 1}, \"autotypenumbers\": \"strict\", \"coloraxis\": {\"colorbar\": {\"outlinewidth\": 0, \"ticks\": \"\"}}, \"colorscale\": {\"diverging\": [[0, \"#8e0152\"], [0.1, \"#c51b7d\"], [0.2, \"#de77ae\"], [0.3, \"#f1b6da\"], [0.4, \"#fde0ef\"], [0.5, \"#f7f7f7\"], [0.6, \"#e6f5d0\"], [0.7, \"#b8e186\"], [0.8, \"#7fbc41\"], [0.9, \"#4d9221\"], [1, \"#276419\"]], \"sequential\": [[0.0, \"#0d0887\"], [0.1111111111111111, \"#46039f\"], [0.2222222222222222, \"#7201a8\"], [0.3333333333333333, \"#9c179e\"], [0.4444444444444444, \"#bd3786\"], [0.5555555555555556, \"#d8576b\"], [0.6666666666666666, \"#ed7953\"], [0.7777777777777778, \"#fb9f3a\"], [0.8888888888888888, \"#fdca26\"], [1.0, \"#f0f921\"]], \"sequentialminus\": [[0.0, \"#0d0887\"], [0.1111111111111111, \"#46039f\"], [0.2222222222222222, \"#7201a8\"], [0.3333333333333333, \"#9c179e\"], [0.4444444444444444, \"#bd3786\"], [0.5555555555555556, \"#d8576b\"], [0.6666666666666666, \"#ed7953\"], [0.7777777777777778, \"#fb9f3a\"], [0.8888888888888888, \"#fdca26\"], [1.0, \"#f0f921\"]]}, \"colorway\": [\"#636efa\", \"#EF553B\", \"#00cc96\", \"#ab63fa\", \"#FFA15A\", \"#19d3f3\", \"#FF6692\", \"#B6E880\", \"#FF97FF\", \"#FECB52\"], \"font\": {\"color\": \"#2a3f5f\"}, \"geo\": {\"bgcolor\": \"white\", \"lakecolor\": \"white\", \"landcolor\": \"#E5ECF6\", \"showlakes\": true, \"showland\": true, \"subunitcolor\": \"white\"}, \"hoverlabel\": {\"align\": \"left\"}, \"hovermode\": \"closest\", \"mapbox\": {\"style\": \"light\"}, \"paper_bgcolor\": \"white\", \"plot_bgcolor\": \"#E5ECF6\", \"polar\": {\"angularaxis\": {\"gridcolor\": \"white\", \"linecolor\": \"white\", \"ticks\": \"\"}, \"bgcolor\": \"#E5ECF6\", \"radialaxis\": {\"gridcolor\": \"white\", \"linecolor\": \"white\", \"ticks\": \"\"}}, \"scene\": {\"xaxis\": {\"backgroundcolor\": \"#E5ECF6\", \"gridcolor\": \"white\", \"gridwidth\": 2, \"linecolor\": \"white\", \"showbackground\": true, \"ticks\": \"\", \"zerolinecolor\": \"white\"}, \"yaxis\": {\"backgroundcolor\": \"#E5ECF6\", \"gridcolor\": \"white\", \"gridwidth\": 2, \"linecolor\": \"white\", \"showbackground\": true, \"ticks\": \"\", \"zerolinecolor\": \"white\"}, \"zaxis\": {\"backgroundcolor\": \"#E5ECF6\", \"gridcolor\": \"white\", \"gridwidth\": 2, \"linecolor\": \"white\", \"showbackground\": true, \"ticks\": \"\", \"zerolinecolor\": \"white\"}}, \"shapedefaults\": {\"line\": {\"color\": \"#2a3f5f\"}}, \"ternary\": {\"aaxis\": {\"gridcolor\": \"white\", \"linecolor\": \"white\", \"ticks\": \"\"}, \"baxis\": {\"gridcolor\": \"white\", \"linecolor\": \"white\", \"ticks\": \"\"}, \"bgcolor\": \"#E5ECF6\", \"caxis\": {\"gridcolor\": \"white\", \"linecolor\": \"white\", \"ticks\": \"\"}}, \"title\": {\"x\": 0.05}, \"xaxis\": {\"automargin\": true, \"gridcolor\": \"white\", \"linecolor\": \"white\", \"ticks\": \"\", \"title\": {\"standoff\": 15}, \"zerolinecolor\": \"white\", \"zerolinewidth\": 2}, \"yaxis\": {\"automargin\": true, \"gridcolor\": \"white\", \"linecolor\": \"white\", \"ticks\": \"\", \"title\": {\"standoff\": 15}, \"zerolinecolor\": \"white\", \"zerolinewidth\": 2}}}, \"title\": {\"text\": \"School attack data by country\"}, \"xaxis\": {\"anchor\": \"y\", \"domain\": [0.0, 1.0], \"title\": {\"text\": \"Average Incidents Per Year\"}}, \"yaxis\": {\"anchor\": \"x\", \"categoryarray\": [\"Tanzania\", \"Haiti\", \"Belarus\", \"United Arab Emirates\", \"Brazil\", \"Malaysia\", \"Togo\", \"Ecuador\", \"Senegal\", \"Angola\", \"Uganda\", \"Swaziland\", \"Sierra Leone\", \"Papua New Guinea\", \"Vietnam\", \"South Africa\", \"Bahrain\", \"China\", \"Chile\", \"Chad\", \"Malawi\", \"Israel\", \"Sri Lanka\", \"Lebanon\", \"Iran\", \"Niger\", \"Sweden\", \"Indonesia\", \"Zimbabwe\", \"Russia\", \"Ethiopia\", \"Kenya\", \"Myanmar\", \"Venezuela\", \"Burundi\", \"Egypt\", \"Cameroon\", \"Colombia\", \"Libya\", \"Sudan\", \"Thailand\", \"Turkey\", \"Bangladesh\", \"India\", \"Mali\", \"Central African Republic\", \"Philippines\", \"Pakistan\", \"Iraq\", \"Somalia\", \"Syria\", \"Ukraine\", \"Afghanistan\", \"South Sudan\", \"Democratic Republic of Congo\", \"Nigeria\", \"Yemen\", \"Palestine\"], \"categoryorder\": \"array\", \"domain\": [0.0, 1.0], \"title\": {\"text\": \"Country\"}}},                        {\"responsive\": true}                    ).then(function(){\n",
       "                            \n",
       "var gd = document.getElementById('e21949b6-856c-4758-84b5-76bf355da426');\n",
       "var x = new MutationObserver(function (mutations, observer) {{\n",
       "        var display = window.getComputedStyle(gd).display;\n",
       "        if (!display || display === 'none') {{\n",
       "            console.log([gd, 'removed!']);\n",
       "            Plotly.purge(gd);\n",
       "            observer.disconnect();\n",
       "        }}\n",
       "}});\n",
       "\n",
       "// Listen for the removal of the full notebook cells\n",
       "var notebookContainer = gd.closest('#notebook-container');\n",
       "if (notebookContainer) {{\n",
       "    x.observe(notebookContainer, {childList: true});\n",
       "}}\n",
       "\n",
       "// Listen for the clearing of the current output cell\n",
       "var outputEl = gd.closest('.output');\n",
       "if (outputEl) {{\n",
       "    x.observe(outputEl, {childList: true});\n",
       "}}\n",
       "\n",
       "                        })                };                });            </script>        </div>"
      ]
     },
     "metadata": {},
     "output_type": "display_data"
    }
   ],
   "source": [
    "fig = px.bar(finaldf, x=\"Average Incidents Per Year\", y='Country', color=\"Country\", hover_data=['Average People Harmed Per Year'],orientation='h', title='School attack data by country')\n",
    "fig.show()"
   ]
  },
  {
   "cell_type": "code",
   "execution_count": 88,
   "id": "0d972ea6",
   "metadata": {},
   "outputs": [],
   "source": [
    "# Well, I didnt start my day thinking this was the graph I was going to make. \n",
    "#This data is completly disonnected from the population of said countries. \n",
    "#lets see if we can make a new number representing the average incidents of school attacks divided by total population of the country.\n",
    "#I am suspecting a few will fall to the bottom of the list, like India, and others will be shown as even more sever outliers."
   ]
  },
  {
   "cell_type": "code",
   "execution_count": 108,
   "id": "b222d42d",
   "metadata": {},
   "outputs": [],
   "source": [
    "df = pd.read_csv(f\"./data/popData.csv\")\n",
    "pdf = pd.DataFrame(df)\n",
    "pdf = pdf.drop(['Rank', 'pop2022', 'GrowthRate', 'area', 'Density'], axis=1)\n",
    "pdf = pdf.rename(columns={\"pop2021\": \"Population in Thousands\", 'name':'Country'})\n",
    "pdf.at[116, 'Country'] = 'Democratic Republic of Congo'\n",
    "#pdf.loc[pdf['Country'] == 'Democratic Republic of Congo']\n",
    "\n",
    "popdf = finaldf.merge(pdf, on='Country')\n",
    "popdf[\"Avg Incident Per Thousand People\"]= popdf['Average Incidents Per Year']/popdf['Population in Thousands']\n",
    "popdf = popdf.sort_values(by='Avg Incident Per Thousand People', ascending = False)\n",
    "\n",
    "\n"
   ]
  },
  {
   "cell_type": "code",
   "execution_count": 111,
   "id": "054b1fa4",
   "metadata": {},
   "outputs": [
    {
     "data": {
      "application/vnd.plotly.v1+json": {
       "config": {
        "plotlyServerURL": "https://plot.ly"
       },
       "data": [
        {
         "alignmentgroup": "True",
         "customdata": [
          [
           184.6
          ]
         ],
         "hovertemplate": "Country=%{y}<br>Avg Incident Per Thousand People=%{x}<br>Average People Harmed Per Year=%{customdata[0]}<extra></extra>",
         "legendgroup": "Palestine",
         "marker": {
          "color": "#636efa"
         },
         "name": "Palestine",
         "offsetgroup": "Palestine",
         "orientation": "h",
         "showlegend": true,
         "textposition": "auto",
         "type": "bar",
         "x": [
          0.0654444748243645
         ],
         "xaxis": "x",
         "y": [
          "Palestine"
         ],
         "yaxis": "y"
        },
        {
         "alignmentgroup": "True",
         "customdata": [
          [
           25.6
          ]
         ],
         "hovertemplate": "Country=%{y}<br>Avg Incident Per Thousand People=%{x}<br>Average People Harmed Per Year=%{customdata[0]}<extra></extra>",
         "legendgroup": "Democratic Republic of Congo",
         "marker": {
          "color": "#EF553B"
         },
         "name": "Democratic Republic of Congo",
         "offsetgroup": "Democratic Republic of Congo",
         "orientation": "h",
         "showlegend": true,
         "textposition": "auto",
         "type": "bar",
         "x": [
          0.04320301190752081
         ],
         "xaxis": "x",
         "y": [
          "Democratic Republic of Congo"
         ],
         "yaxis": "y"
        },
        {
         "alignmentgroup": "True",
         "customdata": [
          [
           186.2
          ]
         ],
         "hovertemplate": "Country=%{y}<br>Avg Incident Per Thousand People=%{x}<br>Average People Harmed Per Year=%{customdata[0]}<extra></extra>",
         "legendgroup": "South Sudan",
         "marker": {
          "color": "#00cc96"
         },
         "name": "South Sudan",
         "offsetgroup": "South Sudan",
         "orientation": "h",
         "showlegend": true,
         "textposition": "auto",
         "type": "bar",
         "x": [
          0.017713145104222002
         ],
         "xaxis": "x",
         "y": [
          "South Sudan"
         ],
         "yaxis": "y"
        },
        {
         "alignmentgroup": "True",
         "customdata": [
          [
           25.25
          ]
         ],
         "hovertemplate": "Country=%{y}<br>Avg Incident Per Thousand People=%{x}<br>Average People Harmed Per Year=%{customdata[0]}<extra></extra>",
         "legendgroup": "Central African Republic",
         "marker": {
          "color": "#ab63fa"
         },
         "name": "Central African Republic",
         "offsetgroup": "Central African Republic",
         "orientation": "h",
         "showlegend": true,
         "textposition": "auto",
         "type": "bar",
         "x": [
          0.011748012848017096
         ],
         "xaxis": "x",
         "y": [
          "Central African Republic"
         ],
         "yaxis": "y"
        },
        {
         "alignmentgroup": "True",
         "customdata": [
          [
           57.4
          ]
         ],
         "hovertemplate": "Country=%{y}<br>Avg Incident Per Thousand People=%{x}<br>Average People Harmed Per Year=%{customdata[0]}<extra></extra>",
         "legendgroup": "Yemen",
         "marker": {
          "color": "#FFA15A"
         },
         "name": "Yemen",
         "offsetgroup": "Yemen",
         "orientation": "h",
         "showlegend": true,
         "textposition": "auto",
         "type": "bar",
         "x": [
          0.010632771237337097
         ],
         "xaxis": "x",
         "y": [
          "Yemen"
         ],
         "yaxis": "y"
        },
        {
         "alignmentgroup": "True",
         "customdata": [
          [
           348.8
          ]
         ],
         "hovertemplate": "Country=%{y}<br>Avg Incident Per Thousand People=%{x}<br>Average People Harmed Per Year=%{customdata[0]}<extra></extra>",
         "legendgroup": "Syria",
         "marker": {
          "color": "#19d3f3"
         },
         "name": "Syria",
         "offsetgroup": "Syria",
         "orientation": "h",
         "showlegend": true,
         "textposition": "auto",
         "type": "bar",
         "x": [
          0.008503093342187348
         ],
         "xaxis": "x",
         "y": [
          "Syria"
         ],
         "yaxis": "y"
        },
        {
         "alignmentgroup": "True",
         "customdata": [
          [
           115.8
          ]
         ],
         "hovertemplate": "Country=%{y}<br>Avg Incident Per Thousand People=%{x}<br>Average People Harmed Per Year=%{customdata[0]}<extra></extra>",
         "legendgroup": "Somalia",
         "marker": {
          "color": "#FF6692"
         },
         "name": "Somalia",
         "offsetgroup": "Somalia",
         "orientation": "h",
         "showlegend": true,
         "textposition": "auto",
         "type": "bar",
         "x": [
          0.00833766109290355
         ],
         "xaxis": "x",
         "y": [
          "Somalia"
         ],
         "yaxis": "y"
        },
        {
         "alignmentgroup": "True",
         "customdata": [
          [
           177.6
          ]
         ],
         "hovertemplate": "Country=%{y}<br>Avg Incident Per Thousand People=%{x}<br>Average People Harmed Per Year=%{customdata[0]}<extra></extra>",
         "legendgroup": "Afghanistan",
         "marker": {
          "color": "#B6E880"
         },
         "name": "Afghanistan",
         "offsetgroup": "Afghanistan",
         "orientation": "h",
         "showlegend": true,
         "textposition": "auto",
         "type": "bar",
         "x": [
          0.0050206564869844
         ],
         "xaxis": "x",
         "y": [
          "Afghanistan"
         ],
         "yaxis": "y"
        },
        {
         "alignmentgroup": "True",
         "customdata": [
          [
           4
          ]
         ],
         "hovertemplate": "Country=%{y}<br>Avg Incident Per Thousand People=%{x}<br>Average People Harmed Per Year=%{customdata[0]}<extra></extra>",
         "legendgroup": "Ukraine",
         "marker": {
          "color": "#FF97FF"
         },
         "name": "Ukraine",
         "offsetgroup": "Ukraine",
         "orientation": "h",
         "showlegend": true,
         "textposition": "auto",
         "type": "bar",
         "x": [
          0.0035889444773955044
         ],
         "xaxis": "x",
         "y": [
          "Ukraine"
         ],
         "yaxis": "y"
        },
        {
         "alignmentgroup": "True",
         "customdata": [
          [
           10
          ]
         ],
         "hovertemplate": "Country=%{y}<br>Avg Incident Per Thousand People=%{x}<br>Average People Harmed Per Year=%{customdata[0]}<extra></extra>",
         "legendgroup": "Libya",
         "marker": {
          "color": "#FECB52"
         },
         "name": "Libya",
         "offsetgroup": "Libya",
         "orientation": "h",
         "showlegend": true,
         "textposition": "auto",
         "type": "bar",
         "x": [
          0.0025292691044605385
         ],
         "xaxis": "x",
         "y": [
          "Libya"
         ],
         "yaxis": "y"
        },
        {
         "alignmentgroup": "True",
         "customdata": [
          [
           132.6
          ]
         ],
         "hovertemplate": "Country=%{y}<br>Avg Incident Per Thousand People=%{x}<br>Average People Harmed Per Year=%{customdata[0]}<extra></extra>",
         "legendgroup": "Iraq",
         "marker": {
          "color": "#636efa"
         },
         "name": "Iraq",
         "offsetgroup": "Iraq",
         "orientation": "h",
         "showlegend": true,
         "textposition": "auto",
         "type": "bar",
         "x": [
          0.0024186880074600495
         ],
         "xaxis": "x",
         "y": [
          "Iraq"
         ],
         "yaxis": "y"
        },
        {
         "alignmentgroup": "True",
         "customdata": [
          [
           38.5
          ]
         ],
         "hovertemplate": "Country=%{y}<br>Avg Incident Per Thousand People=%{x}<br>Average People Harmed Per Year=%{customdata[0]}<extra></extra>",
         "legendgroup": "Mali",
         "marker": {
          "color": "#EF553B"
         },
         "name": "Mali",
         "offsetgroup": "Mali",
         "orientation": "h",
         "showlegend": true,
         "textposition": "auto",
         "type": "bar",
         "x": [
          0.0022343973971667747
         ],
         "xaxis": "x",
         "y": [
          "Mali"
         ],
         "yaxis": "y"
        },
        {
         "alignmentgroup": "True",
         "customdata": [
          [
           268
          ]
         ],
         "hovertemplate": "Country=%{y}<br>Avg Incident Per Thousand People=%{x}<br>Average People Harmed Per Year=%{customdata[0]}<extra></extra>",
         "legendgroup": "Nigeria",
         "marker": {
          "color": "#00cc96"
         },
         "name": "Nigeria",
         "offsetgroup": "Nigeria",
         "orientation": "h",
         "showlegend": true,
         "textposition": "auto",
         "type": "bar",
         "x": [
          0.0015165512123071982
         ],
         "xaxis": "x",
         "y": [
          "Nigeria"
         ],
         "yaxis": "y"
        },
        {
         "alignmentgroup": "True",
         "customdata": [
          [
           60.666666666666664
          ]
         ],
         "hovertemplate": "Country=%{y}<br>Avg Incident Per Thousand People=%{x}<br>Average People Harmed Per Year=%{customdata[0]}<extra></extra>",
         "legendgroup": "Burundi",
         "marker": {
          "color": "#ab63fa"
         },
         "name": "Burundi",
         "offsetgroup": "Burundi",
         "orientation": "h",
         "showlegend": true,
         "textposition": "auto",
         "type": "bar",
         "x": [
          0.0010063563917597472
         ],
         "xaxis": "x",
         "y": [
          "Burundi"
         ],
         "yaxis": "y"
        },
        {
         "alignmentgroup": "True",
         "customdata": [
          [
           1.3333333333333333
          ]
         ],
         "hovertemplate": "Country=%{y}<br>Avg Incident Per Thousand People=%{x}<br>Average People Harmed Per Year=%{customdata[0]}<extra></extra>",
         "legendgroup": "Bahrain",
         "marker": {
          "color": "#FFA15A"
         },
         "name": "Bahrain",
         "offsetgroup": "Bahrain",
         "orientation": "h",
         "showlegend": true,
         "textposition": "auto",
         "type": "bar",
         "x": [
          0.0009533092031707827
         ],
         "xaxis": "x",
         "y": [
          "Bahrain"
         ],
         "yaxis": "y"
        },
        {
         "alignmentgroup": "True",
         "customdata": [
          [
           26.75
          ]
         ],
         "hovertemplate": "Country=%{y}<br>Avg Incident Per Thousand People=%{x}<br>Average People Harmed Per Year=%{customdata[0]}<extra></extra>",
         "legendgroup": "Cameroon",
         "marker": {
          "color": "#19d3f3"
         },
         "name": "Cameroon",
         "offsetgroup": "Cameroon",
         "orientation": "h",
         "showlegend": true,
         "textposition": "auto",
         "type": "bar",
         "x": [
          0.0006152599528398654
         ],
         "xaxis": "x",
         "y": [
          "Cameroon"
         ],
         "yaxis": "y"
        },
        {
         "alignmentgroup": "True",
         "customdata": [
          [
           287.8
          ]
         ],
         "hovertemplate": "Country=%{y}<br>Avg Incident Per Thousand People=%{x}<br>Average People Harmed Per Year=%{customdata[0]}<extra></extra>",
         "legendgroup": "Philippines",
         "marker": {
          "color": "#FF6692"
         },
         "name": "Philippines",
         "offsetgroup": "Philippines",
         "orientation": "h",
         "showlegend": true,
         "textposition": "auto",
         "type": "bar",
         "x": [
          0.0006105527670093809
         ],
         "xaxis": "x",
         "y": [
          "Philippines"
         ],
         "yaxis": "y"
        },
        {
         "alignmentgroup": "True",
         "customdata": [
          [
           140.2
          ]
         ],
         "hovertemplate": "Country=%{y}<br>Avg Incident Per Thousand People=%{x}<br>Average People Harmed Per Year=%{customdata[0]}<extra></extra>",
         "legendgroup": "Sudan",
         "marker": {
          "color": "#B6E880"
         },
         "name": "Sudan",
         "offsetgroup": "Sudan",
         "orientation": "h",
         "showlegend": true,
         "textposition": "auto",
         "type": "bar",
         "x": [
          0.0006056644815168012
         ],
         "xaxis": "x",
         "y": [
          "Sudan"
         ],
         "yaxis": "y"
        },
        {
         "alignmentgroup": "True",
         "customdata": [
          [
           5
          ]
         ],
         "hovertemplate": "Country=%{y}<br>Avg Incident Per Thousand People=%{x}<br>Average People Harmed Per Year=%{customdata[0]}<extra></extra>",
         "legendgroup": "Lebanon",
         "marker": {
          "color": "#FF97FF"
         },
         "name": "Lebanon",
         "offsetgroup": "Lebanon",
         "orientation": "h",
         "showlegend": true,
         "textposition": "auto",
         "type": "bar",
         "x": [
          0.00041364154355660225
         ],
         "xaxis": "x",
         "y": [
          "Lebanon"
         ],
         "yaxis": "y"
        },
        {
         "alignmentgroup": "True",
         "customdata": [
          [
           46.8
          ]
         ],
         "hovertemplate": "Country=%{y}<br>Avg Incident Per Thousand People=%{x}<br>Average People Harmed Per Year=%{customdata[0]}<extra></extra>",
         "legendgroup": "Thailand",
         "marker": {
          "color": "#FECB52"
         },
         "name": "Thailand",
         "offsetgroup": "Thailand",
         "orientation": "h",
         "showlegend": true,
         "textposition": "auto",
         "type": "bar",
         "x": [
          0.0003945627537049228
         ],
         "xaxis": "x",
         "y": [
          "Thailand"
         ],
         "yaxis": "y"
        },
        {
         "alignmentgroup": "True",
         "customdata": [
          [
           165.25
          ]
         ],
         "hovertemplate": "Country=%{y}<br>Avg Incident Per Thousand People=%{x}<br>Average People Harmed Per Year=%{customdata[0]}<extra></extra>",
         "legendgroup": "Venezuela",
         "marker": {
          "color": "#636efa"
         },
         "name": "Venezuela",
         "offsetgroup": "Venezuela",
         "orientation": "h",
         "showlegend": true,
         "textposition": "auto",
         "type": "bar",
         "x": [
          0.000365790518249916
         ],
         "xaxis": "x",
         "y": [
          "Venezuela"
         ],
         "yaxis": "y"
        },
        {
         "alignmentgroup": "True",
         "customdata": [
          [
           39.4
          ]
         ],
         "hovertemplate": "Country=%{y}<br>Avg Incident Per Thousand People=%{x}<br>Average People Harmed Per Year=%{customdata[0]}<extra></extra>",
         "legendgroup": "Colombia",
         "marker": {
          "color": "#EF553B"
         },
         "name": "Colombia",
         "offsetgroup": "Colombia",
         "orientation": "h",
         "showlegend": true,
         "textposition": "auto",
         "type": "bar",
         "x": [
          0.000343308499904927
         ],
         "xaxis": "x",
         "y": [
          "Colombia"
         ],
         "yaxis": "y"
        },
        {
         "alignmentgroup": "True",
         "customdata": [
          [
           116.2
          ]
         ],
         "hovertemplate": "Country=%{y}<br>Avg Incident Per Thousand People=%{x}<br>Average People Harmed Per Year=%{customdata[0]}<extra></extra>",
         "legendgroup": "Pakistan",
         "marker": {
          "color": "#00cc96"
         },
         "name": "Pakistan",
         "offsetgroup": "Pakistan",
         "orientation": "h",
         "showlegend": true,
         "textposition": "auto",
         "type": "bar",
         "x": [
          0.00034014219106997347
         ],
         "xaxis": "x",
         "y": [
          "Pakistan"
         ],
         "yaxis": "y"
        },
        {
         "alignmentgroup": "True",
         "customdata": [
          [
           308.2
          ]
         ],
         "hovertemplate": "Country=%{y}<br>Avg Incident Per Thousand People=%{x}<br>Average People Harmed Per Year=%{customdata[0]}<extra></extra>",
         "legendgroup": "Turkey",
         "marker": {
          "color": "#ab63fa"
         },
         "name": "Turkey",
         "offsetgroup": "Turkey",
         "orientation": "h",
         "showlegend": true,
         "textposition": "auto",
         "type": "bar",
         "x": [
          0.00033630149584318417
         ],
         "xaxis": "x",
         "y": [
          "Turkey"
         ],
         "yaxis": "y"
        },
        {
         "alignmentgroup": "True",
         "customdata": [
          [
           3
          ]
         ],
         "hovertemplate": "Country=%{y}<br>Avg Incident Per Thousand People=%{x}<br>Average People Harmed Per Year=%{customdata[0]}<extra></extra>",
         "legendgroup": "Sweden",
         "marker": {
          "color": "#FFA15A"
         },
         "name": "Sweden",
         "offsetgroup": "Sweden",
         "orientation": "h",
         "showlegend": true,
         "textposition": "auto",
         "type": "bar",
         "x": [
          0.000295270679060555
         ],
         "xaxis": "x",
         "y": [
          "Sweden"
         ],
         "yaxis": "y"
        },
        {
         "alignmentgroup": "True",
         "customdata": [
          [
           1
          ]
         ],
         "hovertemplate": "Country=%{y}<br>Avg Incident Per Thousand People=%{x}<br>Average People Harmed Per Year=%{customdata[0]}<extra></extra>",
         "legendgroup": "Israel",
         "marker": {
          "color": "#19d3f3"
         },
         "name": "Israel",
         "offsetgroup": "Israel",
         "orientation": "h",
         "showlegend": true,
         "textposition": "auto",
         "type": "bar",
         "x": [
          0.0002502908493437943
         ],
         "xaxis": "x",
         "y": [
          "Israel"
         ],
         "yaxis": "y"
        },
        {
         "alignmentgroup": "True",
         "customdata": [
          [
           17.333333333333332
          ]
         ],
         "hovertemplate": "Country=%{y}<br>Avg Incident Per Thousand People=%{x}<br>Average People Harmed Per Year=%{customdata[0]}<extra></extra>",
         "legendgroup": "Zimbabwe",
         "marker": {
          "color": "#FF6692"
         },
         "name": "Zimbabwe",
         "offsetgroup": "Zimbabwe",
         "orientation": "h",
         "showlegend": true,
         "textposition": "auto",
         "type": "bar",
         "x": [
          0.00019877855876401082
         ],
         "xaxis": "x",
         "y": [
          "Zimbabwe"
         ],
         "yaxis": "y"
        },
        {
         "alignmentgroup": "True",
         "customdata": [
          [
           43.75
          ]
         ],
         "hovertemplate": "Country=%{y}<br>Avg Incident Per Thousand People=%{x}<br>Average People Harmed Per Year=%{customdata[0]}<extra></extra>",
         "legendgroup": "Myanmar",
         "marker": {
          "color": "#B6E880"
         },
         "name": "Myanmar",
         "offsetgroup": "Myanmar",
         "orientation": "h",
         "showlegend": true,
         "textposition": "auto",
         "type": "bar",
         "x": [
          0.0001861109689936936
         ],
         "xaxis": "x",
         "y": [
          "Myanmar"
         ],
         "yaxis": "y"
        },
        {
         "alignmentgroup": "True",
         "customdata": [
          [
           1
          ]
         ],
         "hovertemplate": "Country=%{y}<br>Avg Incident Per Thousand People=%{x}<br>Average People Harmed Per Year=%{customdata[0]}<extra></extra>",
         "legendgroup": "Sierra Leone",
         "marker": {
          "color": "#FF97FF"
         },
         "name": "Sierra Leone",
         "offsetgroup": "Sierra Leone",
         "orientation": "h",
         "showlegend": true,
         "textposition": "auto",
         "type": "bar",
         "x": [
          0.00018424478614891918
         ],
         "xaxis": "x",
         "y": [
          "Sierra Leone"
         ],
         "yaxis": "y"
        },
        {
         "alignmentgroup": "True",
         "customdata": [
          [
           12
          ]
         ],
         "hovertemplate": "Country=%{y}<br>Avg Incident Per Thousand People=%{x}<br>Average People Harmed Per Year=%{customdata[0]}<extra></extra>",
         "legendgroup": "Bangladesh",
         "marker": {
          "color": "#FECB52"
         },
         "name": "Bangladesh",
         "offsetgroup": "Bangladesh",
         "orientation": "h",
         "showlegend": true,
         "textposition": "auto",
         "type": "bar",
         "x": [
          0.00018400094025683095
         ],
         "xaxis": "x",
         "y": [
          "Bangladesh"
         ],
         "yaxis": "y"
        },
        {
         "alignmentgroup": "True",
         "customdata": [
          [
           13
          ]
         ],
         "hovertemplate": "Country=%{y}<br>Avg Incident Per Thousand People=%{x}<br>Average People Harmed Per Year=%{customdata[0]}<extra></extra>",
         "legendgroup": "Papua New Guinea",
         "marker": {
          "color": "#636efa"
         },
         "name": "Papua New Guinea",
         "offsetgroup": "Papua New Guinea",
         "orientation": "h",
         "showlegend": true,
         "textposition": "auto",
         "type": "bar",
         "x": [
          0.0001644915402000875
         ],
         "xaxis": "x",
         "y": [
          "Papua New Guinea"
         ],
         "yaxis": "y"
        },
        {
         "alignmentgroup": "True",
         "customdata": [
          [
           254.8
          ]
         ],
         "hovertemplate": "Country=%{y}<br>Avg Incident Per Thousand People=%{x}<br>Average People Harmed Per Year=%{customdata[0]}<extra></extra>",
         "legendgroup": "Egypt",
         "marker": {
          "color": "#EF553B"
         },
         "name": "Egypt",
         "offsetgroup": "Egypt",
         "orientation": "h",
         "showlegend": true,
         "textposition": "auto",
         "type": "bar",
         "x": [
          0.00014962833616158063
         ],
         "xaxis": "x",
         "y": [
          "Egypt"
         ],
         "yaxis": "y"
        },
        {
         "alignmentgroup": "True",
         "customdata": [
          [
           91.6
          ]
         ],
         "hovertemplate": "Country=%{y}<br>Avg Incident Per Thousand People=%{x}<br>Average People Harmed Per Year=%{customdata[0]}<extra></extra>",
         "legendgroup": "Kenya",
         "marker": {
          "color": "#00cc96"
         },
         "name": "Kenya",
         "offsetgroup": "Kenya",
         "orientation": "h",
         "showlegend": true,
         "textposition": "auto",
         "type": "bar",
         "x": [
          0.00013458045035638177
         ],
         "xaxis": "x",
         "y": [
          "Kenya"
         ],
         "yaxis": "y"
        },
        {
         "alignmentgroup": "True",
         "customdata": [
          [
           2
          ]
         ],
         "hovertemplate": "Country=%{y}<br>Avg Incident Per Thousand People=%{x}<br>Average People Harmed Per Year=%{customdata[0]}<extra></extra>",
         "legendgroup": "Niger",
         "marker": {
          "color": "#ab63fa"
         },
         "name": "Niger",
         "offsetgroup": "Niger",
         "orientation": "h",
         "showlegend": true,
         "textposition": "auto",
         "type": "bar",
         "x": [
          0.00011937534700921184
         ],
         "xaxis": "x",
         "y": [
          "Niger"
         ],
         "yaxis": "y"
        },
        {
         "alignmentgroup": "True",
         "customdata": [
          [
           10
          ]
         ],
         "hovertemplate": "Country=%{y}<br>Avg Incident Per Thousand People=%{x}<br>Average People Harmed Per Year=%{customdata[0]}<extra></extra>",
         "legendgroup": "Chad",
         "marker": {
          "color": "#FFA15A"
         },
         "name": "Chad",
         "offsetgroup": "Chad",
         "orientation": "h",
         "showlegend": true,
         "textposition": "auto",
         "type": "bar",
         "x": [
          0.00011823835492612023
         ],
         "xaxis": "x",
         "y": [
          "Chad"
         ],
         "yaxis": "y"
        },
        {
         "alignmentgroup": "True",
         "customdata": [
          [
           5
          ]
         ],
         "hovertemplate": "Country=%{y}<br>Avg Incident Per Thousand People=%{x}<br>Average People Harmed Per Year=%{customdata[0]}<extra></extra>",
         "legendgroup": "Togo",
         "marker": {
          "color": "#19d3f3"
         },
         "name": "Togo",
         "offsetgroup": "Togo",
         "orientation": "h",
         "showlegend": true,
         "textposition": "auto",
         "type": "bar",
         "x": [
          0.00011794886916521688
         ],
         "xaxis": "x",
         "y": [
          "Togo"
         ],
         "yaxis": "y"
        },
        {
         "alignmentgroup": "True",
         "customdata": [
          [
           11.5
          ]
         ],
         "hovertemplate": "Country=%{y}<br>Avg Incident Per Thousand People=%{x}<br>Average People Harmed Per Year=%{customdata[0]}<extra></extra>",
         "legendgroup": "Sri Lanka",
         "marker": {
          "color": "#FF6692"
         },
         "name": "Sri Lanka",
         "offsetgroup": "Sri Lanka",
         "orientation": "h",
         "showlegend": true,
         "textposition": "auto",
         "type": "bar",
         "x": [
          0.00011629361999245486
         ],
         "xaxis": "x",
         "y": [
          "Sri Lanka"
         ],
         "yaxis": "y"
        },
        {
         "alignmentgroup": "True",
         "customdata": [
          [
           3
          ]
         ],
         "hovertemplate": "Country=%{y}<br>Avg Incident Per Thousand People=%{x}<br>Average People Harmed Per Year=%{customdata[0]}<extra></extra>",
         "legendgroup": "Belarus",
         "marker": {
          "color": "#B6E880"
         },
         "name": "Belarus",
         "offsetgroup": "Belarus",
         "orientation": "h",
         "showlegend": true,
         "textposition": "auto",
         "type": "bar",
         "x": [
          0.00010590009681386851
         ],
         "xaxis": "x",
         "y": [
          "Belarus"
         ],
         "yaxis": "y"
        },
        {
         "alignmentgroup": "True",
         "customdata": [
          [
           43.5
          ]
         ],
         "hovertemplate": "Country=%{y}<br>Avg Incident Per Thousand People=%{x}<br>Average People Harmed Per Year=%{customdata[0]}<extra></extra>",
         "legendgroup": "Chile",
         "marker": {
          "color": "#FF97FF"
         },
         "name": "Chile",
         "offsetgroup": "Chile",
         "orientation": "h",
         "showlegend": true,
         "textposition": "auto",
         "type": "bar",
         "x": [
          0.00010409964709699135
         ],
         "xaxis": "x",
         "y": [
          "Chile"
         ],
         "yaxis": "y"
        },
        {
         "alignmentgroup": "True",
         "customdata": [
          [
           27
          ]
         ],
         "hovertemplate": "Country=%{y}<br>Avg Incident Per Thousand People=%{x}<br>Average People Harmed Per Year=%{customdata[0]}<extra></extra>",
         "legendgroup": "Malawi",
         "marker": {
          "color": "#FECB52"
         },
         "name": "Malawi",
         "offsetgroup": "Malawi",
         "orientation": "h",
         "showlegend": true,
         "textposition": "auto",
         "type": "bar",
         "x": [
          0.00010179316809044771
         ],
         "xaxis": "x",
         "y": [
          "Malawi"
         ],
         "yaxis": "y"
        },
        {
         "alignmentgroup": "True",
         "customdata": [
          [
           1
          ]
         ],
         "hovertemplate": "Country=%{y}<br>Avg Incident Per Thousand People=%{x}<br>Average People Harmed Per Year=%{customdata[0]}<extra></extra>",
         "legendgroup": "United Arab Emirates",
         "marker": {
          "color": "#636efa"
         },
         "name": "United Arab Emirates",
         "offsetgroup": "United Arab Emirates",
         "orientation": "h",
         "showlegend": true,
         "textposition": "auto",
         "type": "bar",
         "x": [
          0.00010008918947674272
         ],
         "xaxis": "x",
         "y": [
          "United Arab Emirates"
         ],
         "yaxis": "y"
        },
        {
         "alignmentgroup": "True",
         "customdata": [
          [
           1
          ]
         ],
         "hovertemplate": "Country=%{y}<br>Avg Incident Per Thousand People=%{x}<br>Average People Harmed Per Year=%{customdata[0]}<extra></extra>",
         "legendgroup": "Haiti",
         "marker": {
          "color": "#EF553B"
         },
         "name": "Haiti",
         "offsetgroup": "Haiti",
         "orientation": "h",
         "showlegend": true,
         "textposition": "auto",
         "type": "bar",
         "x": [
          8.664246165096344e-05
         ],
         "xaxis": "x",
         "y": [
          "Haiti"
         ],
         "yaxis": "y"
        },
        {
         "alignmentgroup": "True",
         "customdata": [
          [
           48
          ]
         ],
         "hovertemplate": "Country=%{y}<br>Avg Incident Per Thousand People=%{x}<br>Average People Harmed Per Year=%{customdata[0]}<extra></extra>",
         "legendgroup": "Ethiopia",
         "marker": {
          "color": "#00cc96"
         },
         "name": "Ethiopia",
         "offsetgroup": "Ethiopia",
         "orientation": "h",
         "showlegend": true,
         "textposition": "auto",
         "type": "bar",
         "x": [
          6.277771344004758e-05
         ],
         "xaxis": "x",
         "y": [
          "Ethiopia"
         ],
         "yaxis": "y"
        },
        {
         "alignmentgroup": "True",
         "customdata": [
          [
           28
          ]
         ],
         "hovertemplate": "Country=%{y}<br>Avg Incident Per Thousand People=%{x}<br>Average People Harmed Per Year=%{customdata[0]}<extra></extra>",
         "legendgroup": "Senegal",
         "marker": {
          "color": "#ab63fa"
         },
         "name": "Senegal",
         "offsetgroup": "Senegal",
         "orientation": "h",
         "showlegend": true,
         "textposition": "auto",
         "type": "bar",
         "x": [
          5.815204095345854e-05
         ],
         "xaxis": "x",
         "y": [
          "Senegal"
         ],
         "yaxis": "y"
        },
        {
         "alignmentgroup": "True",
         "customdata": [
          [
           1
          ]
         ],
         "hovertemplate": "Country=%{y}<br>Avg Incident Per Thousand People=%{x}<br>Average People Harmed Per Year=%{customdata[0]}<extra></extra>",
         "legendgroup": "Ecuador",
         "marker": {
          "color": "#FFA15A"
         },
         "name": "Ecuador",
         "offsetgroup": "Ecuador",
         "orientation": "h",
         "showlegend": true,
         "textposition": "auto",
         "type": "bar",
         "x": [
          5.590191450081687e-05
         ],
         "xaxis": "x",
         "y": [
          "Ecuador"
         ],
         "yaxis": "y"
        },
        {
         "alignmentgroup": "True",
         "customdata": [
          [
           46.666666666666664
          ]
         ],
         "hovertemplate": "Country=%{y}<br>Avg Incident Per Thousand People=%{x}<br>Average People Harmed Per Year=%{customdata[0]}<extra></extra>",
         "legendgroup": "Iran",
         "marker": {
          "color": "#19d3f3"
         },
         "name": "Iran",
         "offsetgroup": "Iran",
         "orientation": "h",
         "showlegend": true,
         "textposition": "auto",
         "type": "bar",
         "x": [
          3.5282180232690445e-05
         ],
         "xaxis": "x",
         "y": [
          "Iran"
         ],
         "yaxis": "y"
        },
        {
         "alignmentgroup": "True",
         "customdata": [
          [
           5.75
          ]
         ],
         "hovertemplate": "Country=%{y}<br>Avg Incident Per Thousand People=%{x}<br>Average People Harmed Per Year=%{customdata[0]}<extra></extra>",
         "legendgroup": "Russia",
         "marker": {
          "color": "#FF6692"
         },
         "name": "Russia",
         "offsetgroup": "Russia",
         "orientation": "h",
         "showlegend": true,
         "textposition": "auto",
         "type": "bar",
         "x": [
          3.0840501322629164e-05
         ],
         "xaxis": "x",
         "y": [
          "Russia"
         ],
         "yaxis": "y"
        },
        {
         "alignmentgroup": "True",
         "customdata": [
          [
           1
          ]
         ],
         "hovertemplate": "Country=%{y}<br>Avg Incident Per Thousand People=%{x}<br>Average People Harmed Per Year=%{customdata[0]}<extra></extra>",
         "legendgroup": "Malaysia",
         "marker": {
          "color": "#B6E880"
         },
         "name": "Malaysia",
         "offsetgroup": "Malaysia",
         "orientation": "h",
         "showlegend": true,
         "textposition": "auto",
         "type": "bar",
         "x": [
          3.05099487756266e-05
         ],
         "xaxis": "x",
         "y": [
          "Malaysia"
         ],
         "yaxis": "y"
        },
        {
         "alignmentgroup": "True",
         "customdata": [
          [
           11.5
          ]
         ],
         "hovertemplate": "Country=%{y}<br>Avg Incident Per Thousand People=%{x}<br>Average People Harmed Per Year=%{customdata[0]}<extra></extra>",
         "legendgroup": "Angola",
         "marker": {
          "color": "#FF97FF"
         },
         "name": "Angola",
         "offsetgroup": "Angola",
         "orientation": "h",
         "showlegend": true,
         "textposition": "auto",
         "type": "bar",
         "x": [
          2.946930786320701e-05
         ],
         "xaxis": "x",
         "y": [
          "Angola"
         ],
         "yaxis": "y"
        },
        {
         "alignmentgroup": "True",
         "customdata": [
          [
           156.2
          ]
         ],
         "hovertemplate": "Country=%{y}<br>Avg Incident Per Thousand People=%{x}<br>Average People Harmed Per Year=%{customdata[0]}<extra></extra>",
         "legendgroup": "India",
         "marker": {
          "color": "#FECB52"
         },
         "name": "India",
         "offsetgroup": "India",
         "orientation": "h",
         "showlegend": true,
         "textposition": "auto",
         "type": "bar",
         "x": [
          2.942423859891743e-05
         ],
         "xaxis": "x",
         "y": [
          "India"
         ],
         "yaxis": "y"
        },
        {
         "alignmentgroup": "True",
         "customdata": [
          [
           10
          ]
         ],
         "hovertemplate": "Country=%{y}<br>Avg Incident Per Thousand People=%{x}<br>Average People Harmed Per Year=%{customdata[0]}<extra></extra>",
         "legendgroup": "Uganda",
         "marker": {
          "color": "#636efa"
         },
         "name": "Uganda",
         "offsetgroup": "Uganda",
         "orientation": "h",
         "showlegend": true,
         "textposition": "auto",
         "type": "bar",
         "x": [
          2.8294427540528175e-05
         ],
         "xaxis": "x",
         "y": [
          "Uganda"
         ],
         "yaxis": "y"
        },
        {
         "alignmentgroup": "True",
         "customdata": [
          [
           2.5
          ]
         ],
         "hovertemplate": "Country=%{y}<br>Avg Incident Per Thousand People=%{x}<br>Average People Harmed Per Year=%{customdata[0]}<extra></extra>",
         "legendgroup": "South Africa",
         "marker": {
          "color": "#EF553B"
         },
         "name": "South Africa",
         "offsetgroup": "South Africa",
         "orientation": "h",
         "showlegend": true,
         "textposition": "auto",
         "type": "bar",
         "x": [
          2.775834970881658e-05
         ],
         "xaxis": "x",
         "y": [
          "South Africa"
         ],
         "yaxis": "y"
        },
        {
         "alignmentgroup": "True",
         "customdata": [
          [
           31
          ]
         ],
         "hovertemplate": "Country=%{y}<br>Avg Incident Per Thousand People=%{x}<br>Average People Harmed Per Year=%{customdata[0]}<extra></extra>",
         "legendgroup": "Tanzania",
         "marker": {
          "color": "#00cc96"
         },
         "name": "Tanzania",
         "offsetgroup": "Tanzania",
         "orientation": "h",
         "showlegend": true,
         "textposition": "auto",
         "type": "bar",
         "x": [
          1.626057585821246e-05
         ],
         "xaxis": "x",
         "y": [
          "Tanzania"
         ],
         "yaxis": "y"
        },
        {
         "alignmentgroup": "True",
         "customdata": [
          [
           2
          ]
         ],
         "hovertemplate": "Country=%{y}<br>Avg Incident Per Thousand People=%{x}<br>Average People Harmed Per Year=%{customdata[0]}<extra></extra>",
         "legendgroup": "Vietnam",
         "marker": {
          "color": "#ab63fa"
         },
         "name": "Vietnam",
         "offsetgroup": "Vietnam",
         "orientation": "h",
         "showlegend": true,
         "textposition": "auto",
         "type": "bar",
         "x": [
          1.5279798630182352e-05
         ],
         "xaxis": "x",
         "y": [
          "Vietnam"
         ],
         "yaxis": "y"
        },
        {
         "alignmentgroup": "True",
         "customdata": [
          [
           7.75
          ]
         ],
         "hovertemplate": "Country=%{y}<br>Avg Incident Per Thousand People=%{x}<br>Average People Harmed Per Year=%{customdata[0]}<extra></extra>",
         "legendgroup": "Indonesia",
         "marker": {
          "color": "#FFA15A"
         },
         "name": "Indonesia",
         "offsetgroup": "Indonesia",
         "orientation": "h",
         "showlegend": true,
         "textposition": "auto",
         "type": "bar",
         "x": [
          1.0855335956491495e-05
         ],
         "xaxis": "x",
         "y": [
          "Indonesia"
         ],
         "yaxis": "y"
        },
        {
         "alignmentgroup": "True",
         "customdata": [
          [
           1
          ]
         ],
         "hovertemplate": "Country=%{y}<br>Avg Incident Per Thousand People=%{x}<br>Average People Harmed Per Year=%{customdata[0]}<extra></extra>",
         "legendgroup": "Brazil",
         "marker": {
          "color": "#19d3f3"
         },
         "name": "Brazil",
         "offsetgroup": "Brazil",
         "orientation": "h",
         "showlegend": true,
         "textposition": "auto",
         "type": "bar",
         "x": [
          4.673040510116205e-06
         ],
         "xaxis": "x",
         "y": [
          "Brazil"
         ],
         "yaxis": "y"
        },
        {
         "alignmentgroup": "True",
         "customdata": [
          [
           3.6666666666666665
          ]
         ],
         "hovertemplate": "Country=%{y}<br>Avg Incident Per Thousand People=%{x}<br>Average People Harmed Per Year=%{customdata[0]}<extra></extra>",
         "legendgroup": "China",
         "marker": {
          "color": "#FF6692"
         },
         "name": "China",
         "offsetgroup": "China",
         "orientation": "h",
         "showlegend": true,
         "textposition": "auto",
         "type": "bar",
         "x": [
          1.1540285824181482e-06
         ],
         "xaxis": "x",
         "y": [
          "China"
         ],
         "yaxis": "y"
        }
       ],
       "layout": {
        "barmode": "relative",
        "legend": {
         "title": {
          "text": "Country"
         },
         "tracegroupgap": 0
        },
        "template": {
         "data": {
          "bar": [
           {
            "error_x": {
             "color": "#2a3f5f"
            },
            "error_y": {
             "color": "#2a3f5f"
            },
            "marker": {
             "line": {
              "color": "#E5ECF6",
              "width": 0.5
             }
            },
            "type": "bar"
           }
          ],
          "barpolar": [
           {
            "marker": {
             "line": {
              "color": "#E5ECF6",
              "width": 0.5
             }
            },
            "type": "barpolar"
           }
          ],
          "carpet": [
           {
            "aaxis": {
             "endlinecolor": "#2a3f5f",
             "gridcolor": "white",
             "linecolor": "white",
             "minorgridcolor": "white",
             "startlinecolor": "#2a3f5f"
            },
            "baxis": {
             "endlinecolor": "#2a3f5f",
             "gridcolor": "white",
             "linecolor": "white",
             "minorgridcolor": "white",
             "startlinecolor": "#2a3f5f"
            },
            "type": "carpet"
           }
          ],
          "choropleth": [
           {
            "colorbar": {
             "outlinewidth": 0,
             "ticks": ""
            },
            "type": "choropleth"
           }
          ],
          "contour": [
           {
            "colorbar": {
             "outlinewidth": 0,
             "ticks": ""
            },
            "colorscale": [
             [
              0,
              "#0d0887"
             ],
             [
              0.1111111111111111,
              "#46039f"
             ],
             [
              0.2222222222222222,
              "#7201a8"
             ],
             [
              0.3333333333333333,
              "#9c179e"
             ],
             [
              0.4444444444444444,
              "#bd3786"
             ],
             [
              0.5555555555555556,
              "#d8576b"
             ],
             [
              0.6666666666666666,
              "#ed7953"
             ],
             [
              0.7777777777777778,
              "#fb9f3a"
             ],
             [
              0.8888888888888888,
              "#fdca26"
             ],
             [
              1,
              "#f0f921"
             ]
            ],
            "type": "contour"
           }
          ],
          "contourcarpet": [
           {
            "colorbar": {
             "outlinewidth": 0,
             "ticks": ""
            },
            "type": "contourcarpet"
           }
          ],
          "heatmap": [
           {
            "colorbar": {
             "outlinewidth": 0,
             "ticks": ""
            },
            "colorscale": [
             [
              0,
              "#0d0887"
             ],
             [
              0.1111111111111111,
              "#46039f"
             ],
             [
              0.2222222222222222,
              "#7201a8"
             ],
             [
              0.3333333333333333,
              "#9c179e"
             ],
             [
              0.4444444444444444,
              "#bd3786"
             ],
             [
              0.5555555555555556,
              "#d8576b"
             ],
             [
              0.6666666666666666,
              "#ed7953"
             ],
             [
              0.7777777777777778,
              "#fb9f3a"
             ],
             [
              0.8888888888888888,
              "#fdca26"
             ],
             [
              1,
              "#f0f921"
             ]
            ],
            "type": "heatmap"
           }
          ],
          "heatmapgl": [
           {
            "colorbar": {
             "outlinewidth": 0,
             "ticks": ""
            },
            "colorscale": [
             [
              0,
              "#0d0887"
             ],
             [
              0.1111111111111111,
              "#46039f"
             ],
             [
              0.2222222222222222,
              "#7201a8"
             ],
             [
              0.3333333333333333,
              "#9c179e"
             ],
             [
              0.4444444444444444,
              "#bd3786"
             ],
             [
              0.5555555555555556,
              "#d8576b"
             ],
             [
              0.6666666666666666,
              "#ed7953"
             ],
             [
              0.7777777777777778,
              "#fb9f3a"
             ],
             [
              0.8888888888888888,
              "#fdca26"
             ],
             [
              1,
              "#f0f921"
             ]
            ],
            "type": "heatmapgl"
           }
          ],
          "histogram": [
           {
            "marker": {
             "colorbar": {
              "outlinewidth": 0,
              "ticks": ""
             }
            },
            "type": "histogram"
           }
          ],
          "histogram2d": [
           {
            "colorbar": {
             "outlinewidth": 0,
             "ticks": ""
            },
            "colorscale": [
             [
              0,
              "#0d0887"
             ],
             [
              0.1111111111111111,
              "#46039f"
             ],
             [
              0.2222222222222222,
              "#7201a8"
             ],
             [
              0.3333333333333333,
              "#9c179e"
             ],
             [
              0.4444444444444444,
              "#bd3786"
             ],
             [
              0.5555555555555556,
              "#d8576b"
             ],
             [
              0.6666666666666666,
              "#ed7953"
             ],
             [
              0.7777777777777778,
              "#fb9f3a"
             ],
             [
              0.8888888888888888,
              "#fdca26"
             ],
             [
              1,
              "#f0f921"
             ]
            ],
            "type": "histogram2d"
           }
          ],
          "histogram2dcontour": [
           {
            "colorbar": {
             "outlinewidth": 0,
             "ticks": ""
            },
            "colorscale": [
             [
              0,
              "#0d0887"
             ],
             [
              0.1111111111111111,
              "#46039f"
             ],
             [
              0.2222222222222222,
              "#7201a8"
             ],
             [
              0.3333333333333333,
              "#9c179e"
             ],
             [
              0.4444444444444444,
              "#bd3786"
             ],
             [
              0.5555555555555556,
              "#d8576b"
             ],
             [
              0.6666666666666666,
              "#ed7953"
             ],
             [
              0.7777777777777778,
              "#fb9f3a"
             ],
             [
              0.8888888888888888,
              "#fdca26"
             ],
             [
              1,
              "#f0f921"
             ]
            ],
            "type": "histogram2dcontour"
           }
          ],
          "mesh3d": [
           {
            "colorbar": {
             "outlinewidth": 0,
             "ticks": ""
            },
            "type": "mesh3d"
           }
          ],
          "parcoords": [
           {
            "line": {
             "colorbar": {
              "outlinewidth": 0,
              "ticks": ""
             }
            },
            "type": "parcoords"
           }
          ],
          "pie": [
           {
            "automargin": true,
            "type": "pie"
           }
          ],
          "scatter": [
           {
            "marker": {
             "colorbar": {
              "outlinewidth": 0,
              "ticks": ""
             }
            },
            "type": "scatter"
           }
          ],
          "scatter3d": [
           {
            "line": {
             "colorbar": {
              "outlinewidth": 0,
              "ticks": ""
             }
            },
            "marker": {
             "colorbar": {
              "outlinewidth": 0,
              "ticks": ""
             }
            },
            "type": "scatter3d"
           }
          ],
          "scattercarpet": [
           {
            "marker": {
             "colorbar": {
              "outlinewidth": 0,
              "ticks": ""
             }
            },
            "type": "scattercarpet"
           }
          ],
          "scattergeo": [
           {
            "marker": {
             "colorbar": {
              "outlinewidth": 0,
              "ticks": ""
             }
            },
            "type": "scattergeo"
           }
          ],
          "scattergl": [
           {
            "marker": {
             "colorbar": {
              "outlinewidth": 0,
              "ticks": ""
             }
            },
            "type": "scattergl"
           }
          ],
          "scattermapbox": [
           {
            "marker": {
             "colorbar": {
              "outlinewidth": 0,
              "ticks": ""
             }
            },
            "type": "scattermapbox"
           }
          ],
          "scatterpolar": [
           {
            "marker": {
             "colorbar": {
              "outlinewidth": 0,
              "ticks": ""
             }
            },
            "type": "scatterpolar"
           }
          ],
          "scatterpolargl": [
           {
            "marker": {
             "colorbar": {
              "outlinewidth": 0,
              "ticks": ""
             }
            },
            "type": "scatterpolargl"
           }
          ],
          "scatterternary": [
           {
            "marker": {
             "colorbar": {
              "outlinewidth": 0,
              "ticks": ""
             }
            },
            "type": "scatterternary"
           }
          ],
          "surface": [
           {
            "colorbar": {
             "outlinewidth": 0,
             "ticks": ""
            },
            "colorscale": [
             [
              0,
              "#0d0887"
             ],
             [
              0.1111111111111111,
              "#46039f"
             ],
             [
              0.2222222222222222,
              "#7201a8"
             ],
             [
              0.3333333333333333,
              "#9c179e"
             ],
             [
              0.4444444444444444,
              "#bd3786"
             ],
             [
              0.5555555555555556,
              "#d8576b"
             ],
             [
              0.6666666666666666,
              "#ed7953"
             ],
             [
              0.7777777777777778,
              "#fb9f3a"
             ],
             [
              0.8888888888888888,
              "#fdca26"
             ],
             [
              1,
              "#f0f921"
             ]
            ],
            "type": "surface"
           }
          ],
          "table": [
           {
            "cells": {
             "fill": {
              "color": "#EBF0F8"
             },
             "line": {
              "color": "white"
             }
            },
            "header": {
             "fill": {
              "color": "#C8D4E3"
             },
             "line": {
              "color": "white"
             }
            },
            "type": "table"
           }
          ]
         },
         "layout": {
          "annotationdefaults": {
           "arrowcolor": "#2a3f5f",
           "arrowhead": 0,
           "arrowwidth": 1
          },
          "autotypenumbers": "strict",
          "coloraxis": {
           "colorbar": {
            "outlinewidth": 0,
            "ticks": ""
           }
          },
          "colorscale": {
           "diverging": [
            [
             0,
             "#8e0152"
            ],
            [
             0.1,
             "#c51b7d"
            ],
            [
             0.2,
             "#de77ae"
            ],
            [
             0.3,
             "#f1b6da"
            ],
            [
             0.4,
             "#fde0ef"
            ],
            [
             0.5,
             "#f7f7f7"
            ],
            [
             0.6,
             "#e6f5d0"
            ],
            [
             0.7,
             "#b8e186"
            ],
            [
             0.8,
             "#7fbc41"
            ],
            [
             0.9,
             "#4d9221"
            ],
            [
             1,
             "#276419"
            ]
           ],
           "sequential": [
            [
             0,
             "#0d0887"
            ],
            [
             0.1111111111111111,
             "#46039f"
            ],
            [
             0.2222222222222222,
             "#7201a8"
            ],
            [
             0.3333333333333333,
             "#9c179e"
            ],
            [
             0.4444444444444444,
             "#bd3786"
            ],
            [
             0.5555555555555556,
             "#d8576b"
            ],
            [
             0.6666666666666666,
             "#ed7953"
            ],
            [
             0.7777777777777778,
             "#fb9f3a"
            ],
            [
             0.8888888888888888,
             "#fdca26"
            ],
            [
             1,
             "#f0f921"
            ]
           ],
           "sequentialminus": [
            [
             0,
             "#0d0887"
            ],
            [
             0.1111111111111111,
             "#46039f"
            ],
            [
             0.2222222222222222,
             "#7201a8"
            ],
            [
             0.3333333333333333,
             "#9c179e"
            ],
            [
             0.4444444444444444,
             "#bd3786"
            ],
            [
             0.5555555555555556,
             "#d8576b"
            ],
            [
             0.6666666666666666,
             "#ed7953"
            ],
            [
             0.7777777777777778,
             "#fb9f3a"
            ],
            [
             0.8888888888888888,
             "#fdca26"
            ],
            [
             1,
             "#f0f921"
            ]
           ]
          },
          "colorway": [
           "#636efa",
           "#EF553B",
           "#00cc96",
           "#ab63fa",
           "#FFA15A",
           "#19d3f3",
           "#FF6692",
           "#B6E880",
           "#FF97FF",
           "#FECB52"
          ],
          "font": {
           "color": "#2a3f5f"
          },
          "geo": {
           "bgcolor": "white",
           "lakecolor": "white",
           "landcolor": "#E5ECF6",
           "showlakes": true,
           "showland": true,
           "subunitcolor": "white"
          },
          "hoverlabel": {
           "align": "left"
          },
          "hovermode": "closest",
          "mapbox": {
           "style": "light"
          },
          "paper_bgcolor": "white",
          "plot_bgcolor": "#E5ECF6",
          "polar": {
           "angularaxis": {
            "gridcolor": "white",
            "linecolor": "white",
            "ticks": ""
           },
           "bgcolor": "#E5ECF6",
           "radialaxis": {
            "gridcolor": "white",
            "linecolor": "white",
            "ticks": ""
           }
          },
          "scene": {
           "xaxis": {
            "backgroundcolor": "#E5ECF6",
            "gridcolor": "white",
            "gridwidth": 2,
            "linecolor": "white",
            "showbackground": true,
            "ticks": "",
            "zerolinecolor": "white"
           },
           "yaxis": {
            "backgroundcolor": "#E5ECF6",
            "gridcolor": "white",
            "gridwidth": 2,
            "linecolor": "white",
            "showbackground": true,
            "ticks": "",
            "zerolinecolor": "white"
           },
           "zaxis": {
            "backgroundcolor": "#E5ECF6",
            "gridcolor": "white",
            "gridwidth": 2,
            "linecolor": "white",
            "showbackground": true,
            "ticks": "",
            "zerolinecolor": "white"
           }
          },
          "shapedefaults": {
           "line": {
            "color": "#2a3f5f"
           }
          },
          "ternary": {
           "aaxis": {
            "gridcolor": "white",
            "linecolor": "white",
            "ticks": ""
           },
           "baxis": {
            "gridcolor": "white",
            "linecolor": "white",
            "ticks": ""
           },
           "bgcolor": "#E5ECF6",
           "caxis": {
            "gridcolor": "white",
            "linecolor": "white",
            "ticks": ""
           }
          },
          "title": {
           "x": 0.05
          },
          "xaxis": {
           "automargin": true,
           "gridcolor": "white",
           "linecolor": "white",
           "ticks": "",
           "title": {
            "standoff": 15
           },
           "zerolinecolor": "white",
           "zerolinewidth": 2
          },
          "yaxis": {
           "automargin": true,
           "gridcolor": "white",
           "linecolor": "white",
           "ticks": "",
           "title": {
            "standoff": 15
           },
           "zerolinecolor": "white",
           "zerolinewidth": 2
          }
         }
        },
        "title": {
         "text": "School attack data by country Average Incidents per 1000 people"
        },
        "xaxis": {
         "anchor": "y",
         "domain": [
          0,
          1
         ],
         "title": {
          "text": "Avg Incident Per Thousand People"
         }
        },
        "yaxis": {
         "anchor": "x",
         "categoryarray": [
          "China",
          "Brazil",
          "Indonesia",
          "Vietnam",
          "Tanzania",
          "South Africa",
          "Uganda",
          "India",
          "Angola",
          "Malaysia",
          "Russia",
          "Iran",
          "Ecuador",
          "Senegal",
          "Ethiopia",
          "Haiti",
          "United Arab Emirates",
          "Malawi",
          "Chile",
          "Belarus",
          "Sri Lanka",
          "Togo",
          "Chad",
          "Niger",
          "Kenya",
          "Egypt",
          "Papua New Guinea",
          "Bangladesh",
          "Sierra Leone",
          "Myanmar",
          "Zimbabwe",
          "Israel",
          "Sweden",
          "Turkey",
          "Pakistan",
          "Colombia",
          "Venezuela",
          "Thailand",
          "Lebanon",
          "Sudan",
          "Philippines",
          "Cameroon",
          "Bahrain",
          "Burundi",
          "Nigeria",
          "Mali",
          "Iraq",
          "Libya",
          "Ukraine",
          "Afghanistan",
          "Somalia",
          "Syria",
          "Yemen",
          "Central African Republic",
          "South Sudan",
          "Democratic Republic of Congo",
          "Palestine"
         ],
         "categoryorder": "array",
         "domain": [
          0,
          1
         ],
         "title": {
          "text": "Country"
         }
        }
       }
      },
      "text/html": [
       "<div>                            <div id=\"e2509bf0-7848-44f7-82df-118d3ec6a0d3\" class=\"plotly-graph-div\" style=\"height:525px; width:100%;\"></div>            <script type=\"text/javascript\">                require([\"plotly\"], function(Plotly) {                    window.PLOTLYENV=window.PLOTLYENV || {};                                    if (document.getElementById(\"e2509bf0-7848-44f7-82df-118d3ec6a0d3\")) {                    Plotly.newPlot(                        \"e2509bf0-7848-44f7-82df-118d3ec6a0d3\",                        [{\"alignmentgroup\": \"True\", \"customdata\": [[184.6]], \"hovertemplate\": \"Country=%{y}<br>Avg Incident Per Thousand People=%{x}<br>Average People Harmed Per Year=%{customdata[0]}<extra></extra>\", \"legendgroup\": \"Palestine\", \"marker\": {\"color\": \"#636efa\"}, \"name\": \"Palestine\", \"offsetgroup\": \"Palestine\", \"orientation\": \"h\", \"showlegend\": true, \"textposition\": \"auto\", \"type\": \"bar\", \"x\": [0.0654444748243645], \"xaxis\": \"x\", \"y\": [\"Palestine\"], \"yaxis\": \"y\"}, {\"alignmentgroup\": \"True\", \"customdata\": [[25.6]], \"hovertemplate\": \"Country=%{y}<br>Avg Incident Per Thousand People=%{x}<br>Average People Harmed Per Year=%{customdata[0]}<extra></extra>\", \"legendgroup\": \"Democratic Republic of Congo\", \"marker\": {\"color\": \"#EF553B\"}, \"name\": \"Democratic Republic of Congo\", \"offsetgroup\": \"Democratic Republic of Congo\", \"orientation\": \"h\", \"showlegend\": true, \"textposition\": \"auto\", \"type\": \"bar\", \"x\": [0.04320301190752081], \"xaxis\": \"x\", \"y\": [\"Democratic Republic of Congo\"], \"yaxis\": \"y\"}, {\"alignmentgroup\": \"True\", \"customdata\": [[186.2]], \"hovertemplate\": \"Country=%{y}<br>Avg Incident Per Thousand People=%{x}<br>Average People Harmed Per Year=%{customdata[0]}<extra></extra>\", \"legendgroup\": \"South Sudan\", \"marker\": {\"color\": \"#00cc96\"}, \"name\": \"South Sudan\", \"offsetgroup\": \"South Sudan\", \"orientation\": \"h\", \"showlegend\": true, \"textposition\": \"auto\", \"type\": \"bar\", \"x\": [0.017713145104222002], \"xaxis\": \"x\", \"y\": [\"South Sudan\"], \"yaxis\": \"y\"}, {\"alignmentgroup\": \"True\", \"customdata\": [[25.25]], \"hovertemplate\": \"Country=%{y}<br>Avg Incident Per Thousand People=%{x}<br>Average People Harmed Per Year=%{customdata[0]}<extra></extra>\", \"legendgroup\": \"Central African Republic\", \"marker\": {\"color\": \"#ab63fa\"}, \"name\": \"Central African Republic\", \"offsetgroup\": \"Central African Republic\", \"orientation\": \"h\", \"showlegend\": true, \"textposition\": \"auto\", \"type\": \"bar\", \"x\": [0.011748012848017096], \"xaxis\": \"x\", \"y\": [\"Central African Republic\"], \"yaxis\": \"y\"}, {\"alignmentgroup\": \"True\", \"customdata\": [[57.4]], \"hovertemplate\": \"Country=%{y}<br>Avg Incident Per Thousand People=%{x}<br>Average People Harmed Per Year=%{customdata[0]}<extra></extra>\", \"legendgroup\": \"Yemen\", \"marker\": {\"color\": \"#FFA15A\"}, \"name\": \"Yemen\", \"offsetgroup\": \"Yemen\", \"orientation\": \"h\", \"showlegend\": true, \"textposition\": \"auto\", \"type\": \"bar\", \"x\": [0.010632771237337097], \"xaxis\": \"x\", \"y\": [\"Yemen\"], \"yaxis\": \"y\"}, {\"alignmentgroup\": \"True\", \"customdata\": [[348.8]], \"hovertemplate\": \"Country=%{y}<br>Avg Incident Per Thousand People=%{x}<br>Average People Harmed Per Year=%{customdata[0]}<extra></extra>\", \"legendgroup\": \"Syria\", \"marker\": {\"color\": \"#19d3f3\"}, \"name\": \"Syria\", \"offsetgroup\": \"Syria\", \"orientation\": \"h\", \"showlegend\": true, \"textposition\": \"auto\", \"type\": \"bar\", \"x\": [0.008503093342187348], \"xaxis\": \"x\", \"y\": [\"Syria\"], \"yaxis\": \"y\"}, {\"alignmentgroup\": \"True\", \"customdata\": [[115.8]], \"hovertemplate\": \"Country=%{y}<br>Avg Incident Per Thousand People=%{x}<br>Average People Harmed Per Year=%{customdata[0]}<extra></extra>\", \"legendgroup\": \"Somalia\", \"marker\": {\"color\": \"#FF6692\"}, \"name\": \"Somalia\", \"offsetgroup\": \"Somalia\", \"orientation\": \"h\", \"showlegend\": true, \"textposition\": \"auto\", \"type\": \"bar\", \"x\": [0.00833766109290355], \"xaxis\": \"x\", \"y\": [\"Somalia\"], \"yaxis\": \"y\"}, {\"alignmentgroup\": \"True\", \"customdata\": [[177.6]], \"hovertemplate\": \"Country=%{y}<br>Avg Incident Per Thousand People=%{x}<br>Average People Harmed Per Year=%{customdata[0]}<extra></extra>\", \"legendgroup\": \"Afghanistan\", \"marker\": {\"color\": \"#B6E880\"}, \"name\": \"Afghanistan\", \"offsetgroup\": \"Afghanistan\", \"orientation\": \"h\", \"showlegend\": true, \"textposition\": \"auto\", \"type\": \"bar\", \"x\": [0.0050206564869844], \"xaxis\": \"x\", \"y\": [\"Afghanistan\"], \"yaxis\": \"y\"}, {\"alignmentgroup\": \"True\", \"customdata\": [[4.0]], \"hovertemplate\": \"Country=%{y}<br>Avg Incident Per Thousand People=%{x}<br>Average People Harmed Per Year=%{customdata[0]}<extra></extra>\", \"legendgroup\": \"Ukraine\", \"marker\": {\"color\": \"#FF97FF\"}, \"name\": \"Ukraine\", \"offsetgroup\": \"Ukraine\", \"orientation\": \"h\", \"showlegend\": true, \"textposition\": \"auto\", \"type\": \"bar\", \"x\": [0.0035889444773955044], \"xaxis\": \"x\", \"y\": [\"Ukraine\"], \"yaxis\": \"y\"}, {\"alignmentgroup\": \"True\", \"customdata\": [[10.0]], \"hovertemplate\": \"Country=%{y}<br>Avg Incident Per Thousand People=%{x}<br>Average People Harmed Per Year=%{customdata[0]}<extra></extra>\", \"legendgroup\": \"Libya\", \"marker\": {\"color\": \"#FECB52\"}, \"name\": \"Libya\", \"offsetgroup\": \"Libya\", \"orientation\": \"h\", \"showlegend\": true, \"textposition\": \"auto\", \"type\": \"bar\", \"x\": [0.0025292691044605385], \"xaxis\": \"x\", \"y\": [\"Libya\"], \"yaxis\": \"y\"}, {\"alignmentgroup\": \"True\", \"customdata\": [[132.6]], \"hovertemplate\": \"Country=%{y}<br>Avg Incident Per Thousand People=%{x}<br>Average People Harmed Per Year=%{customdata[0]}<extra></extra>\", \"legendgroup\": \"Iraq\", \"marker\": {\"color\": \"#636efa\"}, \"name\": \"Iraq\", \"offsetgroup\": \"Iraq\", \"orientation\": \"h\", \"showlegend\": true, \"textposition\": \"auto\", \"type\": \"bar\", \"x\": [0.0024186880074600495], \"xaxis\": \"x\", \"y\": [\"Iraq\"], \"yaxis\": \"y\"}, {\"alignmentgroup\": \"True\", \"customdata\": [[38.5]], \"hovertemplate\": \"Country=%{y}<br>Avg Incident Per Thousand People=%{x}<br>Average People Harmed Per Year=%{customdata[0]}<extra></extra>\", \"legendgroup\": \"Mali\", \"marker\": {\"color\": \"#EF553B\"}, \"name\": \"Mali\", \"offsetgroup\": \"Mali\", \"orientation\": \"h\", \"showlegend\": true, \"textposition\": \"auto\", \"type\": \"bar\", \"x\": [0.0022343973971667747], \"xaxis\": \"x\", \"y\": [\"Mali\"], \"yaxis\": \"y\"}, {\"alignmentgroup\": \"True\", \"customdata\": [[268.0]], \"hovertemplate\": \"Country=%{y}<br>Avg Incident Per Thousand People=%{x}<br>Average People Harmed Per Year=%{customdata[0]}<extra></extra>\", \"legendgroup\": \"Nigeria\", \"marker\": {\"color\": \"#00cc96\"}, \"name\": \"Nigeria\", \"offsetgroup\": \"Nigeria\", \"orientation\": \"h\", \"showlegend\": true, \"textposition\": \"auto\", \"type\": \"bar\", \"x\": [0.0015165512123071982], \"xaxis\": \"x\", \"y\": [\"Nigeria\"], \"yaxis\": \"y\"}, {\"alignmentgroup\": \"True\", \"customdata\": [[60.666666666666664]], \"hovertemplate\": \"Country=%{y}<br>Avg Incident Per Thousand People=%{x}<br>Average People Harmed Per Year=%{customdata[0]}<extra></extra>\", \"legendgroup\": \"Burundi\", \"marker\": {\"color\": \"#ab63fa\"}, \"name\": \"Burundi\", \"offsetgroup\": \"Burundi\", \"orientation\": \"h\", \"showlegend\": true, \"textposition\": \"auto\", \"type\": \"bar\", \"x\": [0.0010063563917597472], \"xaxis\": \"x\", \"y\": [\"Burundi\"], \"yaxis\": \"y\"}, {\"alignmentgroup\": \"True\", \"customdata\": [[1.3333333333333333]], \"hovertemplate\": \"Country=%{y}<br>Avg Incident Per Thousand People=%{x}<br>Average People Harmed Per Year=%{customdata[0]}<extra></extra>\", \"legendgroup\": \"Bahrain\", \"marker\": {\"color\": \"#FFA15A\"}, \"name\": \"Bahrain\", \"offsetgroup\": \"Bahrain\", \"orientation\": \"h\", \"showlegend\": true, \"textposition\": \"auto\", \"type\": \"bar\", \"x\": [0.0009533092031707827], \"xaxis\": \"x\", \"y\": [\"Bahrain\"], \"yaxis\": \"y\"}, {\"alignmentgroup\": \"True\", \"customdata\": [[26.75]], \"hovertemplate\": \"Country=%{y}<br>Avg Incident Per Thousand People=%{x}<br>Average People Harmed Per Year=%{customdata[0]}<extra></extra>\", \"legendgroup\": \"Cameroon\", \"marker\": {\"color\": \"#19d3f3\"}, \"name\": \"Cameroon\", \"offsetgroup\": \"Cameroon\", \"orientation\": \"h\", \"showlegend\": true, \"textposition\": \"auto\", \"type\": \"bar\", \"x\": [0.0006152599528398654], \"xaxis\": \"x\", \"y\": [\"Cameroon\"], \"yaxis\": \"y\"}, {\"alignmentgroup\": \"True\", \"customdata\": [[287.8]], \"hovertemplate\": \"Country=%{y}<br>Avg Incident Per Thousand People=%{x}<br>Average People Harmed Per Year=%{customdata[0]}<extra></extra>\", \"legendgroup\": \"Philippines\", \"marker\": {\"color\": \"#FF6692\"}, \"name\": \"Philippines\", \"offsetgroup\": \"Philippines\", \"orientation\": \"h\", \"showlegend\": true, \"textposition\": \"auto\", \"type\": \"bar\", \"x\": [0.0006105527670093809], \"xaxis\": \"x\", \"y\": [\"Philippines\"], \"yaxis\": \"y\"}, {\"alignmentgroup\": \"True\", \"customdata\": [[140.2]], \"hovertemplate\": \"Country=%{y}<br>Avg Incident Per Thousand People=%{x}<br>Average People Harmed Per Year=%{customdata[0]}<extra></extra>\", \"legendgroup\": \"Sudan\", \"marker\": {\"color\": \"#B6E880\"}, \"name\": \"Sudan\", \"offsetgroup\": \"Sudan\", \"orientation\": \"h\", \"showlegend\": true, \"textposition\": \"auto\", \"type\": \"bar\", \"x\": [0.0006056644815168012], \"xaxis\": \"x\", \"y\": [\"Sudan\"], \"yaxis\": \"y\"}, {\"alignmentgroup\": \"True\", \"customdata\": [[5.0]], \"hovertemplate\": \"Country=%{y}<br>Avg Incident Per Thousand People=%{x}<br>Average People Harmed Per Year=%{customdata[0]}<extra></extra>\", \"legendgroup\": \"Lebanon\", \"marker\": {\"color\": \"#FF97FF\"}, \"name\": \"Lebanon\", \"offsetgroup\": \"Lebanon\", \"orientation\": \"h\", \"showlegend\": true, \"textposition\": \"auto\", \"type\": \"bar\", \"x\": [0.00041364154355660225], \"xaxis\": \"x\", \"y\": [\"Lebanon\"], \"yaxis\": \"y\"}, {\"alignmentgroup\": \"True\", \"customdata\": [[46.8]], \"hovertemplate\": \"Country=%{y}<br>Avg Incident Per Thousand People=%{x}<br>Average People Harmed Per Year=%{customdata[0]}<extra></extra>\", \"legendgroup\": \"Thailand\", \"marker\": {\"color\": \"#FECB52\"}, \"name\": \"Thailand\", \"offsetgroup\": \"Thailand\", \"orientation\": \"h\", \"showlegend\": true, \"textposition\": \"auto\", \"type\": \"bar\", \"x\": [0.0003945627537049228], \"xaxis\": \"x\", \"y\": [\"Thailand\"], \"yaxis\": \"y\"}, {\"alignmentgroup\": \"True\", \"customdata\": [[165.25]], \"hovertemplate\": \"Country=%{y}<br>Avg Incident Per Thousand People=%{x}<br>Average People Harmed Per Year=%{customdata[0]}<extra></extra>\", \"legendgroup\": \"Venezuela\", \"marker\": {\"color\": \"#636efa\"}, \"name\": \"Venezuela\", \"offsetgroup\": \"Venezuela\", \"orientation\": \"h\", \"showlegend\": true, \"textposition\": \"auto\", \"type\": \"bar\", \"x\": [0.000365790518249916], \"xaxis\": \"x\", \"y\": [\"Venezuela\"], \"yaxis\": \"y\"}, {\"alignmentgroup\": \"True\", \"customdata\": [[39.4]], \"hovertemplate\": \"Country=%{y}<br>Avg Incident Per Thousand People=%{x}<br>Average People Harmed Per Year=%{customdata[0]}<extra></extra>\", \"legendgroup\": \"Colombia\", \"marker\": {\"color\": \"#EF553B\"}, \"name\": \"Colombia\", \"offsetgroup\": \"Colombia\", \"orientation\": \"h\", \"showlegend\": true, \"textposition\": \"auto\", \"type\": \"bar\", \"x\": [0.000343308499904927], \"xaxis\": \"x\", \"y\": [\"Colombia\"], \"yaxis\": \"y\"}, {\"alignmentgroup\": \"True\", \"customdata\": [[116.2]], \"hovertemplate\": \"Country=%{y}<br>Avg Incident Per Thousand People=%{x}<br>Average People Harmed Per Year=%{customdata[0]}<extra></extra>\", \"legendgroup\": \"Pakistan\", \"marker\": {\"color\": \"#00cc96\"}, \"name\": \"Pakistan\", \"offsetgroup\": \"Pakistan\", \"orientation\": \"h\", \"showlegend\": true, \"textposition\": \"auto\", \"type\": \"bar\", \"x\": [0.00034014219106997347], \"xaxis\": \"x\", \"y\": [\"Pakistan\"], \"yaxis\": \"y\"}, {\"alignmentgroup\": \"True\", \"customdata\": [[308.2]], \"hovertemplate\": \"Country=%{y}<br>Avg Incident Per Thousand People=%{x}<br>Average People Harmed Per Year=%{customdata[0]}<extra></extra>\", \"legendgroup\": \"Turkey\", \"marker\": {\"color\": \"#ab63fa\"}, \"name\": \"Turkey\", \"offsetgroup\": \"Turkey\", \"orientation\": \"h\", \"showlegend\": true, \"textposition\": \"auto\", \"type\": \"bar\", \"x\": [0.00033630149584318417], \"xaxis\": \"x\", \"y\": [\"Turkey\"], \"yaxis\": \"y\"}, {\"alignmentgroup\": \"True\", \"customdata\": [[3.0]], \"hovertemplate\": \"Country=%{y}<br>Avg Incident Per Thousand People=%{x}<br>Average People Harmed Per Year=%{customdata[0]}<extra></extra>\", \"legendgroup\": \"Sweden\", \"marker\": {\"color\": \"#FFA15A\"}, \"name\": \"Sweden\", \"offsetgroup\": \"Sweden\", \"orientation\": \"h\", \"showlegend\": true, \"textposition\": \"auto\", \"type\": \"bar\", \"x\": [0.000295270679060555], \"xaxis\": \"x\", \"y\": [\"Sweden\"], \"yaxis\": \"y\"}, {\"alignmentgroup\": \"True\", \"customdata\": [[1.0]], \"hovertemplate\": \"Country=%{y}<br>Avg Incident Per Thousand People=%{x}<br>Average People Harmed Per Year=%{customdata[0]}<extra></extra>\", \"legendgroup\": \"Israel\", \"marker\": {\"color\": \"#19d3f3\"}, \"name\": \"Israel\", \"offsetgroup\": \"Israel\", \"orientation\": \"h\", \"showlegend\": true, \"textposition\": \"auto\", \"type\": \"bar\", \"x\": [0.0002502908493437943], \"xaxis\": \"x\", \"y\": [\"Israel\"], \"yaxis\": \"y\"}, {\"alignmentgroup\": \"True\", \"customdata\": [[17.333333333333332]], \"hovertemplate\": \"Country=%{y}<br>Avg Incident Per Thousand People=%{x}<br>Average People Harmed Per Year=%{customdata[0]}<extra></extra>\", \"legendgroup\": \"Zimbabwe\", \"marker\": {\"color\": \"#FF6692\"}, \"name\": \"Zimbabwe\", \"offsetgroup\": \"Zimbabwe\", \"orientation\": \"h\", \"showlegend\": true, \"textposition\": \"auto\", \"type\": \"bar\", \"x\": [0.00019877855876401082], \"xaxis\": \"x\", \"y\": [\"Zimbabwe\"], \"yaxis\": \"y\"}, {\"alignmentgroup\": \"True\", \"customdata\": [[43.75]], \"hovertemplate\": \"Country=%{y}<br>Avg Incident Per Thousand People=%{x}<br>Average People Harmed Per Year=%{customdata[0]}<extra></extra>\", \"legendgroup\": \"Myanmar\", \"marker\": {\"color\": \"#B6E880\"}, \"name\": \"Myanmar\", \"offsetgroup\": \"Myanmar\", \"orientation\": \"h\", \"showlegend\": true, \"textposition\": \"auto\", \"type\": \"bar\", \"x\": [0.0001861109689936936], \"xaxis\": \"x\", \"y\": [\"Myanmar\"], \"yaxis\": \"y\"}, {\"alignmentgroup\": \"True\", \"customdata\": [[1.0]], \"hovertemplate\": \"Country=%{y}<br>Avg Incident Per Thousand People=%{x}<br>Average People Harmed Per Year=%{customdata[0]}<extra></extra>\", \"legendgroup\": \"Sierra Leone\", \"marker\": {\"color\": \"#FF97FF\"}, \"name\": \"Sierra Leone\", \"offsetgroup\": \"Sierra Leone\", \"orientation\": \"h\", \"showlegend\": true, \"textposition\": \"auto\", \"type\": \"bar\", \"x\": [0.00018424478614891918], \"xaxis\": \"x\", \"y\": [\"Sierra Leone\"], \"yaxis\": \"y\"}, {\"alignmentgroup\": \"True\", \"customdata\": [[12.0]], \"hovertemplate\": \"Country=%{y}<br>Avg Incident Per Thousand People=%{x}<br>Average People Harmed Per Year=%{customdata[0]}<extra></extra>\", \"legendgroup\": \"Bangladesh\", \"marker\": {\"color\": \"#FECB52\"}, \"name\": \"Bangladesh\", \"offsetgroup\": \"Bangladesh\", \"orientation\": \"h\", \"showlegend\": true, \"textposition\": \"auto\", \"type\": \"bar\", \"x\": [0.00018400094025683095], \"xaxis\": \"x\", \"y\": [\"Bangladesh\"], \"yaxis\": \"y\"}, {\"alignmentgroup\": \"True\", \"customdata\": [[13.0]], \"hovertemplate\": \"Country=%{y}<br>Avg Incident Per Thousand People=%{x}<br>Average People Harmed Per Year=%{customdata[0]}<extra></extra>\", \"legendgroup\": \"Papua New Guinea\", \"marker\": {\"color\": \"#636efa\"}, \"name\": \"Papua New Guinea\", \"offsetgroup\": \"Papua New Guinea\", \"orientation\": \"h\", \"showlegend\": true, \"textposition\": \"auto\", \"type\": \"bar\", \"x\": [0.0001644915402000875], \"xaxis\": \"x\", \"y\": [\"Papua New Guinea\"], \"yaxis\": \"y\"}, {\"alignmentgroup\": \"True\", \"customdata\": [[254.8]], \"hovertemplate\": \"Country=%{y}<br>Avg Incident Per Thousand People=%{x}<br>Average People Harmed Per Year=%{customdata[0]}<extra></extra>\", \"legendgroup\": \"Egypt\", \"marker\": {\"color\": \"#EF553B\"}, \"name\": \"Egypt\", \"offsetgroup\": \"Egypt\", \"orientation\": \"h\", \"showlegend\": true, \"textposition\": \"auto\", \"type\": \"bar\", \"x\": [0.00014962833616158063], \"xaxis\": \"x\", \"y\": [\"Egypt\"], \"yaxis\": \"y\"}, {\"alignmentgroup\": \"True\", \"customdata\": [[91.6]], \"hovertemplate\": \"Country=%{y}<br>Avg Incident Per Thousand People=%{x}<br>Average People Harmed Per Year=%{customdata[0]}<extra></extra>\", \"legendgroup\": \"Kenya\", \"marker\": {\"color\": \"#00cc96\"}, \"name\": \"Kenya\", \"offsetgroup\": \"Kenya\", \"orientation\": \"h\", \"showlegend\": true, \"textposition\": \"auto\", \"type\": \"bar\", \"x\": [0.00013458045035638177], \"xaxis\": \"x\", \"y\": [\"Kenya\"], \"yaxis\": \"y\"}, {\"alignmentgroup\": \"True\", \"customdata\": [[2.0]], \"hovertemplate\": \"Country=%{y}<br>Avg Incident Per Thousand People=%{x}<br>Average People Harmed Per Year=%{customdata[0]}<extra></extra>\", \"legendgroup\": \"Niger\", \"marker\": {\"color\": \"#ab63fa\"}, \"name\": \"Niger\", \"offsetgroup\": \"Niger\", \"orientation\": \"h\", \"showlegend\": true, \"textposition\": \"auto\", \"type\": \"bar\", \"x\": [0.00011937534700921184], \"xaxis\": \"x\", \"y\": [\"Niger\"], \"yaxis\": \"y\"}, {\"alignmentgroup\": \"True\", \"customdata\": [[10.0]], \"hovertemplate\": \"Country=%{y}<br>Avg Incident Per Thousand People=%{x}<br>Average People Harmed Per Year=%{customdata[0]}<extra></extra>\", \"legendgroup\": \"Chad\", \"marker\": {\"color\": \"#FFA15A\"}, \"name\": \"Chad\", \"offsetgroup\": \"Chad\", \"orientation\": \"h\", \"showlegend\": true, \"textposition\": \"auto\", \"type\": \"bar\", \"x\": [0.00011823835492612023], \"xaxis\": \"x\", \"y\": [\"Chad\"], \"yaxis\": \"y\"}, {\"alignmentgroup\": \"True\", \"customdata\": [[5.0]], \"hovertemplate\": \"Country=%{y}<br>Avg Incident Per Thousand People=%{x}<br>Average People Harmed Per Year=%{customdata[0]}<extra></extra>\", \"legendgroup\": \"Togo\", \"marker\": {\"color\": \"#19d3f3\"}, \"name\": \"Togo\", \"offsetgroup\": \"Togo\", \"orientation\": \"h\", \"showlegend\": true, \"textposition\": \"auto\", \"type\": \"bar\", \"x\": [0.00011794886916521688], \"xaxis\": \"x\", \"y\": [\"Togo\"], \"yaxis\": \"y\"}, {\"alignmentgroup\": \"True\", \"customdata\": [[11.5]], \"hovertemplate\": \"Country=%{y}<br>Avg Incident Per Thousand People=%{x}<br>Average People Harmed Per Year=%{customdata[0]}<extra></extra>\", \"legendgroup\": \"Sri Lanka\", \"marker\": {\"color\": \"#FF6692\"}, \"name\": \"Sri Lanka\", \"offsetgroup\": \"Sri Lanka\", \"orientation\": \"h\", \"showlegend\": true, \"textposition\": \"auto\", \"type\": \"bar\", \"x\": [0.00011629361999245486], \"xaxis\": \"x\", \"y\": [\"Sri Lanka\"], \"yaxis\": \"y\"}, {\"alignmentgroup\": \"True\", \"customdata\": [[3.0]], \"hovertemplate\": \"Country=%{y}<br>Avg Incident Per Thousand People=%{x}<br>Average People Harmed Per Year=%{customdata[0]}<extra></extra>\", \"legendgroup\": \"Belarus\", \"marker\": {\"color\": \"#B6E880\"}, \"name\": \"Belarus\", \"offsetgroup\": \"Belarus\", \"orientation\": \"h\", \"showlegend\": true, \"textposition\": \"auto\", \"type\": \"bar\", \"x\": [0.00010590009681386851], \"xaxis\": \"x\", \"y\": [\"Belarus\"], \"yaxis\": \"y\"}, {\"alignmentgroup\": \"True\", \"customdata\": [[43.5]], \"hovertemplate\": \"Country=%{y}<br>Avg Incident Per Thousand People=%{x}<br>Average People Harmed Per Year=%{customdata[0]}<extra></extra>\", \"legendgroup\": \"Chile\", \"marker\": {\"color\": \"#FF97FF\"}, \"name\": \"Chile\", \"offsetgroup\": \"Chile\", \"orientation\": \"h\", \"showlegend\": true, \"textposition\": \"auto\", \"type\": \"bar\", \"x\": [0.00010409964709699135], \"xaxis\": \"x\", \"y\": [\"Chile\"], \"yaxis\": \"y\"}, {\"alignmentgroup\": \"True\", \"customdata\": [[27.0]], \"hovertemplate\": \"Country=%{y}<br>Avg Incident Per Thousand People=%{x}<br>Average People Harmed Per Year=%{customdata[0]}<extra></extra>\", \"legendgroup\": \"Malawi\", \"marker\": {\"color\": \"#FECB52\"}, \"name\": \"Malawi\", \"offsetgroup\": \"Malawi\", \"orientation\": \"h\", \"showlegend\": true, \"textposition\": \"auto\", \"type\": \"bar\", \"x\": [0.00010179316809044771], \"xaxis\": \"x\", \"y\": [\"Malawi\"], \"yaxis\": \"y\"}, {\"alignmentgroup\": \"True\", \"customdata\": [[1.0]], \"hovertemplate\": \"Country=%{y}<br>Avg Incident Per Thousand People=%{x}<br>Average People Harmed Per Year=%{customdata[0]}<extra></extra>\", \"legendgroup\": \"United Arab Emirates\", \"marker\": {\"color\": \"#636efa\"}, \"name\": \"United Arab Emirates\", \"offsetgroup\": \"United Arab Emirates\", \"orientation\": \"h\", \"showlegend\": true, \"textposition\": \"auto\", \"type\": \"bar\", \"x\": [0.00010008918947674272], \"xaxis\": \"x\", \"y\": [\"United Arab Emirates\"], \"yaxis\": \"y\"}, {\"alignmentgroup\": \"True\", \"customdata\": [[1.0]], \"hovertemplate\": \"Country=%{y}<br>Avg Incident Per Thousand People=%{x}<br>Average People Harmed Per Year=%{customdata[0]}<extra></extra>\", \"legendgroup\": \"Haiti\", \"marker\": {\"color\": \"#EF553B\"}, \"name\": \"Haiti\", \"offsetgroup\": \"Haiti\", \"orientation\": \"h\", \"showlegend\": true, \"textposition\": \"auto\", \"type\": \"bar\", \"x\": [8.664246165096344e-05], \"xaxis\": \"x\", \"y\": [\"Haiti\"], \"yaxis\": \"y\"}, {\"alignmentgroup\": \"True\", \"customdata\": [[48.0]], \"hovertemplate\": \"Country=%{y}<br>Avg Incident Per Thousand People=%{x}<br>Average People Harmed Per Year=%{customdata[0]}<extra></extra>\", \"legendgroup\": \"Ethiopia\", \"marker\": {\"color\": \"#00cc96\"}, \"name\": \"Ethiopia\", \"offsetgroup\": \"Ethiopia\", \"orientation\": \"h\", \"showlegend\": true, \"textposition\": \"auto\", \"type\": \"bar\", \"x\": [6.277771344004758e-05], \"xaxis\": \"x\", \"y\": [\"Ethiopia\"], \"yaxis\": \"y\"}, {\"alignmentgroup\": \"True\", \"customdata\": [[28.0]], \"hovertemplate\": \"Country=%{y}<br>Avg Incident Per Thousand People=%{x}<br>Average People Harmed Per Year=%{customdata[0]}<extra></extra>\", \"legendgroup\": \"Senegal\", \"marker\": {\"color\": \"#ab63fa\"}, \"name\": \"Senegal\", \"offsetgroup\": \"Senegal\", \"orientation\": \"h\", \"showlegend\": true, \"textposition\": \"auto\", \"type\": \"bar\", \"x\": [5.815204095345854e-05], \"xaxis\": \"x\", \"y\": [\"Senegal\"], \"yaxis\": \"y\"}, {\"alignmentgroup\": \"True\", \"customdata\": [[1.0]], \"hovertemplate\": \"Country=%{y}<br>Avg Incident Per Thousand People=%{x}<br>Average People Harmed Per Year=%{customdata[0]}<extra></extra>\", \"legendgroup\": \"Ecuador\", \"marker\": {\"color\": \"#FFA15A\"}, \"name\": \"Ecuador\", \"offsetgroup\": \"Ecuador\", \"orientation\": \"h\", \"showlegend\": true, \"textposition\": \"auto\", \"type\": \"bar\", \"x\": [5.590191450081687e-05], \"xaxis\": \"x\", \"y\": [\"Ecuador\"], \"yaxis\": \"y\"}, {\"alignmentgroup\": \"True\", \"customdata\": [[46.666666666666664]], \"hovertemplate\": \"Country=%{y}<br>Avg Incident Per Thousand People=%{x}<br>Average People Harmed Per Year=%{customdata[0]}<extra></extra>\", \"legendgroup\": \"Iran\", \"marker\": {\"color\": \"#19d3f3\"}, \"name\": \"Iran\", \"offsetgroup\": \"Iran\", \"orientation\": \"h\", \"showlegend\": true, \"textposition\": \"auto\", \"type\": \"bar\", \"x\": [3.5282180232690445e-05], \"xaxis\": \"x\", \"y\": [\"Iran\"], \"yaxis\": \"y\"}, {\"alignmentgroup\": \"True\", \"customdata\": [[5.75]], \"hovertemplate\": \"Country=%{y}<br>Avg Incident Per Thousand People=%{x}<br>Average People Harmed Per Year=%{customdata[0]}<extra></extra>\", \"legendgroup\": \"Russia\", \"marker\": {\"color\": \"#FF6692\"}, \"name\": \"Russia\", \"offsetgroup\": \"Russia\", \"orientation\": \"h\", \"showlegend\": true, \"textposition\": \"auto\", \"type\": \"bar\", \"x\": [3.0840501322629164e-05], \"xaxis\": \"x\", \"y\": [\"Russia\"], \"yaxis\": \"y\"}, {\"alignmentgroup\": \"True\", \"customdata\": [[1.0]], \"hovertemplate\": \"Country=%{y}<br>Avg Incident Per Thousand People=%{x}<br>Average People Harmed Per Year=%{customdata[0]}<extra></extra>\", \"legendgroup\": \"Malaysia\", \"marker\": {\"color\": \"#B6E880\"}, \"name\": \"Malaysia\", \"offsetgroup\": \"Malaysia\", \"orientation\": \"h\", \"showlegend\": true, \"textposition\": \"auto\", \"type\": \"bar\", \"x\": [3.05099487756266e-05], \"xaxis\": \"x\", \"y\": [\"Malaysia\"], \"yaxis\": \"y\"}, {\"alignmentgroup\": \"True\", \"customdata\": [[11.5]], \"hovertemplate\": \"Country=%{y}<br>Avg Incident Per Thousand People=%{x}<br>Average People Harmed Per Year=%{customdata[0]}<extra></extra>\", \"legendgroup\": \"Angola\", \"marker\": {\"color\": \"#FF97FF\"}, \"name\": \"Angola\", \"offsetgroup\": \"Angola\", \"orientation\": \"h\", \"showlegend\": true, \"textposition\": \"auto\", \"type\": \"bar\", \"x\": [2.946930786320701e-05], \"xaxis\": \"x\", \"y\": [\"Angola\"], \"yaxis\": \"y\"}, {\"alignmentgroup\": \"True\", \"customdata\": [[156.2]], \"hovertemplate\": \"Country=%{y}<br>Avg Incident Per Thousand People=%{x}<br>Average People Harmed Per Year=%{customdata[0]}<extra></extra>\", \"legendgroup\": \"India\", \"marker\": {\"color\": \"#FECB52\"}, \"name\": \"India\", \"offsetgroup\": \"India\", \"orientation\": \"h\", \"showlegend\": true, \"textposition\": \"auto\", \"type\": \"bar\", \"x\": [2.942423859891743e-05], \"xaxis\": \"x\", \"y\": [\"India\"], \"yaxis\": \"y\"}, {\"alignmentgroup\": \"True\", \"customdata\": [[10.0]], \"hovertemplate\": \"Country=%{y}<br>Avg Incident Per Thousand People=%{x}<br>Average People Harmed Per Year=%{customdata[0]}<extra></extra>\", \"legendgroup\": \"Uganda\", \"marker\": {\"color\": \"#636efa\"}, \"name\": \"Uganda\", \"offsetgroup\": \"Uganda\", \"orientation\": \"h\", \"showlegend\": true, \"textposition\": \"auto\", \"type\": \"bar\", \"x\": [2.8294427540528175e-05], \"xaxis\": \"x\", \"y\": [\"Uganda\"], \"yaxis\": \"y\"}, {\"alignmentgroup\": \"True\", \"customdata\": [[2.5]], \"hovertemplate\": \"Country=%{y}<br>Avg Incident Per Thousand People=%{x}<br>Average People Harmed Per Year=%{customdata[0]}<extra></extra>\", \"legendgroup\": \"South Africa\", \"marker\": {\"color\": \"#EF553B\"}, \"name\": \"South Africa\", \"offsetgroup\": \"South Africa\", \"orientation\": \"h\", \"showlegend\": true, \"textposition\": \"auto\", \"type\": \"bar\", \"x\": [2.775834970881658e-05], \"xaxis\": \"x\", \"y\": [\"South Africa\"], \"yaxis\": \"y\"}, {\"alignmentgroup\": \"True\", \"customdata\": [[31.0]], \"hovertemplate\": \"Country=%{y}<br>Avg Incident Per Thousand People=%{x}<br>Average People Harmed Per Year=%{customdata[0]}<extra></extra>\", \"legendgroup\": \"Tanzania\", \"marker\": {\"color\": \"#00cc96\"}, \"name\": \"Tanzania\", \"offsetgroup\": \"Tanzania\", \"orientation\": \"h\", \"showlegend\": true, \"textposition\": \"auto\", \"type\": \"bar\", \"x\": [1.626057585821246e-05], \"xaxis\": \"x\", \"y\": [\"Tanzania\"], \"yaxis\": \"y\"}, {\"alignmentgroup\": \"True\", \"customdata\": [[2.0]], \"hovertemplate\": \"Country=%{y}<br>Avg Incident Per Thousand People=%{x}<br>Average People Harmed Per Year=%{customdata[0]}<extra></extra>\", \"legendgroup\": \"Vietnam\", \"marker\": {\"color\": \"#ab63fa\"}, \"name\": \"Vietnam\", \"offsetgroup\": \"Vietnam\", \"orientation\": \"h\", \"showlegend\": true, \"textposition\": \"auto\", \"type\": \"bar\", \"x\": [1.5279798630182352e-05], \"xaxis\": \"x\", \"y\": [\"Vietnam\"], \"yaxis\": \"y\"}, {\"alignmentgroup\": \"True\", \"customdata\": [[7.75]], \"hovertemplate\": \"Country=%{y}<br>Avg Incident Per Thousand People=%{x}<br>Average People Harmed Per Year=%{customdata[0]}<extra></extra>\", \"legendgroup\": \"Indonesia\", \"marker\": {\"color\": \"#FFA15A\"}, \"name\": \"Indonesia\", \"offsetgroup\": \"Indonesia\", \"orientation\": \"h\", \"showlegend\": true, \"textposition\": \"auto\", \"type\": \"bar\", \"x\": [1.0855335956491495e-05], \"xaxis\": \"x\", \"y\": [\"Indonesia\"], \"yaxis\": \"y\"}, {\"alignmentgroup\": \"True\", \"customdata\": [[1.0]], \"hovertemplate\": \"Country=%{y}<br>Avg Incident Per Thousand People=%{x}<br>Average People Harmed Per Year=%{customdata[0]}<extra></extra>\", \"legendgroup\": \"Brazil\", \"marker\": {\"color\": \"#19d3f3\"}, \"name\": \"Brazil\", \"offsetgroup\": \"Brazil\", \"orientation\": \"h\", \"showlegend\": true, \"textposition\": \"auto\", \"type\": \"bar\", \"x\": [4.673040510116205e-06], \"xaxis\": \"x\", \"y\": [\"Brazil\"], \"yaxis\": \"y\"}, {\"alignmentgroup\": \"True\", \"customdata\": [[3.6666666666666665]], \"hovertemplate\": \"Country=%{y}<br>Avg Incident Per Thousand People=%{x}<br>Average People Harmed Per Year=%{customdata[0]}<extra></extra>\", \"legendgroup\": \"China\", \"marker\": {\"color\": \"#FF6692\"}, \"name\": \"China\", \"offsetgroup\": \"China\", \"orientation\": \"h\", \"showlegend\": true, \"textposition\": \"auto\", \"type\": \"bar\", \"x\": [1.1540285824181482e-06], \"xaxis\": \"x\", \"y\": [\"China\"], \"yaxis\": \"y\"}],                        {\"barmode\": \"relative\", \"legend\": {\"title\": {\"text\": \"Country\"}, \"tracegroupgap\": 0}, \"template\": {\"data\": {\"bar\": [{\"error_x\": {\"color\": \"#2a3f5f\"}, \"error_y\": {\"color\": \"#2a3f5f\"}, \"marker\": {\"line\": {\"color\": \"#E5ECF6\", \"width\": 0.5}}, \"type\": \"bar\"}], \"barpolar\": [{\"marker\": {\"line\": {\"color\": \"#E5ECF6\", \"width\": 0.5}}, \"type\": \"barpolar\"}], \"carpet\": [{\"aaxis\": {\"endlinecolor\": \"#2a3f5f\", \"gridcolor\": \"white\", \"linecolor\": \"white\", \"minorgridcolor\": \"white\", \"startlinecolor\": \"#2a3f5f\"}, \"baxis\": {\"endlinecolor\": \"#2a3f5f\", \"gridcolor\": \"white\", \"linecolor\": \"white\", \"minorgridcolor\": \"white\", \"startlinecolor\": \"#2a3f5f\"}, \"type\": \"carpet\"}], \"choropleth\": [{\"colorbar\": {\"outlinewidth\": 0, \"ticks\": \"\"}, \"type\": \"choropleth\"}], \"contour\": [{\"colorbar\": {\"outlinewidth\": 0, \"ticks\": \"\"}, \"colorscale\": [[0.0, \"#0d0887\"], [0.1111111111111111, \"#46039f\"], [0.2222222222222222, \"#7201a8\"], [0.3333333333333333, \"#9c179e\"], [0.4444444444444444, \"#bd3786\"], [0.5555555555555556, \"#d8576b\"], [0.6666666666666666, \"#ed7953\"], [0.7777777777777778, \"#fb9f3a\"], [0.8888888888888888, \"#fdca26\"], [1.0, \"#f0f921\"]], \"type\": \"contour\"}], \"contourcarpet\": [{\"colorbar\": {\"outlinewidth\": 0, \"ticks\": \"\"}, \"type\": \"contourcarpet\"}], \"heatmap\": [{\"colorbar\": {\"outlinewidth\": 0, \"ticks\": \"\"}, \"colorscale\": [[0.0, \"#0d0887\"], [0.1111111111111111, \"#46039f\"], [0.2222222222222222, \"#7201a8\"], [0.3333333333333333, \"#9c179e\"], [0.4444444444444444, \"#bd3786\"], [0.5555555555555556, \"#d8576b\"], [0.6666666666666666, \"#ed7953\"], [0.7777777777777778, \"#fb9f3a\"], [0.8888888888888888, \"#fdca26\"], [1.0, \"#f0f921\"]], \"type\": \"heatmap\"}], \"heatmapgl\": [{\"colorbar\": {\"outlinewidth\": 0, \"ticks\": \"\"}, \"colorscale\": [[0.0, \"#0d0887\"], [0.1111111111111111, \"#46039f\"], [0.2222222222222222, \"#7201a8\"], [0.3333333333333333, \"#9c179e\"], [0.4444444444444444, \"#bd3786\"], [0.5555555555555556, \"#d8576b\"], [0.6666666666666666, \"#ed7953\"], [0.7777777777777778, \"#fb9f3a\"], [0.8888888888888888, \"#fdca26\"], [1.0, \"#f0f921\"]], \"type\": \"heatmapgl\"}], \"histogram\": [{\"marker\": {\"colorbar\": {\"outlinewidth\": 0, \"ticks\": \"\"}}, \"type\": \"histogram\"}], \"histogram2d\": [{\"colorbar\": {\"outlinewidth\": 0, \"ticks\": \"\"}, \"colorscale\": [[0.0, \"#0d0887\"], [0.1111111111111111, \"#46039f\"], [0.2222222222222222, \"#7201a8\"], [0.3333333333333333, \"#9c179e\"], [0.4444444444444444, \"#bd3786\"], [0.5555555555555556, \"#d8576b\"], [0.6666666666666666, \"#ed7953\"], [0.7777777777777778, \"#fb9f3a\"], [0.8888888888888888, \"#fdca26\"], [1.0, \"#f0f921\"]], \"type\": \"histogram2d\"}], \"histogram2dcontour\": [{\"colorbar\": {\"outlinewidth\": 0, \"ticks\": \"\"}, \"colorscale\": [[0.0, \"#0d0887\"], [0.1111111111111111, \"#46039f\"], [0.2222222222222222, \"#7201a8\"], [0.3333333333333333, \"#9c179e\"], [0.4444444444444444, \"#bd3786\"], [0.5555555555555556, \"#d8576b\"], [0.6666666666666666, \"#ed7953\"], [0.7777777777777778, \"#fb9f3a\"], [0.8888888888888888, \"#fdca26\"], [1.0, \"#f0f921\"]], \"type\": \"histogram2dcontour\"}], \"mesh3d\": [{\"colorbar\": {\"outlinewidth\": 0, \"ticks\": \"\"}, \"type\": \"mesh3d\"}], \"parcoords\": [{\"line\": {\"colorbar\": {\"outlinewidth\": 0, \"ticks\": \"\"}}, \"type\": \"parcoords\"}], \"pie\": [{\"automargin\": true, \"type\": \"pie\"}], \"scatter\": [{\"marker\": {\"colorbar\": {\"outlinewidth\": 0, \"ticks\": \"\"}}, \"type\": \"scatter\"}], \"scatter3d\": [{\"line\": {\"colorbar\": {\"outlinewidth\": 0, \"ticks\": \"\"}}, \"marker\": {\"colorbar\": {\"outlinewidth\": 0, \"ticks\": \"\"}}, \"type\": \"scatter3d\"}], \"scattercarpet\": [{\"marker\": {\"colorbar\": {\"outlinewidth\": 0, \"ticks\": \"\"}}, \"type\": \"scattercarpet\"}], \"scattergeo\": [{\"marker\": {\"colorbar\": {\"outlinewidth\": 0, \"ticks\": \"\"}}, \"type\": \"scattergeo\"}], \"scattergl\": [{\"marker\": {\"colorbar\": {\"outlinewidth\": 0, \"ticks\": \"\"}}, \"type\": \"scattergl\"}], \"scattermapbox\": [{\"marker\": {\"colorbar\": {\"outlinewidth\": 0, \"ticks\": \"\"}}, \"type\": \"scattermapbox\"}], \"scatterpolar\": [{\"marker\": {\"colorbar\": {\"outlinewidth\": 0, \"ticks\": \"\"}}, \"type\": \"scatterpolar\"}], \"scatterpolargl\": [{\"marker\": {\"colorbar\": {\"outlinewidth\": 0, \"ticks\": \"\"}}, \"type\": \"scatterpolargl\"}], \"scatterternary\": [{\"marker\": {\"colorbar\": {\"outlinewidth\": 0, \"ticks\": \"\"}}, \"type\": \"scatterternary\"}], \"surface\": [{\"colorbar\": {\"outlinewidth\": 0, \"ticks\": \"\"}, \"colorscale\": [[0.0, \"#0d0887\"], [0.1111111111111111, \"#46039f\"], [0.2222222222222222, \"#7201a8\"], [0.3333333333333333, \"#9c179e\"], [0.4444444444444444, \"#bd3786\"], [0.5555555555555556, \"#d8576b\"], [0.6666666666666666, \"#ed7953\"], [0.7777777777777778, \"#fb9f3a\"], [0.8888888888888888, \"#fdca26\"], [1.0, \"#f0f921\"]], \"type\": \"surface\"}], \"table\": [{\"cells\": {\"fill\": {\"color\": \"#EBF0F8\"}, \"line\": {\"color\": \"white\"}}, \"header\": {\"fill\": {\"color\": \"#C8D4E3\"}, \"line\": {\"color\": \"white\"}}, \"type\": \"table\"}]}, \"layout\": {\"annotationdefaults\": {\"arrowcolor\": \"#2a3f5f\", \"arrowhead\": 0, \"arrowwidth\": 1}, \"autotypenumbers\": \"strict\", \"coloraxis\": {\"colorbar\": {\"outlinewidth\": 0, \"ticks\": \"\"}}, \"colorscale\": {\"diverging\": [[0, \"#8e0152\"], [0.1, \"#c51b7d\"], [0.2, \"#de77ae\"], [0.3, \"#f1b6da\"], [0.4, \"#fde0ef\"], [0.5, \"#f7f7f7\"], [0.6, \"#e6f5d0\"], [0.7, \"#b8e186\"], [0.8, \"#7fbc41\"], [0.9, \"#4d9221\"], [1, \"#276419\"]], \"sequential\": [[0.0, \"#0d0887\"], [0.1111111111111111, \"#46039f\"], [0.2222222222222222, \"#7201a8\"], [0.3333333333333333, \"#9c179e\"], [0.4444444444444444, \"#bd3786\"], [0.5555555555555556, \"#d8576b\"], [0.6666666666666666, \"#ed7953\"], [0.7777777777777778, \"#fb9f3a\"], [0.8888888888888888, \"#fdca26\"], [1.0, \"#f0f921\"]], \"sequentialminus\": [[0.0, \"#0d0887\"], [0.1111111111111111, \"#46039f\"], [0.2222222222222222, \"#7201a8\"], [0.3333333333333333, \"#9c179e\"], [0.4444444444444444, \"#bd3786\"], [0.5555555555555556, \"#d8576b\"], [0.6666666666666666, \"#ed7953\"], [0.7777777777777778, \"#fb9f3a\"], [0.8888888888888888, \"#fdca26\"], [1.0, \"#f0f921\"]]}, \"colorway\": [\"#636efa\", \"#EF553B\", \"#00cc96\", \"#ab63fa\", \"#FFA15A\", \"#19d3f3\", \"#FF6692\", \"#B6E880\", \"#FF97FF\", \"#FECB52\"], \"font\": {\"color\": \"#2a3f5f\"}, \"geo\": {\"bgcolor\": \"white\", \"lakecolor\": \"white\", \"landcolor\": \"#E5ECF6\", \"showlakes\": true, \"showland\": true, \"subunitcolor\": \"white\"}, \"hoverlabel\": {\"align\": \"left\"}, \"hovermode\": \"closest\", \"mapbox\": {\"style\": \"light\"}, \"paper_bgcolor\": \"white\", \"plot_bgcolor\": \"#E5ECF6\", \"polar\": {\"angularaxis\": {\"gridcolor\": \"white\", \"linecolor\": \"white\", \"ticks\": \"\"}, \"bgcolor\": \"#E5ECF6\", \"radialaxis\": {\"gridcolor\": \"white\", \"linecolor\": \"white\", \"ticks\": \"\"}}, \"scene\": {\"xaxis\": {\"backgroundcolor\": \"#E5ECF6\", \"gridcolor\": \"white\", \"gridwidth\": 2, \"linecolor\": \"white\", \"showbackground\": true, \"ticks\": \"\", \"zerolinecolor\": \"white\"}, \"yaxis\": {\"backgroundcolor\": \"#E5ECF6\", \"gridcolor\": \"white\", \"gridwidth\": 2, \"linecolor\": \"white\", \"showbackground\": true, \"ticks\": \"\", \"zerolinecolor\": \"white\"}, \"zaxis\": {\"backgroundcolor\": \"#E5ECF6\", \"gridcolor\": \"white\", \"gridwidth\": 2, \"linecolor\": \"white\", \"showbackground\": true, \"ticks\": \"\", \"zerolinecolor\": \"white\"}}, \"shapedefaults\": {\"line\": {\"color\": \"#2a3f5f\"}}, \"ternary\": {\"aaxis\": {\"gridcolor\": \"white\", \"linecolor\": \"white\", \"ticks\": \"\"}, \"baxis\": {\"gridcolor\": \"white\", \"linecolor\": \"white\", \"ticks\": \"\"}, \"bgcolor\": \"#E5ECF6\", \"caxis\": {\"gridcolor\": \"white\", \"linecolor\": \"white\", \"ticks\": \"\"}}, \"title\": {\"x\": 0.05}, \"xaxis\": {\"automargin\": true, \"gridcolor\": \"white\", \"linecolor\": \"white\", \"ticks\": \"\", \"title\": {\"standoff\": 15}, \"zerolinecolor\": \"white\", \"zerolinewidth\": 2}, \"yaxis\": {\"automargin\": true, \"gridcolor\": \"white\", \"linecolor\": \"white\", \"ticks\": \"\", \"title\": {\"standoff\": 15}, \"zerolinecolor\": \"white\", \"zerolinewidth\": 2}}}, \"title\": {\"text\": \"School attack data by country Average Incidents per 1000 people\"}, \"xaxis\": {\"anchor\": \"y\", \"domain\": [0.0, 1.0], \"title\": {\"text\": \"Avg Incident Per Thousand People\"}}, \"yaxis\": {\"anchor\": \"x\", \"categoryarray\": [\"China\", \"Brazil\", \"Indonesia\", \"Vietnam\", \"Tanzania\", \"South Africa\", \"Uganda\", \"India\", \"Angola\", \"Malaysia\", \"Russia\", \"Iran\", \"Ecuador\", \"Senegal\", \"Ethiopia\", \"Haiti\", \"United Arab Emirates\", \"Malawi\", \"Chile\", \"Belarus\", \"Sri Lanka\", \"Togo\", \"Chad\", \"Niger\", \"Kenya\", \"Egypt\", \"Papua New Guinea\", \"Bangladesh\", \"Sierra Leone\", \"Myanmar\", \"Zimbabwe\", \"Israel\", \"Sweden\", \"Turkey\", \"Pakistan\", \"Colombia\", \"Venezuela\", \"Thailand\", \"Lebanon\", \"Sudan\", \"Philippines\", \"Cameroon\", \"Bahrain\", \"Burundi\", \"Nigeria\", \"Mali\", \"Iraq\", \"Libya\", \"Ukraine\", \"Afghanistan\", \"Somalia\", \"Syria\", \"Yemen\", \"Central African Republic\", \"South Sudan\", \"Democratic Republic of Congo\", \"Palestine\"], \"categoryorder\": \"array\", \"domain\": [0.0, 1.0], \"title\": {\"text\": \"Country\"}}},                        {\"responsive\": true}                    ).then(function(){\n",
       "                            \n",
       "var gd = document.getElementById('e2509bf0-7848-44f7-82df-118d3ec6a0d3');\n",
       "var x = new MutationObserver(function (mutations, observer) {{\n",
       "        var display = window.getComputedStyle(gd).display;\n",
       "        if (!display || display === 'none') {{\n",
       "            console.log([gd, 'removed!']);\n",
       "            Plotly.purge(gd);\n",
       "            observer.disconnect();\n",
       "        }}\n",
       "}});\n",
       "\n",
       "// Listen for the removal of the full notebook cells\n",
       "var notebookContainer = gd.closest('#notebook-container');\n",
       "if (notebookContainer) {{\n",
       "    x.observe(notebookContainer, {childList: true});\n",
       "}}\n",
       "\n",
       "// Listen for the clearing of the current output cell\n",
       "var outputEl = gd.closest('.output');\n",
       "if (outputEl) {{\n",
       "    x.observe(outputEl, {childList: true});\n",
       "}}\n",
       "\n",
       "                        })                };                });            </script>        </div>"
      ]
     },
     "metadata": {},
     "output_type": "display_data"
    }
   ],
   "source": [
    "fig = px.bar(popdf, x=\"Avg Incident Per Thousand People\", y='Country', color=\"Country\", hover_data=['Average People Harmed Per Year'],orientation='h', title='School attack data by country Average Incidents per 1000 people')\n",
    "fig.show()"
   ]
  },
  {
   "cell_type": "code",
   "execution_count": null,
   "id": "e8b28dca",
   "metadata": {},
   "outputs": [],
   "source": []
  }
 ],
 "metadata": {
  "kernelspec": {
   "display_name": "Python 3",
   "language": "python",
   "name": "python3"
  },
  "language_info": {
   "codemirror_mode": {
    "name": "ipython",
    "version": 3
   },
   "file_extension": ".py",
   "mimetype": "text/x-python",
   "name": "python",
   "nbconvert_exporter": "python",
   "pygments_lexer": "ipython3",
   "version": "3.8.11"
  }
 },
 "nbformat": 4,
 "nbformat_minor": 5
}
